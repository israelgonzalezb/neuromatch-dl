{
  "cells": [
    {
      "cell_type": "markdown",
      "metadata": {
        "id": "view-in-github",
        "colab_type": "text"
      },
      "source": [
        "<a href=\"https://colab.research.google.com/github/israelgonzalezb/neuromatch-dl/blob/main/tutorials/W1D1_BasicsAndPytorch/student/W1D1_Tutorial1.ipynb\" target=\"_parent\"><img src=\"https://colab.research.google.com/assets/colab-badge.svg\" alt=\"Open In Colab\"/></a>"
      ]
    },
    {
      "cell_type": "markdown",
      "metadata": {
        "execution": {},
        "id": "QQ55ekHPbK74"
      },
      "source": [
        "# Tutorial 1: PyTorch\n",
        "**Week 1, Day 1: Basics and PyTorch**\n",
        "\n",
        "**By Neuromatch Academy**\n",
        "\n",
        "\n",
        "__Content creators:__ Shubh Pachchigar, Vladimir Haltakov, Matthew Sargent, Konrad Kording\n",
        "\n",
        "__Content reviewers:__ Deepak Raya, Siwei Bai, Kelson Shilling-Scrivo\n",
        "\n",
        "__Content editors:__ Anoop Kulkarni, Spiros Chavlis\n",
        "\n",
        "__Production editors:__ Arush Tagade, Spiros Chavlis"
      ]
    },
    {
      "cell_type": "markdown",
      "metadata": {
        "execution": {},
        "id": "6J6eZbwwbK7_"
      },
      "source": [
        "<p align='center'><img src='https://github.com/NeuromatchAcademy/widgets/blob/master/sponsors.png?raw=True'/></p>"
      ]
    },
    {
      "cell_type": "markdown",
      "metadata": {
        "execution": {},
        "id": "LD5XC6DZbK8A"
      },
      "source": [
        "---\n",
        "# Tutorial Objectives\n",
        "\n",
        "Then have a few specific objectives for this tutorial:\n",
        "* Learn about PyTorch and tensors\n",
        "* Tensor Manipulations\n",
        "* Data Loading\n",
        "* GPUs and Cuda Tensors\n",
        "* Train NaiveNet\n",
        "* Get to know your pod\n",
        "* Start thinking about the course as a whole"
      ]
    },
    {
      "cell_type": "code",
      "execution_count": null,
      "metadata": {
        "cellView": "form",
        "execution": {},
        "id": "o5b5zsmjbK8B"
      },
      "outputs": [],
      "source": [
        "# @title Tutorial slides\n",
        "\n",
        "from IPython.display import IFrame\n",
        "IFrame(src=f\"https://mfr.ca-1.osf.io/render?url=https://osf.io/wcjrv/?direct%26mode=render%26action=download%26mode=render\", width=854, height=480)"
      ]
    },
    {
      "cell_type": "markdown",
      "metadata": {
        "execution": {},
        "id": "UZQi_k7RbK8D"
      },
      "source": [
        "These are the slides for all videos in this tutorial. If you want to locally dowload the slides, click [here](https://osf.io/wcjrv/download).\n"
      ]
    },
    {
      "cell_type": "markdown",
      "metadata": {
        "execution": {},
        "id": "2DIz3Q8HbK8D"
      },
      "source": [
        "---\n",
        "# Setup"
      ]
    },
    {
      "cell_type": "markdown",
      "metadata": {
        "execution": {},
        "id": "FLeVTkbxbK8E"
      },
      "source": [
        "Throughout your Neuromatch tutorials, most (probably all!) notebooks contain setup cells. These cells will import the required Python packages (e.g., PyTorch, NumPy); set global or environment variables, and load in helper functions for things like plotting. In some tutorials, you will notice that we install some dependencies even if they are preinstalled on Google Colab or Kaggle. This happens because we have added automation to our repository through [GitHub Actions](https://docs.github.com/en/actions/learn-github-actions/introduction-to-github-actions).\n",
        "\n",
        "Be sure to run all of the cells in the setup section. Feel free to expand them and have a look at what you are loading in, but you should be able to fulfill the learning objectives of every tutorial without having to look at these cells.\n",
        "\n",
        "If you start building your own projects built on this code base we highly recommend looking at them in more detail."
      ]
    },
    {
      "cell_type": "code",
      "execution_count": 2,
      "metadata": {
        "cellView": "form",
        "execution": {},
        "id": "7M9bjEFebK8F",
        "outputId": "319b36c0-e881-406b-ed94-c3b2ae8827be",
        "colab": {
          "base_uri": "https://localhost:8080/"
        }
      },
      "outputs": [
        {
          "output_type": "stream",
          "name": "stdout",
          "text": [
            "  Building wheel for evaltools (setup.py) ... \u001b[?25l\u001b[?25hdone\n"
          ]
        }
      ],
      "source": [
        "# @title Install dependencies\n",
        "!pip install pandas --quiet\n",
        "!pip install git+https://github.com/NeuromatchAcademy/evaltools --quiet\n",
        "\n",
        "from evaltools.airtable import AirtableForm\n",
        "atform = AirtableForm('appn7VdPRseSoMXEG','W1D1_T1','https://portal.neuromatchacademy.org/api/redirect/to/f2da6480-069c-49b9-a37b-8750f9d6f359')"
      ]
    },
    {
      "cell_type": "code",
      "execution_count": 3,
      "metadata": {
        "execution": {},
        "id": "IrWjzX5RbK8G"
      },
      "outputs": [],
      "source": [
        "# Imports\n",
        "import time\n",
        "import random\n",
        "import numpy as np\n",
        "import pandas as pd\n",
        "import matplotlib.pyplot as plt\n",
        "\n",
        "# PyTorch libraries\n",
        "import torch\n",
        "from torch import nn\n",
        "from torchvision import datasets\n",
        "from torch.utils.data import DataLoader\n",
        "from torchvision.transforms import ToTensor"
      ]
    },
    {
      "cell_type": "code",
      "execution_count": 4,
      "metadata": {
        "cellView": "form",
        "execution": {},
        "id": "UgQHYBqWbK8H"
      },
      "outputs": [],
      "source": [
        "# @title Figure Settings\n",
        "import ipywidgets as widgets\n",
        "%config InlineBackend.figure_format = 'retina'\n",
        "plt.style.use(\"https://raw.githubusercontent.com/NeuromatchAcademy/content-creation/main/nma.mplstyle\")"
      ]
    },
    {
      "cell_type": "code",
      "execution_count": 5,
      "metadata": {
        "cellView": "form",
        "execution": {},
        "id": "WvxdNdpDbK8H"
      },
      "outputs": [],
      "source": [
        "# @title Helper Functions\n",
        "\n",
        "def checkExercise1(A, B, C, D):\n",
        "  \"\"\"\n",
        "  Helper function for checking Exercise 1.\n",
        "\n",
        "  Args:\n",
        "    A: torch.Tensor\n",
        "      Torch Tensor of shape (20, 21) consisting of ones.\n",
        "    B: torch.Tensor\n",
        "      Torch Tensor of size([3,4])\n",
        "    C: torch.Tensor\n",
        "      Torch Tensor of size([20,21])\n",
        "    D: torch.Tensor\n",
        "      Torch Tensor of size([19])\n",
        "\n",
        "  Returns:\n",
        "    Nothing.\n",
        "  \"\"\"\n",
        "  assert torch.equal(A.to(int),torch.ones(20, 21).to(int)), \"Got: {A} \\n Expected: {torch.ones(20, 21)} (shape: {torch.ones(20, 21).shape})\"\n",
        "  assert np.array_equal(B.numpy(),np.vander([1, 2, 3], 4)), \"Got: {B} \\n Expected: {np.vander([1, 2, 3], 4)} (shape: {np.vander([1, 2, 3], 4).shape})\"\n",
        "  assert C.shape == (20, 21), \"Got: {C} \\n Expected (shape: {(20, 21)})\"\n",
        "  assert torch.equal(D, torch.arange(4, 41, step=2)), \"Got {D} \\n Expected: {torch.arange(4, 41, step=2)} (shape: {torch.arange(4, 41, step=2).shape})\"\n",
        "  print(\"All correct\")\n",
        "\n",
        "def timeFun(f, dim, iterations, device='cpu'):\n",
        "  \"\"\"\n",
        "  Helper function to calculate amount of time taken per instance on CPU/GPU\n",
        "\n",
        "  Args:\n",
        "    f: BufferedReader IO instance\n",
        "      Function name for which to calculate computational time complexity\n",
        "    dim: Integer\n",
        "      Number of dimensions in instance in question\n",
        "    iterations: Integer\n",
        "      Number of iterations for instance in question\n",
        "    device: String\n",
        "      Device on which respective computation is to be run\n",
        "\n",
        "  Returns:\n",
        "    Nothing\n",
        "  \"\"\"\n",
        "  iterations = iterations\n",
        "  t_total = 0\n",
        "  for _ in range(iterations):\n",
        "    start = time.time()\n",
        "    f(dim, device)\n",
        "    end = time.time()\n",
        "    t_total += end - start\n",
        "\n",
        "  if device == 'cpu':\n",
        "    print(f\"time taken for {iterations} iterations of {f.__name__}({dim}, {device}): {t_total:.5f}\")\n",
        "  else:\n",
        "    print(f\"time taken for {iterations} iterations of {f.__name__}({dim}, {device}): {t_total:.5f}\")"
      ]
    },
    {
      "cell_type": "markdown",
      "metadata": {
        "execution": {},
        "id": "oaYMSKThbK8I"
      },
      "source": [
        "**Important note: Colab users**\n",
        "\n",
        "*Scratch Code Cells*\n",
        "\n",
        "If you want to quickly try out something or take a look at the data, you can use scratch code cells. They allow you to run Python code, but will not mess up the structure of your notebook.\n",
        "\n",
        "To open a new scratch cell go to *Insert* → *Scratch code cell*."
      ]
    },
    {
      "cell_type": "markdown",
      "metadata": {
        "execution": {},
        "id": "cbaiaa7XbK8J"
      },
      "source": [
        "# Section 1: Welcome to Neuromatch Deep learning course\n",
        "\n",
        "*Time estimate: ~25mins*"
      ]
    },
    {
      "cell_type": "code",
      "execution_count": null,
      "metadata": {
        "cellView": "form",
        "execution": {},
        "id": "cB15RSNKbK8J"
      },
      "outputs": [],
      "source": [
        "# @title Video 1: Welcome and History\n",
        "from ipywidgets import widgets\n",
        "\n",
        "out2 = widgets.Output()\n",
        "with out2:\n",
        "  from IPython.display import IFrame\n",
        "  class BiliVideo(IFrame):\n",
        "    def __init__(self, id, page=1, width=400, height=300, **kwargs):\n",
        "      self.id=id\n",
        "      src = \"https://player.bilibili.com/player.html?bvid={0}&page={1}\".format(id, page)\n",
        "      super(BiliVideo, self).__init__(src, width, height, **kwargs)\n",
        "\n",
        "  video = BiliVideo(id=f\"BV1Av411n7oL\", width=854, height=480, fs=1)\n",
        "  print(\"Video available at https://www.bilibili.com/video/{0}\".format(video.id))\n",
        "  display(video)\n",
        "\n",
        "out1 = widgets.Output()\n",
        "with out1:\n",
        "  from IPython.display import YouTubeVideo\n",
        "  video = YouTubeVideo(id=f\"ca21SNqt78I\", width=854, height=480, fs=1, rel=0)\n",
        "  print(\"Video available at https://youtube.com/watch?v=\" + video.id)\n",
        "  display(video)\n",
        "\n",
        "out = widgets.Tab([out1, out2])\n",
        "out.set_title(0, 'Youtube')\n",
        "out.set_title(1, 'Bilibili')\n",
        "\n",
        "# add timing\n",
        "atform.add_event('Video 1: Welcome and History')\n",
        "\n",
        "display(out)"
      ]
    },
    {
      "cell_type": "markdown",
      "metadata": {
        "execution": {},
        "id": "BxjghAmYbK8K"
      },
      "source": [
        "This will be an intensive 3 week adventure. We will all learn Deep Learning (DL) in a group. Groups need standards. Read our \n",
        "[Code of Conduct](https://docs.google.com/document/d/1eHKIkaNbAlbx_92tLQelXnicKXEcvFzlyzzeWjEtifM/edit?usp=sharing).\n"
      ]
    },
    {
      "cell_type": "code",
      "execution_count": null,
      "metadata": {
        "cellView": "form",
        "execution": {},
        "id": "wG-D0IDGbK8K"
      },
      "outputs": [],
      "source": [
        "# @title Video 2: Why DL is cool\n",
        "from ipywidgets import widgets\n",
        "\n",
        "out2 = widgets.Output()\n",
        "with out2:\n",
        "  from IPython.display import IFrame\n",
        "  class BiliVideo(IFrame):\n",
        "    def __init__(self, id, page=1, width=400, height=300, **kwargs):\n",
        "      self.id=id\n",
        "      src = \"https://player.bilibili.com/player.html?bvid={0}&page={1}\".format(id, page)\n",
        "      super(BiliVideo, self).__init__(src, width, height, **kwargs)\n",
        "\n",
        "  video = BiliVideo(id=f\"BV1gf4y1j7UZ\", width=854, height=480, fs=1)\n",
        "  print(\"Video available at https://www.bilibili.com/video/{0}\".format(video.id))\n",
        "  display(video)\n",
        "\n",
        "out1 = widgets.Output()\n",
        "with out1:\n",
        "  from IPython.display import YouTubeVideo\n",
        "  video = YouTubeVideo(id=f\"l-K6495BN-4\", width=854, height=480, fs=1, rel=0)\n",
        "  print(\"Video available at https://youtube.com/watch?v=\" + video.id)\n",
        "  display(video)\n",
        "\n",
        "out = widgets.Tab([out1, out2])\n",
        "out.set_title(0, 'Youtube')\n",
        "out.set_title(1, 'Bilibili')\n",
        "\n",
        "# add timing to airtable\n",
        "atform.add_event('Video 2: Why DL is cool')\n",
        "\n",
        "display(out)"
      ]
    },
    {
      "cell_type": "markdown",
      "metadata": {
        "execution": {},
        "id": "QBNyhcz7bK8L"
      },
      "source": [
        "**Discuss with your pod: What do you hope to get out of this course? [in about 100 words]**"
      ]
    },
    {
      "cell_type": "markdown",
      "metadata": {
        "execution": {},
        "id": "pW6vRThGbK8L"
      },
      "source": [
        "---\n",
        "# Section 2: The Basics of PyTorch\n",
        "\n",
        "*Time estimate: ~2 hours 05 mins*"
      ]
    },
    {
      "cell_type": "markdown",
      "metadata": {
        "execution": {},
        "id": "BnvSp37pbK8M"
      },
      "source": [
        "PyTorch is a Python-based scientific computing package targeted at two sets of\n",
        "audiences:\n",
        "\n",
        "-  A replacement for NumPy optimized for the power of GPUs\n",
        "-  A deep learning platform that provides significant flexibility\n",
        "   and speed\n",
        "\n",
        "At its core, PyTorch provides a few key features:\n",
        "\n",
        "- A multidimensional [Tensor](https://pytorch.org/docs/stable/tensors.html) object, similar to [NumPy Array](https://numpy.org/doc/stable/reference/generated/numpy.ndarray.html) but with GPU acceleration.\n",
        "- An optimized **autograd** engine for automatically computing derivatives.\n",
        "- A clean, modular API for building and deploying **deep learning models**.\n",
        "\n",
        "You can find more information about PyTorch in the Appendix."
      ]
    },
    {
      "cell_type": "markdown",
      "metadata": {
        "execution": {},
        "id": "SL1osR6xbK8M"
      },
      "source": [
        "## Section 2.1: Creating Tensors\n"
      ]
    },
    {
      "cell_type": "code",
      "execution_count": null,
      "metadata": {
        "cellView": "form",
        "execution": {},
        "id": "j-opijA9bK8M"
      },
      "outputs": [],
      "source": [
        "# @title Video 3: Making Tensors\n",
        "from ipywidgets import widgets\n",
        "\n",
        "out2 = widgets.Output()\n",
        "with out2:\n",
        "  from IPython.display import IFrame\n",
        "  class BiliVideo(IFrame):\n",
        "    def __init__(self, id, page=1, width=400, height=300, **kwargs):\n",
        "      self.id=id\n",
        "      src = \"https://player.bilibili.com/player.html?bvid={0}&page={1}\".format(id, page)\n",
        "      super(BiliVideo, self).__init__(src, width, height, **kwargs)\n",
        "\n",
        "  video = BiliVideo(id=f\"BV1Rw411d7Uy\", width=854, height=480, fs=1)\n",
        "  print(\"Video available at https://www.bilibili.com/video/{0}\".format(video.id))\n",
        "  display(video)\n",
        "\n",
        "out1 = widgets.Output()\n",
        "with out1:\n",
        "  from IPython.display import YouTubeVideo\n",
        "  video = YouTubeVideo(id=f\"jGKd_4tPGrw\", width=854, height=480, fs=1, rel=0)\n",
        "  print(\"Video available at https://youtube.com/watch?v=\" + video.id)\n",
        "  display(video)\n",
        "\n",
        "out = widgets.Tab([out1, out2])\n",
        "out.set_title(0, 'Youtube')\n",
        "out.set_title(1, 'Bilibili')\n",
        "\n",
        "# add timing to airtable\n",
        "atform.add_event('Video 3: Making Tensors')\n",
        "\n",
        "display(out)"
      ]
    },
    {
      "cell_type": "markdown",
      "metadata": {
        "execution": {},
        "id": "fSst8KJzbK8P"
      },
      "source": [
        "There are various ways of creating tensors, and when doing any real deep learning project, we will usually have to do so."
      ]
    },
    {
      "cell_type": "markdown",
      "metadata": {
        "execution": {},
        "id": "u-KlQhXxbK8P"
      },
      "source": [
        "**Construct tensors directly:**\n",
        "\n",
        "---\n",
        "\n"
      ]
    },
    {
      "cell_type": "code",
      "execution_count": 5,
      "metadata": {
        "execution": {},
        "id": "94z-SgSzbK8P",
        "outputId": "1ea3046a-2c30-424e-ccc7-ceb7a408b9e9",
        "colab": {
          "base_uri": "https://localhost:8080/"
        }
      },
      "outputs": [
        {
          "output_type": "stream",
          "name": "stdout",
          "text": [
            "Tensor a: tensor([0, 1, 2])\n",
            "Tensor b: tensor([[1.0000, 1.1000],\n",
            "        [1.2000, 1.3000]])\n",
            "Tensor c: tensor([[1., 1., 1.],\n",
            "        [1., 1., 1.]], dtype=torch.float64)\n"
          ]
        }
      ],
      "source": [
        "# We can construct a tensor directly from some common python iterables,\n",
        "# such as list and tuple nested iterables can also be handled as long as the\n",
        "# dimensions are compatible\n",
        "\n",
        "# tensor from a list\n",
        "a = torch.tensor([0, 1, 2])\n",
        "\n",
        "#tensor from a tuple of tuples\n",
        "b = ((1.0, 1.1), (1.2, 1.3))\n",
        "b = torch.tensor(b)\n",
        "\n",
        "# tensor from a numpy array\n",
        "c = np.ones([2, 3])\n",
        "c = torch.tensor(c)\n",
        "\n",
        "print(f\"Tensor a: {a}\")\n",
        "print(f\"Tensor b: {b}\")\n",
        "print(f\"Tensor c: {c}\")"
      ]
    },
    {
      "cell_type": "markdown",
      "metadata": {
        "execution": {},
        "id": "xZhTQ35vbK8S"
      },
      "source": [
        "**Some common tensor constructors:**\n",
        "\n",
        "---"
      ]
    },
    {
      "cell_type": "code",
      "execution_count": 6,
      "metadata": {
        "execution": {},
        "id": "HzXqn017bK8S",
        "outputId": "96f3e085-6c09-4e92-9447-1ba1a460116e",
        "colab": {
          "base_uri": "https://localhost:8080/"
        }
      },
      "outputs": [
        {
          "output_type": "stream",
          "name": "stdout",
          "text": [
            "Tensor x: tensor([[1., 1., 1.],\n",
            "        [1., 1., 1.],\n",
            "        [1., 1., 1.],\n",
            "        [1., 1., 1.],\n",
            "        [1., 1., 1.]])\n",
            "Tensor y: tensor([0., 0.])\n",
            "Tensor z: tensor([[[1.8375e-34, 0.0000e+00, 3.3631e-44, 0.0000e+00,        nan]]])\n"
          ]
        }
      ],
      "source": [
        "# The numerical arguments we pass to these constructors\n",
        "# determine the shape of the output tensor\n",
        "\n",
        "x = torch.ones(5, 3)\n",
        "y = torch.zeros(2)\n",
        "z = torch.empty(1, 1, 5)\n",
        "print(f\"Tensor x: {x}\")\n",
        "print(f\"Tensor y: {y}\")\n",
        "print(f\"Tensor z: {z}\")"
      ]
    },
    {
      "cell_type": "markdown",
      "metadata": {
        "execution": {},
        "id": "0kTdDjRrbK8S"
      },
      "source": [
        "Notice that `.empty()` does not return zeros, but seemingly random numbers. Unlike `.zeros()`, which initialises the elements of the tensor with zeros, `.empty()` just allocates the memory. It is hence a bit faster if you are looking to just create a tensor."
      ]
    },
    {
      "cell_type": "markdown",
      "metadata": {
        "execution": {},
        "id": "EXHNAF9IbK8T"
      },
      "source": [
        "**Creating random tensors and tensors like other tensors:**\n",
        "\n",
        "---"
      ]
    },
    {
      "cell_type": "code",
      "execution_count": 7,
      "metadata": {
        "execution": {},
        "id": "J4p-6bWLbK8T",
        "outputId": "2b0caafd-4e03-4473-dd5f-ed9cc86e0156",
        "colab": {
          "base_uri": "https://localhost:8080/"
        }
      },
      "outputs": [
        {
          "output_type": "stream",
          "name": "stdout",
          "text": [
            "Tensor a: tensor([[0.9110, 0.8985, 0.7095]])\n",
            "Tensor b: tensor([[ 1.2189,  0.5656,  1.3498, -1.2080],\n",
            "        [-0.4458,  1.7197, -0.0359,  0.2498],\n",
            "        [ 0.5280, -1.4272,  1.2089,  0.1370]])\n",
            "Tensor c: tensor([[0., 0., 0.]])\n",
            "Tensor d: tensor([[0.6326, 0.6197, 0.8927]])\n"
          ]
        }
      ],
      "source": [
        "# There are also constructors for random numbers\n",
        "\n",
        "# Uniform distribution\n",
        "a = torch.rand(1, 3)\n",
        "\n",
        "# Normal distribution\n",
        "b = torch.randn(3, 4)\n",
        "\n",
        "# There are also constructors that allow us to construct\n",
        "# a tensor according to the above constructors, but with\n",
        "# dimensions equal to another tensor.\n",
        "\n",
        "c = torch.zeros_like(a)\n",
        "d = torch.rand_like(c)\n",
        "\n",
        "print(f\"Tensor a: {a}\")\n",
        "print(f\"Tensor b: {b}\")\n",
        "print(f\"Tensor c: {c}\")\n",
        "print(f\"Tensor d: {d}\")"
      ]
    },
    {
      "cell_type": "markdown",
      "metadata": {
        "execution": {},
        "id": "1cYHHl9JbK8T"
      },
      "source": [
        "*Reproducibility*: \n",
        "\n",
        "- PyTorch Random Number Generator (RNG): You can use `torch.manual_seed()` to seed the RNG for all devices (both CPU and GPU):\n",
        "\n",
        "```python\n",
        "import torch\n",
        "torch.manual_seed(0)\n",
        "```\n",
        "- For custom operators, you might need to set python seed as well:\n",
        "\n",
        "```python\n",
        "import random\n",
        "random.seed(0)\n",
        "```\n",
        "\n",
        "- Random number generators in other libraries (e.g., NumPy):\n",
        "\n",
        "```python\n",
        "import numpy as np\n",
        "np.random.seed(0)\n",
        "```"
      ]
    },
    {
      "cell_type": "markdown",
      "metadata": {
        "execution": {},
        "id": "J1WkHrAabK8X"
      },
      "source": [
        "Here, we define for you a function called `set_seed` that does the job for you!"
      ]
    },
    {
      "cell_type": "code",
      "execution_count": 8,
      "metadata": {
        "execution": {},
        "id": "tjXak_r-bK8a"
      },
      "outputs": [],
      "source": [
        "def set_seed(seed=None, seed_torch=True):\n",
        "  \"\"\"\n",
        "  Function that controls randomness. NumPy and random modules must be imported.\n",
        "\n",
        "  Args:\n",
        "    seed : Integer\n",
        "      A non-negative integer that defines the random state. Default is `None`.\n",
        "    seed_torch : Boolean\n",
        "      If `True` sets the random seed for pytorch tensors, so pytorch module\n",
        "      must be imported. Default is `True`.\n",
        "\n",
        "  Returns:\n",
        "    Nothing.\n",
        "  \"\"\"\n",
        "  if seed is None:\n",
        "    seed = np.random.choice(2 ** 32)\n",
        "  random.seed(seed)\n",
        "  np.random.seed(seed)\n",
        "  if seed_torch:\n",
        "    torch.manual_seed(seed)\n",
        "    torch.cuda.manual_seed_all(seed)\n",
        "    torch.cuda.manual_seed(seed)\n",
        "    torch.backends.cudnn.benchmark = False\n",
        "    torch.backends.cudnn.deterministic = True\n",
        "\n",
        "  print(f'Random seed {seed} has been set.')"
      ]
    },
    {
      "cell_type": "markdown",
      "metadata": {
        "execution": {},
        "id": "-oiiPVw_bK8b"
      },
      "source": [
        "Now, let's use the `set_seed` function in the previous example. Execute the cell multiple times to verify that the numbers printed are always the same."
      ]
    },
    {
      "cell_type": "code",
      "execution_count": 9,
      "metadata": {
        "execution": {},
        "id": "3v63EpGZbK8b"
      },
      "outputs": [],
      "source": [
        "def simplefun(seed=True, my_seed=None):\n",
        "  \"\"\"\n",
        "  Helper function to verify effectiveness of set_seed attribute\n",
        "\n",
        "  Args:\n",
        "    seed: Boolean\n",
        "      Specifies if seed value is provided or not\n",
        "    my_seed: Integer\n",
        "      Initializes seed to specified value\n",
        "\n",
        "  Returns:\n",
        "    Nothing\n",
        "  \"\"\"\n",
        "  if seed:\n",
        "    set_seed(seed=my_seed)\n",
        "\n",
        "  # uniform distribution\n",
        "  a = torch.rand(1, 3)\n",
        "  # normal distribution\n",
        "  b = torch.randn(3, 4)\n",
        "\n",
        "  print(\"Tensor a: \", a)\n",
        "  print(\"Tensor b: \", b)"
      ]
    },
    {
      "cell_type": "code",
      "execution_count": 10,
      "metadata": {
        "execution": {},
        "id": "zrHChZ_6bK8c",
        "outputId": "5499771c-6193-415e-9df9-9f5f486ac706",
        "colab": {
          "base_uri": "https://localhost:8080/"
        }
      },
      "outputs": [
        {
          "output_type": "stream",
          "name": "stdout",
          "text": [
            "Random seed 0 has been set.\n",
            "Tensor a:  tensor([[0.4963, 0.7682, 0.0885]])\n",
            "Tensor b:  tensor([[ 0.3643,  0.1344,  0.1642,  0.3058],\n",
            "        [ 0.2100,  0.9056,  0.6035,  0.8110],\n",
            "        [-0.0451,  0.8797,  1.0482, -0.0445]])\n"
          ]
        }
      ],
      "source": [
        "simplefun(seed=True, my_seed=0)  # Turn `seed` to `False` or change `my_seed`"
      ]
    },
    {
      "cell_type": "markdown",
      "metadata": {
        "execution": {},
        "id": "wlQu6nSxbK8e"
      },
      "source": [
        "**Numpy-like number ranges:**\n",
        "---\n",
        "The ```.arange()``` and ```.linspace()``` behave how you would expect them to if you are familar with numpy."
      ]
    },
    {
      "cell_type": "code",
      "execution_count": 11,
      "metadata": {
        "execution": {},
        "id": "H1VbsXTjbK8f",
        "outputId": "5be84f0c-79de-49c1-f77e-1c0e6e2978b2",
        "colab": {
          "base_uri": "https://localhost:8080/"
        }
      },
      "outputs": [
        {
          "output_type": "stream",
          "name": "stdout",
          "text": [
            "Tensor a: tensor([0, 1, 2, 3, 4, 5, 6, 7, 8, 9])\n",
            "\n",
            "Numpy array b: [0 1 2 3 4 5 6 7 8 9]\n",
            "\n",
            "Tensor c: tensor([0.0000, 0.5000, 1.0000, 1.5000, 2.0000, 2.5000, 3.0000, 3.5000, 4.0000,\n",
            "        4.5000, 5.0000])\n",
            "\n",
            "Numpy array d: [0.  0.5 1.  1.5 2.  2.5 3.  3.5 4.  4.5 5. ]\n",
            "\n"
          ]
        }
      ],
      "source": [
        "a = torch.arange(0, 10, step=1)\n",
        "b = np.arange(0, 10, step=1)\n",
        "\n",
        "c = torch.linspace(0, 5, steps=11)\n",
        "d = np.linspace(0, 5, num=11)\n",
        "\n",
        "print(f\"Tensor a: {a}\\n\")\n",
        "print(f\"Numpy array b: {b}\\n\")\n",
        "print(f\"Tensor c: {c}\\n\")\n",
        "print(f\"Numpy array d: {d}\\n\")"
      ]
    },
    {
      "cell_type": "markdown",
      "metadata": {
        "execution": {},
        "id": "BrjwaRahbK8g"
      },
      "source": [
        "### Coding Exercise 2.1: Creating Tensors\n",
        "\n",
        "Below you will find some incomplete code. Fill in the missing code to construct the specified tensors.\n",
        "\n",
        "We want the tensors: \n",
        "\n",
        "$A:$ 20 by 21 tensor consisting of ones\n",
        "\n",
        "$B:$ a tensor with elements equal to the elements of numpy array $Z$\n",
        "\n",
        "$C:$ a tensor with the same number of elements as $A$ but with values $\n",
        "\\sim \\mathcal{U}(0,1)^\\dagger$\n",
        "\n",
        "$D:$ a 1D tensor containing the even numbers between 4 and 40 inclusive.\n",
        "\n",
        "<br>\n",
        "\n",
        "$^\\dagger$: $\\mathcal{U(\\alpha, \\beta)}$ denotes the [uniform distribution](https://en.wikipedia.org/wiki/Continuous_uniform_distribution) from $\\alpha$ to $\\beta$, with $\\alpha, \\beta \\in \\mathbb{R}$.\n"
      ]
    },
    {
      "cell_type": "code",
      "execution_count": 13,
      "metadata": {
        "execution": {},
        "id": "CUIgAXmNbK8i",
        "outputId": "fb38ea56-9e16-4a6a-8d90-7e3b75d7a7dc",
        "colab": {
          "base_uri": "https://localhost:8080/"
        }
      },
      "outputs": [
        {
          "output_type": "stream",
          "name": "stdout",
          "text": [
            "All correct\n"
          ]
        }
      ],
      "source": [
        "def tensor_creation(Z):\n",
        "  \"\"\"\n",
        "  A function that creates various tensors.\n",
        "\n",
        "  Args:\n",
        "    Z: numpy.ndarray\n",
        "      An array of shape (3,4)\n",
        "\n",
        "  Returns:\n",
        "    A : Tensor\n",
        "      20 by 21 tensor consisting of ones\n",
        "    B : Tensor\n",
        "      A tensor with elements equal to the elements of numpy array Z\n",
        "    C : Tensor\n",
        "      A tensor with the same number of elements as A but with values ∼U(0,1)\n",
        "    D : Tensor\n",
        "      A 1D tensor containing the even numbers between 4 and 40 inclusive.\n",
        "  \"\"\"\n",
        "  #################################################\n",
        "  ## TODO for students: fill in the missing code\n",
        "  ## from the first expression\n",
        "  # raise NotImplementedError(\"Student exercise: say what they should have done\")\n",
        "  #################################################\n",
        "  A = torch.ones(20, 21)\n",
        "  B = torch.tensor(Z)\n",
        "  C = torch.rand_like(A)\n",
        "  D = torch.arange(4, 41, step=2)\n",
        "\n",
        "  return A, B, C, D\n",
        "\n",
        "\n",
        "# add timing to airtable\n",
        "atform.add_event('Coding Exercise 2.1: Creating Tensors')\n",
        "\n",
        "\n",
        "\n",
        "# numpy array to copy later\n",
        "Z = np.vander([1, 2, 3], 4)\n",
        "\n",
        "# Uncomment below to check your function!\n",
        "A, B, C, D = tensor_creation(Z)\n",
        "checkExercise1(A, B, C, D)"
      ]
    },
    {
      "cell_type": "markdown",
      "metadata": {
        "execution": {},
        "id": "xHC62XUhbK8j"
      },
      "source": [
        "[*Click for solution*](https://github.com/NeuromatchAcademy/course-content-dl/tree/main//tutorials/W1D1_BasicsAndPytorch/solutions/W1D1_Tutorial1_Solution_231162bb.py)\n",
        "\n"
      ]
    },
    {
      "cell_type": "markdown",
      "metadata": {
        "execution": {},
        "id": "9Fy5tCBPbK8k"
      },
      "source": [
        "```\n",
        "All correct!\n",
        "```"
      ]
    },
    {
      "cell_type": "markdown",
      "metadata": {
        "execution": {},
        "id": "67XDCK35bK8l"
      },
      "source": [
        "## Section 2.2: Operations in PyTorch\n",
        "\n",
        "**Tensor-Tensor operations**\n",
        "\n",
        "We can perform operations on tensors using methods under `torch.`"
      ]
    },
    {
      "cell_type": "code",
      "execution_count": null,
      "metadata": {
        "cellView": "form",
        "execution": {},
        "id": "aTkU7Bf2bK8m"
      },
      "outputs": [],
      "source": [
        "# @title Video 4: Tensor Operators\n",
        "from ipywidgets import widgets\n",
        "\n",
        "out2 = widgets.Output()\n",
        "with out2:\n",
        "  from IPython.display import IFrame\n",
        "  class BiliVideo(IFrame):\n",
        "    def __init__(self, id, page=1, width=400, height=300, **kwargs):\n",
        "      self.id=id\n",
        "      src = \"https://player.bilibili.com/player.html?bvid={0}&page={1}\".format(id, page)\n",
        "      super(BiliVideo, self).__init__(src, width, height, **kwargs)\n",
        "\n",
        "  video = BiliVideo(id=f\"BV1G44y127As\", width=854, height=480, fs=1)\n",
        "  print(\"Video available at https://www.bilibili.com/video/{0}\".format(video.id))\n",
        "  display(video)\n",
        "\n",
        "out1 = widgets.Output()\n",
        "with out1:\n",
        "  from IPython.display import YouTubeVideo\n",
        "  video = YouTubeVideo(id=f\"R1R8VoYXBVA\", width=854, height=480, fs=1, rel=0)\n",
        "  print(\"Video available at https://youtube.com/watch?v=\" + video.id)\n",
        "  display(video)\n",
        "\n",
        "out = widgets.Tab([out1, out2])\n",
        "out.set_title(0, 'Youtube')\n",
        "out.set_title(1, 'Bilibili')\n",
        "\n",
        "# add timing to airtable\n",
        "atform.add_event('Video 4: Tensor Operators')\n",
        "\n",
        "display(out)"
      ]
    },
    {
      "cell_type": "markdown",
      "metadata": {
        "execution": {},
        "id": "th0OQ_IXbK8o"
      },
      "source": [
        "**Tensor-Tensor operations**\n",
        "\n",
        "We can perform operations on tensors using methods under `torch.`."
      ]
    },
    {
      "cell_type": "code",
      "execution_count": null,
      "metadata": {
        "execution": {},
        "id": "o1bA7a_ibK8q"
      },
      "outputs": [],
      "source": [
        "a = torch.ones(5, 3)\n",
        "b = torch.rand(5, 3)\n",
        "c = torch.empty(5, 3)\n",
        "d = torch.empty(5, 3)\n",
        "\n",
        "# this only works if c and d already exist\n",
        "torch.add(a, b, out=c)\n",
        "\n",
        "# Pointwise Multiplication of a and b\n",
        "torch.multiply(a, b, out=d)\n",
        "\n",
        "print(c)\n",
        "print(d)"
      ]
    },
    {
      "cell_type": "markdown",
      "metadata": {
        "execution": {},
        "id": "EppXQc0WbK8w"
      },
      "source": [
        "However, in PyTorch, most common Python operators are overridden.\n",
        "The common standard arithmetic operators ($+$, $-$, $*$, $/$, and $**$) have all been lifted to elementwise operations"
      ]
    },
    {
      "cell_type": "code",
      "execution_count": null,
      "metadata": {
        "execution": {},
        "id": "ys6Gasm3bK8x"
      },
      "outputs": [],
      "source": [
        "x = torch.tensor([1, 2, 4, 8])\n",
        "y = torch.tensor([1, 2, 3, 4])\n",
        "x + y, x - y, x * y, x / y, x**y  # The `**` is the exponentiation operator"
      ]
    },
    {
      "cell_type": "markdown",
      "metadata": {
        "execution": {},
        "id": "8YenGjIdbK8y"
      },
      "source": [
        "**Tensor Methods**"
      ]
    },
    {
      "cell_type": "markdown",
      "metadata": {
        "execution": {},
        "id": "WHjOq5aVbK8y"
      },
      "source": [
        "Tensors also have a number of common arithmetic operations built in. A full list of **all** methods can be found  in the appendix (there are a lot!) \n",
        "\n",
        "All of these operations should have similar syntax to their numpy equivalents (feel free to skip if you already know this!)."
      ]
    },
    {
      "cell_type": "code",
      "execution_count": null,
      "metadata": {
        "execution": {},
        "id": "mtHc0mPFbK8z"
      },
      "outputs": [],
      "source": [
        "x = torch.rand(3, 3)\n",
        "print(x)\n",
        "print(\"\\n\")\n",
        "# sum() - note the axis is the axis you move across when summing\n",
        "print(f\"Sum of every element of x: {x.sum()}\")\n",
        "print(f\"Sum of the columns of x: {x.sum(axis=0)}\")\n",
        "print(f\"Sum of the rows of x: {x.sum(axis=1)}\")\n",
        "print(\"\\n\")\n",
        "\n",
        "print(f\"Mean value of all elements of x {x.mean()}\")\n",
        "print(f\"Mean values of the columns of x {x.mean(axis=0)}\")\n",
        "print(f\"Mean values of the rows of x {x.mean(axis=1)}\")"
      ]
    },
    {
      "cell_type": "markdown",
      "metadata": {
        "execution": {},
        "id": "h_-QRTEibK81"
      },
      "source": [
        "**Matrix Operations**\n",
        "\n",
        "The `@` symbol is overridden to represent matrix multiplication. You can also use `torch.matmul()` to multiply tensors. For dot multiplication, you can use `torch.dot()`, or manipulate the axes of your tensors and do matrix multiplication (we will cover that in the next section). \n",
        "\n",
        "Transposes of 2D tensors are obtained using `torch.t()` or `Tensor.T`. Note the lack of brackets for `Tensor.T` - it is an attribute, not a method.\n",
        "\n"
      ]
    },
    {
      "cell_type": "markdown",
      "metadata": {
        "execution": {},
        "id": "UzmWyQxibK83"
      },
      "source": [
        "### Coding Exercise 2.2 : Simple tensor operations\n",
        "\n",
        "Below are two expressions involving operations on matrices. \n",
        "\n",
        "\\begin{equation}\n",
        "\\textbf{A} = \n",
        "\\begin{bmatrix}2 &4 \\\\5 & 7 \n",
        "\\end{bmatrix} \n",
        "\\begin{bmatrix} 1 &1 \\\\2 & 3\n",
        "\\end{bmatrix} \n",
        "+ \n",
        "\\begin{bmatrix}10 & 10  \\\\ 12 & 1 \n",
        "\\end{bmatrix} \n",
        "\\end{equation}\n",
        "\n",
        "\n",
        "and\n",
        "\n",
        "\n",
        "\\begin{equation}\n",
        "b = \n",
        "\\begin{bmatrix} 3 \\\\ 5 \\\\ 7\n",
        "\\end{bmatrix} \\cdot \n",
        "\\begin{bmatrix} 2 \\\\ 4 \\\\ 8\n",
        "\\end{bmatrix}\n",
        "\\end{equation}\n",
        "\n",
        "The code block below that computes these expressions using PyTorch is incomplete - fill in the missing lines."
      ]
    },
    {
      "cell_type": "code",
      "execution_count": 14,
      "metadata": {
        "execution": {},
        "id": "v3kUEQ72bK86",
        "outputId": "5f6b761b-f64a-49d1-ed55-cbca654b67b3",
        "colab": {
          "base_uri": "https://localhost:8080/"
        }
      },
      "outputs": [
        {
          "output_type": "stream",
          "name": "stdout",
          "text": [
            "tensor([[20, 24],\n",
            "        [31, 27]])\n"
          ]
        }
      ],
      "source": [
        "def simple_operations(a1: torch.Tensor, a2: torch.Tensor, a3: torch.Tensor):\n",
        "  \"\"\"\n",
        "  Helper function to demonstrate simple operations\n",
        "  i.e., Multiplication of tensor a1 with tensor a2 and then add it with tensor a3\n",
        "\n",
        "  Args:\n",
        "    a1: Torch tensor\n",
        "      Tensor of size ([2,2])\n",
        "    a2: Torch tensor\n",
        "      Tensor of size ([2,2])\n",
        "    a3: Torch tensor\n",
        "      Tensor of size ([2,2])\n",
        "\n",
        "  Returns:\n",
        "    answer: Torch tensor\n",
        "      Tensor of size ([2,2]) resulting from a1 multiplied with a2, added with a3\n",
        "  \"\"\"\n",
        "  ################################################\n",
        "  ## TODO for students:  complete the first computation using the argument matricies\n",
        "  #raise NotImplementedError(\"Student exercise: fill in the missing code to complete the operation\")\n",
        "  ################################################\n",
        "  #\n",
        "  answer = torch.add(a1 @ a2, a3)\n",
        "  return answer\n",
        "\n",
        "# add timing to airtable\n",
        "atform.add_event('Coding Exercise 2.2 : Simple tensor operations-simple_operations')\n",
        "\n",
        "# Computing expression 1:\n",
        "\n",
        "# init our tensors\n",
        "a1 = torch.tensor([[2, 4], [5, 7]])\n",
        "a2 = torch.tensor([[1, 1], [2, 3]])\n",
        "a3 = torch.tensor([[10, 10], [12, 1]])\n",
        "## uncomment to test your function\n",
        "A = simple_operations(a1, a2, a3)\n",
        "print(A)"
      ]
    },
    {
      "cell_type": "markdown",
      "metadata": {
        "execution": {},
        "id": "-SQWPvDbbK89"
      },
      "source": [
        "[*Click for solution*](https://github.com/NeuromatchAcademy/course-content-dl/tree/main//tutorials/W1D1_BasicsAndPytorch/solutions/W1D1_Tutorial1_Solution_665fc374.py)\n",
        "\n"
      ]
    },
    {
      "cell_type": "markdown",
      "metadata": {
        "execution": {},
        "id": "ahpfxFZjbK9B"
      },
      "source": [
        "```\n",
        "tensor([[20, 24],\n",
        "        [31, 27]])\n",
        "```"
      ]
    },
    {
      "cell_type": "code",
      "execution_count": 16,
      "metadata": {
        "execution": {},
        "id": "D5MQ62q3bK9H",
        "outputId": "89a05062-b1c2-42ab-e4c5-bf4483f42bf6",
        "colab": {
          "base_uri": "https://localhost:8080/"
        }
      },
      "outputs": [
        {
          "output_type": "stream",
          "name": "stdout",
          "text": [
            "tensor(82)\n"
          ]
        }
      ],
      "source": [
        "def dot_product(b1: torch.Tensor, b2: torch.Tensor):\n",
        "  ###############################################\n",
        "  ## TODO for students:  complete the first computation using the argument matricies\n",
        "  # raise NotImplementedError(\"Student exercise: fill in the missing code to complete the operation\")\n",
        "  ###############################################\n",
        "  \"\"\"\n",
        "  Helper function to demonstrate dot product operation\n",
        "  Dot product is an algebraic operation that takes two equal-length sequences\n",
        "  (usually coordinate vectors), and returns a single number.\n",
        "  Geometrically, it is the product of the Euclidean magnitudes of the\n",
        "  two vectors and the cosine of the angle between them.\n",
        "\n",
        "  Args:\n",
        "    b1: Torch tensor\n",
        "      Tensor of size ([3])\n",
        "    b2: Torch tensor\n",
        "      Tensor of size ([3])\n",
        "\n",
        "  Returns:\n",
        "    product: Tensor\n",
        "      Tensor of size ([1]) resulting from b1 scalar multiplied with b2\n",
        "  \"\"\"\n",
        "  # Use torch.dot() to compute the dot product of two tensors\n",
        "  product = torch.dot(b1, b2)\n",
        "  return product\n",
        "\n",
        "# add timing to airtable\n",
        "atform.add_event('Coding Exercise 2.2 : Simple tensor operations-dot_product')\n",
        "\n",
        "\n",
        "# Computing expression 2:\n",
        "b1 = torch.tensor([3, 5, 7])\n",
        "b2 = torch.tensor([2, 4, 8])\n",
        "## Uncomment to test your function\n",
        "b = dot_product(b1, b2)\n",
        "print(b)"
      ]
    },
    {
      "cell_type": "markdown",
      "metadata": {
        "execution": {},
        "id": "tCspHmPEbK9y"
      },
      "source": [
        "[*Click for solution*](https://github.com/NeuromatchAcademy/course-content-dl/tree/main//tutorials/W1D1_BasicsAndPytorch/solutions/W1D1_Tutorial1_Solution_d43f1ed4.py)\n",
        "\n"
      ]
    },
    {
      "cell_type": "markdown",
      "metadata": {
        "execution": {},
        "id": "SVKn-US1bK-T"
      },
      "source": [
        "```\n",
        "tensor(82)\n",
        "```"
      ]
    },
    {
      "cell_type": "markdown",
      "metadata": {
        "execution": {},
        "id": "yBSMBRzQbK-V"
      },
      "source": [
        "## Section 2.3 Manipulating Tensors in Pytorch"
      ]
    },
    {
      "cell_type": "code",
      "execution_count": null,
      "metadata": {
        "cellView": "form",
        "execution": {},
        "id": "6KFduwLQbK-X"
      },
      "outputs": [],
      "source": [
        "# @title Video 5: Tensor Indexing\n",
        "from ipywidgets import widgets\n",
        "\n",
        "out2 = widgets.Output()\n",
        "with out2:\n",
        "  from IPython.display import IFrame\n",
        "  class BiliVideo(IFrame):\n",
        "    def __init__(self, id, page=1, width=400, height=300, **kwargs):\n",
        "      self.id=id\n",
        "      src = \"https://player.bilibili.com/player.html?bvid={0}&page={1}\".format(id, page)\n",
        "      super(BiliVideo, self).__init__(src, width, height, **kwargs)\n",
        "\n",
        "  video = BiliVideo(id=f\"BV1BM4y1K7pD\", width=854, height=480, fs=1)\n",
        "  print(\"Video available at https://www.bilibili.com/video/{0}\".format(video.id))\n",
        "  display(video)\n",
        "\n",
        "out1 = widgets.Output()\n",
        "with out1:\n",
        "  from IPython.display import YouTubeVideo\n",
        "  video = YouTubeVideo(id=f\"0d0KSJ3lJbg\", width=854, height=480, fs=1, rel=0)\n",
        "  print(\"Video available at https://youtube.com/watch?v=\" + video.id)\n",
        "  display(video)\n",
        "\n",
        "out = widgets.Tab([out1, out2])\n",
        "out.set_title(0, 'Youtube')\n",
        "out.set_title(1, 'Bilibili')\n",
        "\n",
        "# add timing to airtable\n",
        "atform.add_event('Video 5: Tensor Indexing')\n",
        "\n",
        "display(out)"
      ]
    },
    {
      "cell_type": "markdown",
      "metadata": {
        "execution": {},
        "id": "PQ_bf5PBbK-Z"
      },
      "source": [
        "**Indexing**\n",
        "\n",
        "Just as in numpy, elements in a tensor can be accessed by index. As in any numpy array, the first element has index 0 and ranges are specified to include the first to last_element-1. We can access elements according to their relative position to the end of the list by using negative indices. Indexing is also referred to as slicing.\n",
        "\n",
        "For example, `[-1]` selects the last element; `[1:3]` selects the second and the third elements, and `[:-2]` will select all elements excluding the last and second-to-last elements."
      ]
    },
    {
      "cell_type": "code",
      "execution_count": 17,
      "metadata": {
        "execution": {},
        "id": "DzEeeq0lbK-Z",
        "outputId": "690a77f3-86f5-42f2-d37f-603be06d66e2",
        "colab": {
          "base_uri": "https://localhost:8080/"
        }
      },
      "outputs": [
        {
          "output_type": "stream",
          "name": "stdout",
          "text": [
            "tensor([0, 1, 2, 3, 4, 5, 6, 7, 8, 9])\n",
            "tensor(9)\n",
            "tensor([1, 2])\n",
            "tensor([0, 1, 2, 3, 4, 5, 6, 7])\n"
          ]
        }
      ],
      "source": [
        "x = torch.arange(0, 10)\n",
        "print(x)\n",
        "print(x[-1])\n",
        "print(x[1:3])\n",
        "print(x[:-2])"
      ]
    },
    {
      "cell_type": "markdown",
      "metadata": {
        "execution": {},
        "id": "C4IWAuucbK-a"
      },
      "source": [
        "When we have multidimensional tensors, indexing rules work the same way as NumPy."
      ]
    },
    {
      "cell_type": "code",
      "execution_count": 18,
      "metadata": {
        "execution": {},
        "id": "je58c1OSbK-a",
        "outputId": "025f4587-5d2b-4c53-d10d-09bf15ab5a84",
        "colab": {
          "base_uri": "https://localhost:8080/"
        }
      },
      "outputs": [
        {
          "output_type": "stream",
          "name": "stdout",
          "text": [
            " shape of x[0]:torch.Size([2, 3, 4, 5])\n",
            " shape of x[0][0]:torch.Size([3, 4, 5])\n",
            " shape of x[0][0][0]:torch.Size([4, 5])\n"
          ]
        }
      ],
      "source": [
        "# make a 5D tensor\n",
        "x = torch.rand(1, 2, 3, 4, 5)\n",
        "\n",
        "print(f\" shape of x[0]:{x[0].shape}\")\n",
        "print(f\" shape of x[0][0]:{x[0][0].shape}\")\n",
        "print(f\" shape of x[0][0][0]:{x[0][0][0].shape}\")"
      ]
    },
    {
      "cell_type": "markdown",
      "metadata": {
        "execution": {},
        "id": "ATpRFG7XbK-b"
      },
      "source": [
        "**Flatten and reshape**\n",
        "\n",
        "There are various methods for reshaping tensors. It is common to have to express 2D data in 1D format. Similarly, it is also common to have to reshape a 1D tensor into a 2D tensor. We can achieve this with the `.flatten()` and `.reshape()` methods."
      ]
    },
    {
      "cell_type": "code",
      "execution_count": 19,
      "metadata": {
        "execution": {},
        "id": "xMtQFh3JbK-b",
        "outputId": "aed098ea-0d9c-437f-ec99-b6c93244fbe8",
        "colab": {
          "base_uri": "https://localhost:8080/"
        }
      },
      "outputs": [
        {
          "output_type": "stream",
          "name": "stdout",
          "text": [
            "Original z: \n",
            " tensor([[ 0,  1],\n",
            "        [ 2,  3],\n",
            "        [ 4,  5],\n",
            "        [ 6,  7],\n",
            "        [ 8,  9],\n",
            "        [10, 11]])\n",
            "Flattened z: \n",
            " tensor([ 0,  1,  2,  3,  4,  5,  6,  7,  8,  9, 10, 11])\n",
            "Reshaped (3x4) z: \n",
            " tensor([[ 0,  1,  2,  3],\n",
            "        [ 4,  5,  6,  7],\n",
            "        [ 8,  9, 10, 11]])\n"
          ]
        }
      ],
      "source": [
        "z = torch.arange(12).reshape(6, 2)\n",
        "print(f\"Original z: \\n {z}\")\n",
        "\n",
        "# 2D -> 1D\n",
        "z = z.flatten()\n",
        "print(f\"Flattened z: \\n {z}\")\n",
        "\n",
        "# and back to 2D\n",
        "z = z.reshape(3, 4)\n",
        "print(f\"Reshaped (3x4) z: \\n {z}\")"
      ]
    },
    {
      "cell_type": "markdown",
      "metadata": {
        "execution": {},
        "id": "AR8z6uibbK-b"
      },
      "source": [
        "You will also see the `.view()` methods used a lot to reshape tensors. There is a subtle difference between `.view()` and `.reshape()`, though for now we will just use `.reshape()`. The documentation can be found in the Appendix."
      ]
    },
    {
      "cell_type": "markdown",
      "metadata": {
        "execution": {},
        "id": "Xka7d4wbbK-b"
      },
      "source": [
        "**Squeezing tensors**\n",
        "\n",
        "When processing batches of data, you will quite often be left with singleton dimensions. E.g., `[1,10]` or `[256, 1, 3]`. This dimension can quite easily mess up your matrix operations if you don't plan on it being there...\n",
        "\n",
        "In order to compress tensors along their singleton dimensions we can use the `.squeeze()` method. We can use the `.unsqueeze()` method to do the opposite."
      ]
    },
    {
      "cell_type": "code",
      "execution_count": 27,
      "metadata": {
        "execution": {},
        "id": "37jrBhRgbK-c",
        "outputId": "a6c49244-c395-4f75-8bd9-c26a6223e22c",
        "colab": {
          "base_uri": "https://localhost:8080/"
        }
      },
      "outputs": [
        {
          "output_type": "stream",
          "name": "stdout",
          "text": [
            "torch.Size([1, 10])\n",
            "x[0]: tensor([ 1.6046,  0.4898,  0.5054, -1.3414, -0.1376,  0.9421, -0.1544,  0.5742,\n",
            "         0.6086,  1.7973])\n",
            "x: tensor([[ 1.6046,  0.4898,  0.5054, -1.3414, -0.1376,  0.9421, -0.1544,  0.5742,\n",
            "          0.6086,  1.7973]])\n"
          ]
        }
      ],
      "source": [
        "x = torch.randn(1, 10)\n",
        "# printing the zeroth element of the tensor will not give us the first number!\n",
        "\n",
        "print(x.shape)\n",
        "print(f\"x[0]: {x[0]}\")\n",
        "print(f\"x: {x}\")"
      ]
    },
    {
      "cell_type": "markdown",
      "metadata": {
        "execution": {},
        "id": "TX0AzpK2bK-c"
      },
      "source": [
        "Because of that pesky singleton dimension, `x[0]` gave us the first row instead!"
      ]
    },
    {
      "cell_type": "code",
      "execution_count": 21,
      "metadata": {
        "execution": {},
        "id": "VZ0f_MVZbK-c",
        "outputId": "2dc56703-c979-4801-87ec-8b0dfa7fe7ac",
        "colab": {
          "base_uri": "https://localhost:8080/"
        }
      },
      "outputs": [
        {
          "output_type": "stream",
          "name": "stdout",
          "text": [
            "torch.Size([10])\n",
            "x[0]: -0.5110327005386353\n"
          ]
        }
      ],
      "source": [
        "# Let's get rid of that singleton dimension and see what happens now\n",
        "x = x.squeeze(0)\n",
        "print(x.shape)\n",
        "print(f\"x[0]: {x[0]}\")"
      ]
    },
    {
      "cell_type": "code",
      "execution_count": 29,
      "metadata": {
        "execution": {},
        "id": "VvN69PrybK-e",
        "outputId": "165f3fde-8446-45a7-ae11-bd529dffdc9e",
        "colab": {
          "base_uri": "https://localhost:8080/"
        }
      },
      "outputs": [
        {
          "output_type": "stream",
          "name": "stdout",
          "text": [
            "Shape of y: torch.Size([5, 5])\n",
            "Shape of y: tensor([[ 0.0769, -1.3154, -0.4496,  0.8511,  0.0062],\n",
            "        [ 0.5062,  0.5800,  0.7048, -1.9760,  0.5957],\n",
            "        [ 0.2457,  1.2285, -2.8870,  0.8518,  0.0844],\n",
            "        [ 1.0888,  1.2270,  0.9887,  0.0425, -0.3078],\n",
            "        [ 0.1435, -1.0753, -0.9756, -1.1731,  0.1642]])\n",
            "Shape of y: torch.Size([5, 1, 5])\n",
            "Shape of y: tensor([[[ 0.0769, -1.3154, -0.4496,  0.8511,  0.0062]],\n",
            "\n",
            "        [[ 0.5062,  0.5800,  0.7048, -1.9760,  0.5957]],\n",
            "\n",
            "        [[ 0.2457,  1.2285, -2.8870,  0.8518,  0.0844]],\n",
            "\n",
            "        [[ 1.0888,  1.2270,  0.9887,  0.0425, -0.3078]],\n",
            "\n",
            "        [[ 0.1435, -1.0753, -0.9756, -1.1731,  0.1642]]])\n"
          ]
        }
      ],
      "source": [
        "# Adding singleton dimensions works a similar way, and is often used when tensors\n",
        "# being added need same number of dimensions\n",
        "\n",
        "y = torch.randn(5, 5)\n",
        "print(f\"Shape of y: {y.shape}\")\n",
        "print(f\"Shape of y: {y}\")\n",
        "\n",
        "# lets insert a singleton dimension\n",
        "y = y.unsqueeze(1)\n",
        "print(f\"Shape of y: {y.shape}\")\n",
        "print(f\"Shape of y: {y}\")"
      ]
    },
    {
      "cell_type": "markdown",
      "metadata": {
        "execution": {},
        "id": "N0JcbfjAbK-g"
      },
      "source": [
        "**Permutation**\n",
        "\n",
        "Sometimes our dimensions will be in the wrong order! For example, we may be dealing with RGB images with dim $[3\\times48\\times64]$, but our pipeline expects the colour dimension to be the last dimension, i.e., $[48\\times64\\times3]$. To get around this we can use the `.permute()` method."
      ]
    },
    {
      "cell_type": "code",
      "execution_count": 24,
      "metadata": {
        "execution": {},
        "id": "YiBpVNbSbK-g",
        "outputId": "10fd0677-bfdd-4a87-d5cb-6135c73bf830",
        "colab": {
          "base_uri": "https://localhost:8080/"
        }
      },
      "outputs": [
        {
          "output_type": "stream",
          "name": "stdout",
          "text": [
            "torch.Size([48, 64, 3])\n"
          ]
        }
      ],
      "source": [
        "# `x` has dimensions [color,image_height,image_width]\n",
        "x = torch.rand(3, 48, 64)\n",
        "\n",
        "# We want to permute our tensor to be [ image_height , image_width , color ]\n",
        "x = x.permute(1, 2, 0)\n",
        "# permute(1,2,0) means:\n",
        "# The 0th dim of my new tensor = the 1st dim of my old tensor\n",
        "# The 1st dim of my new tensor = the 2nd\n",
        "# The 2nd dim of my new tensor = the 0th\n",
        "print(x.shape)"
      ]
    },
    {
      "cell_type": "markdown",
      "metadata": {
        "execution": {},
        "id": "XU500O-XbK-g"
      },
      "source": [
        "You may also see `.transpose()` used. This works in a similar way as permute, but can only swap two dimensions at once."
      ]
    },
    {
      "cell_type": "markdown",
      "metadata": {
        "execution": {},
        "id": "ELJ07lLUbK-h"
      },
      "source": [
        "**Concatenation**"
      ]
    },
    {
      "cell_type": "markdown",
      "metadata": {
        "execution": {},
        "id": "YGN2X9d-bK-h"
      },
      "source": [
        "In this example, we concatenate two matrices along rows (axis 0, the first element of the shape) vs. columns (axis 1, the second element of the shape). We can see that the first output tensor’s axis-0 length (`6`) is the sum of the two input tensors’ axis-0 lengths (`3+3`); while the second output tensor’s axis-1 length (`8`) is the sum of the two input tensors’ axis-1 lengths (`4+4`)."
      ]
    },
    {
      "cell_type": "code",
      "execution_count": 25,
      "metadata": {
        "execution": {},
        "id": "46U1GSQdbK-h",
        "outputId": "9d908929-0a20-450e-ba87-5d0c492fb087",
        "colab": {
          "base_uri": "https://localhost:8080/"
        }
      },
      "outputs": [
        {
          "output_type": "stream",
          "name": "stdout",
          "text": [
            "Concatenated by rows: shape[6, 4] \n",
            " tensor([[ 0.,  1.,  2.,  3.],\n",
            "        [ 4.,  5.,  6.,  7.],\n",
            "        [ 8.,  9., 10., 11.],\n",
            "        [ 2.,  1.,  4.,  3.],\n",
            "        [ 1.,  2.,  3.,  4.],\n",
            "        [ 4.,  3.,  2.,  1.]])\n",
            "\n",
            " Concatenated by colums: shape[3, 8]  \n",
            " tensor([[ 0.,  1.,  2.,  3.,  2.,  1.,  4.,  3.],\n",
            "        [ 4.,  5.,  6.,  7.,  1.,  2.,  3.,  4.],\n",
            "        [ 8.,  9., 10., 11.,  4.,  3.,  2.,  1.]])\n"
          ]
        }
      ],
      "source": [
        "# Create two tensors of the same shape\n",
        "x = torch.arange(12, dtype=torch.float32).reshape((3, 4))\n",
        "y = torch.tensor([[2.0, 1, 4, 3], [1, 2, 3, 4], [4, 3, 2, 1]])\n",
        "\n",
        "\n",
        "# Concatenate along rows\n",
        "cat_rows = torch.cat((x, y), dim=0)\n",
        "\n",
        "# Concatenate along columns\n",
        "cat_cols = torch.cat((x, y), dim=1)\n",
        "\n",
        "# Printing outputs\n",
        "print('Concatenated by rows: shape{} \\n {}'.format(list(cat_rows.shape), cat_rows))\n",
        "print('\\n Concatenated by colums: shape{}  \\n {}'.format(list(cat_cols.shape), cat_cols))"
      ]
    },
    {
      "cell_type": "markdown",
      "metadata": {
        "execution": {},
        "id": "sAl24jfXbK-h"
      },
      "source": [
        "**Conversion to Other Python Objects**\n",
        "\n",
        "Converting a tensor to a numpy.ndarray, or vice versa, is easy, and the converted result does not share memory. This minor inconvenience is quite important: when you perform operations on the CPU or GPUs, you do not want to halt computation, waiting to see whether the NumPy package of Python might want to be doing something else with the same chunk of memory.\n",
        "\n",
        "When converting to a NumPy array, the information being tracked by the tensor will be lost, i.e., the computational graph. This will be covered in detail when you are introduced to autograd tomorrow!"
      ]
    },
    {
      "cell_type": "code",
      "execution_count": 30,
      "metadata": {
        "execution": {},
        "id": "q1VhjGXVbK-h",
        "outputId": "976e5857-d7d1-4faf-a84a-a9d55a3353ca",
        "colab": {
          "base_uri": "https://localhost:8080/"
        }
      },
      "outputs": [
        {
          "output_type": "stream",
          "name": "stdout",
          "text": [
            "x: tensor([-2.1702, -0.5903, -0.5021,  0.0027,  0.1754])  |  x type:  torch.FloatTensor\n",
            "y: [-2.1702147  -0.5903106  -0.502128    0.00268852  0.17537042]  |  y type:  <class 'numpy.ndarray'>\n",
            "z: tensor([-2.1702, -0.5903, -0.5021,  0.0027,  0.1754])  |  z type:  torch.FloatTensor\n"
          ]
        }
      ],
      "source": [
        "x = torch.randn(5)\n",
        "print(f\"x: {x}  |  x type:  {x.type()}\")\n",
        "\n",
        "y = x.numpy()\n",
        "print(f\"y: {y}  |  y type:  {type(y)}\")\n",
        "\n",
        "z = torch.tensor(y)\n",
        "print(f\"z: {z}  |  z type:  {z.type()}\")"
      ]
    },
    {
      "cell_type": "markdown",
      "metadata": {
        "execution": {},
        "id": "0S9sXhZqbK-i"
      },
      "source": [
        "To convert a size-1 tensor to a Python scalar, we can invoke the item function or Python’s built-in functions."
      ]
    },
    {
      "cell_type": "code",
      "execution_count": 31,
      "metadata": {
        "execution": {},
        "id": "rTJ7Oi4ZbK-i",
        "outputId": "ffa13504-d2a4-469f-fbf3-fc241ce834ef",
        "colab": {
          "base_uri": "https://localhost:8080/"
        }
      },
      "outputs": [
        {
          "output_type": "execute_result",
          "data": {
            "text/plain": [
              "(tensor([3.5000]), 3.5, 3.5, 3)"
            ]
          },
          "metadata": {},
          "execution_count": 31
        }
      ],
      "source": [
        "a = torch.tensor([3.5])\n",
        "a, a.item(), float(a), int(a)"
      ]
    },
    {
      "cell_type": "markdown",
      "metadata": {
        "execution": {},
        "id": "cxTN2RXxbK-i"
      },
      "source": [
        "### Coding Exercise 2.3: Manipulating Tensors\n",
        "Using a combination of the methods discussed above, complete the functions below."
      ]
    },
    {
      "cell_type": "markdown",
      "metadata": {
        "execution": {},
        "id": "KYXkzt7UbK-i"
      },
      "source": [
        "**Function A** \n",
        "\n",
        "This function takes in two 2D tensors $A$ and $B$ and returns the column sum of A multiplied by the sum of all the elmements of $B$, i.e., a scalar, e.g.,\n",
        "\n",
        "\\begin{equation}\n",
        "  \\text{If }\n",
        "  A = \\begin{bmatrix}\n",
        "  1 & 1 \\\\\n",
        "  1 & 1\n",
        "  \\end{bmatrix}\n",
        "  \\text{and }\n",
        "  B = \\begin{bmatrix}\n",
        "  1 & 2 & 3 \\\\\n",
        "  1 & 2 & 3\n",
        "  \\end{bmatrix}\n",
        "  \\text{ then }\n",
        "  Out =  \\begin{bmatrix}\n",
        "  2 & 2\n",
        "  \\end{bmatrix} \\cdot 12 = \\begin{bmatrix}\n",
        "  24 & 24\n",
        "  \\end{bmatrix}\n",
        "\\end{equation}\n",
        "\n",
        "**Function B** \n",
        "\n",
        "This function takes in a square matrix $C$ and returns a 2D tensor consisting of a flattened $C$ with the index of each element appended to this tensor in the row dimension, e.g.,\n",
        "\n",
        "\\begin{equation}\n",
        "  \\text{If }\n",
        "  C = \\begin{bmatrix}\n",
        "  2 & 3 \\\\\n",
        "  -1 & 10\n",
        "  \\end{bmatrix}\n",
        "  \\text{ then }\n",
        "  Out = \\begin{bmatrix}\n",
        "  0 & 2 \\\\\n",
        "  1 & 3 \\\\\n",
        "  2 & -1 \\\\\n",
        "  3 & 10\n",
        "  \\end{bmatrix}\n",
        "\\end{equation}\n",
        "\n",
        "**Hint:** Pay close attention to singleton dimensions.\n",
        "\n",
        "**Function C**\n",
        "\n",
        "This function takes in two 2D tensors $D$ and $E$. If the dimensions allow it, this function returns the elementwise sum of $D$-shaped $E$, and $D$; else this function returns a 1D tensor that is the concatenation of the two tensors, e.g.,\n",
        "\n",
        "\\begin{equation}\n",
        "  \\text{If }\n",
        "  D = \\begin{bmatrix}\n",
        "  1 & -1 \\\\\n",
        "  -1 & 3\n",
        "  \\end{bmatrix}\n",
        "  \\text{and } \n",
        "  E = \\begin{bmatrix}\n",
        "  2 & 3 & 0 & 2 \\\\\n",
        "  \\end{bmatrix}\n",
        "  \\text{ then } \n",
        "  Out = \\begin{bmatrix}\n",
        "  3 & 2 \\\\\n",
        "  -1 & 5\n",
        "  \\end{bmatrix}\n",
        "\\end{equation}\n",
        "\n",
        "<br>\n",
        "\n",
        "\\begin{equation}\n",
        "  \\text{If }\n",
        "  D = \\begin{bmatrix}\n",
        "  1 & -1 \\\\\n",
        "  -1 & 3\n",
        "  \\end{bmatrix}\n",
        "  \\text{and }\n",
        "  E = \\begin{bmatrix}\n",
        "  2 & 3 & 0  \\\\\n",
        "  \\end{bmatrix}\n",
        "  \\text{ then }\n",
        "  Out = \\begin{bmatrix}\n",
        "  1 & -1 & -1 & 3  & 2 & 3 & 0  \n",
        "  \\end{bmatrix}\n",
        "\\end{equation}\n",
        "\n",
        "<br>\n",
        "\n",
        "**Hint:** `torch.numel()` is an easy way of finding the number of elements in a tensor."
      ]
    },
    {
      "cell_type": "code",
      "execution_count": 103,
      "metadata": {
        "execution": {},
        "id": "wP-FQfGSbK-j",
        "outputId": "b134cc05-dd51-491c-94e9-47963afccefe",
        "colab": {
          "base_uri": "https://localhost:8080/"
        }
      },
      "outputs": [
        {
          "output_type": "stream",
          "name": "stdout",
          "text": [
            "tensor([24, 24])\n",
            "tensor([[ 0,  2],\n",
            "        [ 1,  3],\n",
            "        [ 2, -1],\n",
            "        [ 3, 10]])\n",
            "tensor([[ 3,  2],\n",
            "        [-1,  5]])\n",
            "tensor([ 1, -1, -1,  3,  2,  3,  0])\n"
          ]
        }
      ],
      "source": [
        "def functionA(my_tensor1, my_tensor2):\n",
        "  \"\"\"\n",
        "  This function takes in two 2D tensors `my_tensor1` and `my_tensor2`\n",
        "  and returns the column sum of\n",
        "  `my_tensor1` multiplied by the sum of all the elmements of `my_tensor2`,\n",
        "  i.e., a scalar.\n",
        "\n",
        "  Args:\n",
        "    my_tensor1: torch.Tensor\n",
        "    my_tensor2: torch.Tensor\n",
        "\n",
        "  Retuns:\n",
        "    output: torch.Tensor\n",
        "      The multiplication of the column sum of `my_tensor1` by the sum of\n",
        "      `my_tensor2`.\n",
        "  \"\"\"\n",
        "  ################################################\n",
        "  ## TODO for students: complete functionA\n",
        "  #raise NotImplementedError(\"Student exercise: complete function A\")\n",
        "  ################################################\n",
        "  # TODO multiplication the sum of the tensors\n",
        "  output = torch.multiply(torch.add(my_tensor1[0], my_tensor1[1]),torch.sum(my_tensor2))\n",
        "  # print(output)\n",
        "  return output\n",
        "\n",
        "\n",
        "def functionB(my_tensor):\n",
        "  \"\"\"\n",
        "  This function takes in a square matrix `my_tensor` and returns a 2D tensor\n",
        "  consisting of a flattened `my_tensor` with the index of each element\n",
        "  appended to this tensor in the row dimension.\n",
        "\n",
        "  Args:\n",
        "    my_tensor: torch.Tensor\n",
        "\n",
        "  Returns:\n",
        "    output: torch.Tensor\n",
        "      Concatenated tensor.\n",
        "  \"\"\"\n",
        "  ################################################\n",
        "  ## TODO for students: complete functionB\n",
        "  # raise NotImplementedError(\"Student exercise: complete function B\")\n",
        "  ################################################\n",
        "  # TODO flatten the tensor `my_tensor`\n",
        "  my_tensor = torch.flatten(my_tensor).unsqueeze(1)\n",
        "  # print(my_tensor)\n",
        "  # TODO create the idx tensor to be concatenated to `my_tensor`\n",
        "  idx_tensor = torch.arange(0,torch.numel(my_tensor)).unsqueeze(1)\n",
        "  # TODO concatenate the two tensors\n",
        "  output = torch.cat((idx_tensor, my_tensor), dim=1)\n",
        "  # print(output)\n",
        "\n",
        "  return output\n",
        "\n",
        "\n",
        "def functionC(my_tensor1, my_tensor2):\n",
        "  \"\"\"\n",
        "  This function takes in two 2D tensors `my_tensor1` and `my_tensor2`.\n",
        "  If the dimensions allow it, it returns the\n",
        "  elementwise sum of `my_tensor1`-shaped `my_tensor2`, and `my_tensor2`;\n",
        "  else this function returns a 1D tensor that is the concatenation of the\n",
        "  two tensors.\n",
        "\n",
        "  Args:\n",
        "    my_tensor1: torch.Tensor\n",
        "    my_tensor2: torch.Tensor\n",
        "\n",
        "  Returns:\n",
        "    output: torch.Tensor\n",
        "      Concatenated tensor.\n",
        "  \"\"\"\n",
        "  ################################################\n",
        "  ## TODO for students: complete functionB\n",
        "  # raise NotImplementedError(\"Student exercise: complete function C\")\n",
        "  ################################################\n",
        "  # TODO check we can reshape `my_tensor2` into the shape of `my_tensor1`\n",
        "  if torch.numel(my_tensor1) == torch.numel(my_tensor2):\n",
        "    # TODO reshape `my_tensor2` into the shape of `my_tensor1`\n",
        "    my_tensor2 = my_tensor2.reshape(my_tensor1.shape)\n",
        "    # TODO sum the two tensors\n",
        "    output = torch.add(my_tensor2, my_tensor1)\n",
        "  else:\n",
        "    # TODO flatten both tensors\n",
        "    my_tensor1 = my_tensor1.flatten()\n",
        "    my_tensor2 = my_tensor2.flatten()\n",
        "    # TODO concatenate the two tensors in the correct dimension\n",
        "    output = torch.cat((my_tensor1, my_tensor2), dim=0)\n",
        "\n",
        "  return output\n",
        "\n",
        "# add timing to airtable\n",
        "atform.add_event('Coding Exercise 2.3: Manipulating Tensors')\n",
        "\n",
        "\n",
        "\n",
        "## Implement the functions above and then uncomment the following lines to test your code\n",
        "print(functionA(torch.tensor([[1, 1], [1, 1]]), torch.tensor([[1, 2, 3], [1, 2, 3]])))\n",
        "print(functionB(torch.tensor([[2, 3], [-1, 10]])))\n",
        "print(functionC(torch.tensor([[1, -1], [-1, 3]]), torch.tensor([[2, 3, 0, 2]])))\n",
        "print(functionC(torch.tensor([[1, -1], [-1, 3]]), torch.tensor([[2, 3, 0]])))"
      ]
    },
    {
      "cell_type": "markdown",
      "metadata": {
        "execution": {},
        "id": "Zxu3C8GYbK-j"
      },
      "source": [
        "[*Click for solution*](https://github.com/NeuromatchAcademy/course-content-dl/tree/main//tutorials/W1D1_BasicsAndPytorch/solutions/W1D1_Tutorial1_Solution_74d86edd.py)\n",
        "\n"
      ]
    },
    {
      "cell_type": "markdown",
      "metadata": {
        "execution": {},
        "id": "aGlgZ7ynbK-j"
      },
      "source": [
        "```\n",
        "tensor([24, 24])\n",
        "tensor([[ 0,  2],\n",
        "        [ 1,  3],\n",
        "        [ 2, -1],\n",
        "        [ 3, 10]])\n",
        "tensor([[ 3,  2],\n",
        "        [-1,  5]])\n",
        "tensor([ 1, -1, -1,  3,  2,  3,  0])\n",
        "```"
      ]
    },
    {
      "cell_type": "markdown",
      "metadata": {
        "execution": {},
        "id": "h0aE16LsbK-j"
      },
      "source": [
        "## Section 2.4: GPUs"
      ]
    },
    {
      "cell_type": "code",
      "execution_count": 113,
      "metadata": {
        "cellView": "form",
        "execution": {},
        "id": "tGLNSNz5bK-j",
        "outputId": "357b6927-cbbf-429c-831a-87b368c22e41",
        "colab": {
          "base_uri": "https://localhost:8080/",
          "height": 0,
          "referenced_widgets": [
            "64f4dfbe7c314fe1bd0e2a08f7f65b2c",
            "b8fc71db71464e2a865326d2754ca2c6",
            "a4bd314c98a548fc947f1124ce68b23d",
            "f6c48a8e9b664ea6959cfa01159e13dd",
            "51607f5c600f425ba54f570a069c2497",
            "ecabe41e40264f03ae3bb17ebc646c63"
          ]
        }
      },
      "outputs": [
        {
          "output_type": "display_data",
          "data": {
            "text/plain": [
              "Tab(children=(Output(), Output()), _titles={'0': 'Youtube', '1': 'Bilibili'})"
            ],
            "application/vnd.jupyter.widget-view+json": {
              "version_major": 2,
              "version_minor": 0,
              "model_id": "64f4dfbe7c314fe1bd0e2a08f7f65b2c"
            }
          },
          "metadata": {}
        }
      ],
      "source": [
        "# @title Video 6: GPU vs CPU\n",
        "from ipywidgets import widgets\n",
        "\n",
        "out2 = widgets.Output()\n",
        "with out2:\n",
        "  from IPython.display import IFrame\n",
        "  class BiliVideo(IFrame):\n",
        "    def __init__(self, id, page=1, width=400, height=300, **kwargs):\n",
        "      self.id=id\n",
        "      src = \"https://player.bilibili.com/player.html?bvid={0}&page={1}\".format(id, page)\n",
        "      super(BiliVideo, self).__init__(src, width, height, **kwargs)\n",
        "\n",
        "  video = BiliVideo(id=f\"BV1nM4y1K7qx\", width=854, height=480, fs=1)\n",
        "  print(\"Video available at https://www.bilibili.com/video/{0}\".format(video.id))\n",
        "  display(video)\n",
        "\n",
        "out1 = widgets.Output()\n",
        "with out1:\n",
        "  from IPython.display import YouTubeVideo\n",
        "  video = YouTubeVideo(id=f\"9Mc9GFUtILY\", width=854, height=480, fs=1, rel=0)\n",
        "  print(\"Video available at https://youtube.com/watch?v=\" + video.id)\n",
        "  display(video)\n",
        "\n",
        "out = widgets.Tab([out1, out2])\n",
        "out.set_title(0, 'Youtube')\n",
        "out.set_title(1, 'Bilibili')\n",
        "\n",
        "# add timing to airtable\n",
        "atform.add_event('Video 6: GPU vs CPU')\n",
        "\n",
        "display(out)"
      ]
    },
    {
      "cell_type": "markdown",
      "metadata": {
        "execution": {},
        "id": "yMwyNCrUbK-k"
      },
      "source": [
        "\n",
        "By default, when we create a tensor it will *not* live on the GPU! "
      ]
    },
    {
      "cell_type": "code",
      "execution_count": 6,
      "metadata": {
        "execution": {},
        "id": "HZJ2iyWcbK-k",
        "outputId": "532c1ba4-5b8f-4c75-b2a4-2484b3730b8c",
        "colab": {
          "base_uri": "https://localhost:8080/"
        }
      },
      "outputs": [
        {
          "output_type": "stream",
          "name": "stdout",
          "text": [
            "cpu\n"
          ]
        }
      ],
      "source": [
        "x = torch.randn(10)\n",
        "print(x.device)"
      ]
    },
    {
      "cell_type": "markdown",
      "metadata": {
        "execution": {},
        "id": "q5ullF6hbK-k"
      },
      "source": [
        "When using Colab notebooks, by default, will not have access to a GPU. In order to start using GPUs we need to request one. We can do this by going to the runtime tab at the top of the page. \n",
        "\n",
        "By following *Runtime* → *Change runtime type* and selecting **GPU** from the *Hardware Accelerator* dropdown list, we can start playing with sending tensors to GPUs.\n",
        "\n",
        "Once you have done this your runtime will restart and you will need to rerun the first setup cell to reimport PyTorch. Then proceed to the next cell.\n",
        "\n",
        "For more information on the GPU usage policy you can view in the Appendix."
      ]
    },
    {
      "cell_type": "markdown",
      "metadata": {
        "execution": {},
        "id": "39cUVvVobK-k"
      },
      "source": [
        "**Now we have a GPU.**\n"
      ]
    },
    {
      "cell_type": "markdown",
      "metadata": {
        "execution": {},
        "id": "VD4iG703bK-k"
      },
      "source": [
        "The cell below should return `True`."
      ]
    },
    {
      "cell_type": "code",
      "execution_count": 7,
      "metadata": {
        "execution": {},
        "id": "boZ0ljU4bK-l",
        "outputId": "cd315d6b-a226-43ba-9f59-b276b5d0b013",
        "colab": {
          "base_uri": "https://localhost:8080/"
        }
      },
      "outputs": [
        {
          "output_type": "stream",
          "name": "stdout",
          "text": [
            "True\n"
          ]
        }
      ],
      "source": [
        "print(torch.cuda.is_available())"
      ]
    },
    {
      "cell_type": "markdown",
      "metadata": {
        "execution": {},
        "id": "AfNJ-GZnbK-l"
      },
      "source": [
        "[CUDA](https://developer.nvidia.com/cuda-toolkit) is an API developed by Nvidia for interfacing with GPUs. PyTorch provides us with a layer of abstraction, and allows us to launch CUDA kernels using pure Python.\n",
        "\n",
        "In short, we get the power of parallelizing our tensor computations on GPUs, whilst only writing (relatively) simple Python!\n",
        "\n",
        "Here, we define the function `set_device`, which returns the device use in the notebook, i.e., `cpu` or `cuda`. Unless otherwise specified, we use this function on top of every tutorial, and we store the device variable such as\n",
        "\n",
        "```python\n",
        "DEVICE = set_device()\n",
        "```\n",
        "\n",
        "Let's define the function using the PyTorch package `torch.cuda`, which is lazily initialized, so we can always import it, and use `is_available()` to determine if our system supports CUDA."
      ]
    },
    {
      "cell_type": "code",
      "execution_count": 8,
      "metadata": {
        "execution": {},
        "id": "hzelqkw_bK-l"
      },
      "outputs": [],
      "source": [
        "def set_device():\n",
        "  \"\"\"\n",
        "  Set the device. CUDA if available, CPU otherwise\n",
        "\n",
        "  Args:\n",
        "    None\n",
        "\n",
        "  Returns:\n",
        "    Nothing\n",
        "  \"\"\"\n",
        "  device = \"cuda\" if torch.cuda.is_available() else \"cpu\"\n",
        "  if device != \"cuda\":\n",
        "    print(\"GPU is not enabled in this notebook. \\n\"\n",
        "          \"If you want to enable it, in the menu under `Runtime` -> \\n\"\n",
        "          \"`Hardware accelerator.` and select `GPU` from the dropdown menu\")\n",
        "  else:\n",
        "    print(\"GPU is enabled in this notebook. \\n\"\n",
        "          \"If you want to disable it, in the menu under `Runtime` -> \\n\"\n",
        "          \"`Hardware accelerator.` and select `None` from the dropdown menu\")\n",
        "\n",
        "  return device"
      ]
    },
    {
      "cell_type": "markdown",
      "metadata": {
        "execution": {},
        "id": "8h3jhlwxbK-l"
      },
      "source": [
        "Let's make some CUDA tensors!"
      ]
    },
    {
      "cell_type": "code",
      "execution_count": 9,
      "metadata": {
        "execution": {},
        "id": "k4UTFpQLbK-l",
        "outputId": "f12c52f3-e89f-468f-8153-2a59e4d4079d",
        "colab": {
          "base_uri": "https://localhost:8080/"
        }
      },
      "outputs": [
        {
          "output_type": "stream",
          "name": "stdout",
          "text": [
            "GPU is enabled in this notebook. \n",
            "If you want to disable it, in the menu under `Runtime` -> \n",
            "`Hardware accelerator.` and select `None` from the dropdown menu\n",
            "torch.float32\n",
            "cuda:0\n",
            "y before calling to() | device: cpu | dtype: torch.FloatTensor\n",
            "y after calling to() | device: cuda:0 | dtype: torch.cuda.FloatTensor\n"
          ]
        }
      ],
      "source": [
        "# common device agnostic way of writing code that can run on cpu OR gpu\n",
        "# that we provide for you in each of the tutorials\n",
        "DEVICE = set_device()\n",
        "\n",
        "# we can specify a device when we first create our tensor\n",
        "x = torch.randn(2, 2, device=DEVICE)\n",
        "print(x.dtype)\n",
        "print(x.device)\n",
        "\n",
        "# we can also use the .to() method to change the device a tensor lives on\n",
        "y = torch.randn(2, 2)\n",
        "print(f\"y before calling to() | device: {y.device} | dtype: {y.type()}\")\n",
        "\n",
        "y = y.to(DEVICE)\n",
        "print(f\"y after calling to() | device: {y.device} | dtype: {y.type()}\")"
      ]
    },
    {
      "cell_type": "markdown",
      "metadata": {
        "execution": {},
        "id": "oSEMCt7mbK-l"
      },
      "source": [
        "**Operations between cpu tensors and cuda tensors**\n",
        "\n",
        "Note that the type of the tensor changed after calling `.to()`. What happens if we try and perform operations on tensors on devices?"
      ]
    },
    {
      "cell_type": "code",
      "execution_count": 10,
      "metadata": {
        "execution": {},
        "id": "XvBE1CabbK-m",
        "outputId": "b6323e21-a7b1-4d9b-8257-2da3f0e78c0e",
        "colab": {
          "base_uri": "https://localhost:8080/",
          "height": 0
        }
      },
      "outputs": [
        {
          "output_type": "error",
          "ename": "RuntimeError",
          "evalue": "ignored",
          "traceback": [
            "\u001b[0;31m---------------------------------------------------------------------------\u001b[0m",
            "\u001b[0;31mRuntimeError\u001b[0m                              Traceback (most recent call last)",
            "\u001b[0;32m<ipython-input-10-609053ddc948>\u001b[0m in \u001b[0;36m<module>\u001b[0;34m()\u001b[0m\n\u001b[1;32m      3\u001b[0m \u001b[0;34m\u001b[0m\u001b[0m\n\u001b[1;32m      4\u001b[0m \u001b[0;31m## Uncomment the following line and run this cell\u001b[0m\u001b[0;34m\u001b[0m\u001b[0;34m\u001b[0m\u001b[0;34m\u001b[0m\u001b[0m\n\u001b[0;32m----> 5\u001b[0;31m \u001b[0mz\u001b[0m \u001b[0;34m=\u001b[0m \u001b[0mx\u001b[0m \u001b[0;34m+\u001b[0m \u001b[0my\u001b[0m\u001b[0;34m\u001b[0m\u001b[0;34m\u001b[0m\u001b[0m\n\u001b[0m",
            "\u001b[0;31mRuntimeError\u001b[0m: Expected all tensors to be on the same device, but found at least two devices, cuda:0 and cpu!"
          ]
        }
      ],
      "source": [
        "x = torch.tensor([0, 1, 2], device=DEVICE)\n",
        "y = torch.tensor([3, 4, 5], device=\"cpu\")\n",
        "\n",
        "## Uncomment the following line and run this cell\n",
        "z = x + y"
      ]
    },
    {
      "cell_type": "markdown",
      "metadata": {
        "execution": {},
        "id": "kGpKBjjTbK-m"
      },
      "source": [
        "We cannot combine CUDA tensors and CPU tensors in this fashion. If we want to compute an operation that combines tensors on different devices, we need to move them first! We can use the `.to()` method as before, or the `.cpu()` and `.cuda()` methods. Note that using the `.cuda()` will throw an error, if CUDA is not enabled in your machine.\n",
        "\n",
        "Generally, in this course, all Deep Learning is done on the GPU, and any computation is done on the CPU, so sometimes we have to pass things back and forth, so you'll see us call."
      ]
    },
    {
      "cell_type": "code",
      "execution_count": 11,
      "metadata": {
        "execution": {},
        "id": "OlSMLKZCbK-m",
        "outputId": "8d58892a-d012-43c6-8a3b-7e2007ce1291",
        "colab": {
          "base_uri": "https://localhost:8080/"
        }
      },
      "outputs": [
        {
          "output_type": "stream",
          "name": "stdout",
          "text": [
            "tensor([3, 5, 7])\n",
            "tensor([ 9, 11, 13], device='cuda:0')\n"
          ]
        }
      ],
      "source": [
        "x = torch.tensor([0, 1, 2], device=DEVICE)\n",
        "y = torch.tensor([3, 4, 5], device=\"cpu\")\n",
        "z = torch.tensor([6, 7, 8], device=DEVICE)\n",
        "\n",
        "# moving to cpu\n",
        "x = x.to(\"cpu\")  # alternatively, you can use x = x.cpu()\n",
        "print(x + y)\n",
        "\n",
        "# moving to gpu\n",
        "y = y.to(DEVICE)  # alternatively, you can use y = y.cuda()\n",
        "print(y + z)"
      ]
    },
    {
      "cell_type": "markdown",
      "metadata": {
        "execution": {},
        "id": "oIk7zB4cbK-m"
      },
      "source": [
        "### Coding Exercise 2.4: Just how much faster are GPUs?\n",
        "\n",
        "Below is a simple function `simpleFun`. Complete this function, such that it performs the operations:\n",
        "\n",
        "- Elementwise multiplication\n",
        "\n",
        "- Matrix multiplication\n",
        "\n",
        "The operations should be able to perfomed on either the CPU or GPU specified by the parameter `device`. We will use the helper function `timeFun(f, dim, iterations, device)`."
      ]
    },
    {
      "cell_type": "code",
      "execution_count": 12,
      "metadata": {
        "execution": {},
        "id": "GVxlWaDhbK-m"
      },
      "outputs": [],
      "source": [
        "dim = 10000\n",
        "iterations = 1"
      ]
    },
    {
      "cell_type": "code",
      "execution_count": 16,
      "metadata": {
        "execution": {},
        "id": "pM0JenAwbK-n",
        "outputId": "ef6bfb64-ebe7-468f-e345-de167c1be30b",
        "colab": {
          "base_uri": "https://localhost:8080/"
        }
      },
      "outputs": [
        {
          "output_type": "stream",
          "name": "stdout",
          "text": [
            "time taken for 1 iterations of simpleFun(10000, cpu): 27.39933\n",
            "time taken for 1 iterations of simpleFun(10000, cuda): 25.77745\n"
          ]
        }
      ],
      "source": [
        "def simpleFun(dim, device):\n",
        "  \"\"\"\n",
        "  Helper function to check device-compatiblity with computations\n",
        "\n",
        "  Args:\n",
        "    dim: Integer\n",
        "    device: String\n",
        "      \"cpu\" or \"cuda\"\n",
        "\n",
        "  Returns:\n",
        "    Nothing.\n",
        "  \"\"\"\n",
        "  ###############################################\n",
        "  ## TODO for students: recreate the function, but\n",
        "  ## ensure all computations happens on the `device`\n",
        "  # raise NotImplementedError(\"Student exercise: fill in the missing code to create the tensors\")\n",
        "  ###############################################\n",
        "  # 2D tensor filled with uniform random numbers in [0,1), dim x dim\n",
        "  x = torch.rand((dim, dim))\n",
        "  # print(x)\n",
        "  # 2D tensor filled with uniform random numbers in [0,1), dim x dim\n",
        "  y = torch.rand((dim, dim))\n",
        "  # 2D tensor filled with the scalar value 2, dim x dim\n",
        "  z = torch.ones((2,)).new_full((dim, dim), 2)\n",
        "\n",
        "  # elementwise multiplication of x and y\n",
        "  a = x @ y\n",
        "  # matrix multiplication of x and z\n",
        "  b = torch.multiply(x, z)\n",
        "\n",
        "  del x\n",
        "  del y\n",
        "  del z\n",
        "  del a\n",
        "  del b\n",
        "\n",
        "\n",
        "## TODO: Implement the function above and uncomment the following lines to test your code\n",
        "timeFun(f=simpleFun, dim=dim, iterations=iterations)\n",
        "timeFun(f=simpleFun, dim=dim, iterations=iterations, device=DEVICE)"
      ]
    },
    {
      "cell_type": "markdown",
      "metadata": {
        "execution": {},
        "id": "Vo44ixgdbK-o"
      },
      "source": [
        "[*Click for solution*](https://github.com/NeuromatchAcademy/course-content-dl/tree/main//tutorials/W1D1_BasicsAndPytorch/solutions/W1D1_Tutorial1_Solution_6284a222.py)\n",
        "\n"
      ]
    },
    {
      "cell_type": "markdown",
      "metadata": {
        "execution": {},
        "id": "-0-93zhtbK-o"
      },
      "source": [
        "Sample output (depends on your hardware)\n",
        "\n",
        "```\n",
        "time taken for 1 iterations of simpleFun(10000, cpu): 23.74070\n",
        "time taken for 1 iterations of simpleFun(10000, cuda): 0.87535\n",
        "```"
      ]
    },
    {
      "cell_type": "markdown",
      "metadata": {
        "execution": {},
        "id": "m8ZzCnb4bK-o"
      },
      "source": [
        "**Discuss!**\n",
        "\n",
        "Try and reduce the dimensions of the tensors and increase the iterations. You can get to a point where the cpu only function is faster than the GPU function. Why might this be?"
      ]
    },
    {
      "cell_type": "markdown",
      "metadata": {
        "execution": {},
        "id": "GGfsU7f7bK-o"
      },
      "source": [
        "[*Click for solution*](https://github.com/NeuromatchAcademy/course-content-dl/tree/main//tutorials/W1D1_BasicsAndPytorch/solutions/W1D1_Tutorial1_Solution_4ee0dee3.py)\n",
        "\n"
      ]
    },
    {
      "cell_type": "markdown",
      "metadata": {
        "execution": {},
        "id": "LUtMA7LabK-p"
      },
      "source": [
        "## Section 2.5: Datasets and Dataloaders"
      ]
    },
    {
      "cell_type": "code",
      "execution_count": null,
      "metadata": {
        "cellView": "form",
        "execution": {},
        "id": "bkm36P3WbK-p"
      },
      "outputs": [],
      "source": [
        "# @title Video 7: Getting Data\n",
        "from ipywidgets import widgets\n",
        "\n",
        "out2 = widgets.Output()\n",
        "with out2:\n",
        "  from IPython.display import IFrame\n",
        "  class BiliVideo(IFrame):\n",
        "    def __init__(self, id, page=1, width=400, height=300, **kwargs):\n",
        "      self.id=id\n",
        "      src = \"https://player.bilibili.com/player.html?bvid={0}&page={1}\".format(id, page)\n",
        "      super(BiliVideo, self).__init__(src, width, height, **kwargs)\n",
        "\n",
        "  video = BiliVideo(id=f\"BV1744y127SQ\", width=854, height=480, fs=1)\n",
        "  print(\"Video available at https://www.bilibili.com/video/{0}\".format(video.id))\n",
        "  display(video)\n",
        "\n",
        "out1 = widgets.Output()\n",
        "with out1:\n",
        "  from IPython.display import YouTubeVideo\n",
        "  video = YouTubeVideo(id=f\"LSkjPM1gFu0\", width=854, height=480, fs=1, rel=0)\n",
        "  print(\"Video available at https://youtube.com/watch?v=\" + video.id)\n",
        "  display(video)\n",
        "\n",
        "out = widgets.Tab([out1, out2])\n",
        "out.set_title(0, 'Youtube')\n",
        "out.set_title(1, 'Bilibili')\n",
        "\n",
        "# add timing to airtable\n",
        "atform.add_event('Video 7: Getting Data')\n",
        "\n",
        "display(out)"
      ]
    },
    {
      "cell_type": "markdown",
      "metadata": {
        "execution": {},
        "id": "39oidaYjbK-p"
      },
      "source": [
        "When training neural network models you will be working with large amounts of data. Fortunately, PyTorch offers some great tools that help you organize and manipulate your data samples."
      ]
    },
    {
      "cell_type": "code",
      "execution_count": 17,
      "metadata": {
        "execution": {},
        "id": "_5H8PZbVbK-q"
      },
      "outputs": [],
      "source": [
        "# Import dataset and dataloaders related packages\n",
        "from torchvision import datasets\n",
        "from torchvision.transforms import ToTensor\n",
        "from torch.utils.data import DataLoader\n",
        "from torchvision.transforms import Compose, Grayscale"
      ]
    },
    {
      "cell_type": "markdown",
      "metadata": {
        "execution": {},
        "id": "cXMO_9SKbK-q"
      },
      "source": [
        "**Datasets**\n",
        "\n",
        "The `torchvision` package gives you easy access to many of the publicly available datasets. Let's load the [CIFAR10](https://www.cs.toronto.edu/~kriz/cifar.html) dataset, which contains color images of 10 different classes, like vehicles and animals.\n",
        "\n",
        "Creating an object of type `datasets.CIFAR10` will automatically download and load all images from the dataset. The resulting data structure can be treated as a list containing data samples and their corresponding labels."
      ]
    },
    {
      "cell_type": "code",
      "execution_count": 18,
      "metadata": {
        "execution": {},
        "id": "fxSkMAn4bK-q",
        "outputId": "e721586a-ff43-4b86-ed05-ebd4bb67a9b9",
        "colab": {
          "base_uri": "https://localhost:8080/",
          "height": 120,
          "referenced_widgets": [
            "6ae70fc7d3ca4896beb507bf543cdff0",
            "78715cb119b64e7ea782049a9b7bd935",
            "315e72649db54414a7183a9747c63372",
            "3e13a72c9b6d472faf2864fbca9972f7",
            "873d296a11894a0fa1a65e5619527f59",
            "2ef1ce89d9aa4064aede2b6805fdc99a",
            "98d2440f61a54a02ae5d9f7e71fcae0c",
            "0c3c571211324214ae0b350825d474e4",
            "6f13153c008f4e19910515597a2ddc54",
            "9970faafcb6c4449bd44a44722d4ca71",
            "ea01baf618654e74b2bc875e381bca5b"
          ]
        }
      },
      "outputs": [
        {
          "output_type": "stream",
          "name": "stdout",
          "text": [
            "Downloading https://www.cs.toronto.edu/~kriz/cifar-10-python.tar.gz to data/cifar-10-python.tar.gz\n"
          ]
        },
        {
          "output_type": "display_data",
          "data": {
            "text/plain": [
              "  0%|          | 0/170498071 [00:00<?, ?it/s]"
            ],
            "application/vnd.jupyter.widget-view+json": {
              "version_major": 2,
              "version_minor": 0,
              "model_id": "6ae70fc7d3ca4896beb507bf543cdff0"
            }
          },
          "metadata": {}
        },
        {
          "output_type": "stream",
          "name": "stdout",
          "text": [
            "Extracting data/cifar-10-python.tar.gz to data\n",
            "Number of samples: 50000\n",
            "Class names: ['airplane', 'automobile', 'bird', 'cat', 'deer', 'dog', 'frog', 'horse', 'ship', 'truck']\n"
          ]
        }
      ],
      "source": [
        "# Download and load the images from the CIFAR10 dataset\n",
        "cifar10_data = datasets.CIFAR10(\n",
        "    root=\"data\",  # path where the images will be stored\n",
        "    download=True,  # all images should be downloaded\n",
        "    transform=ToTensor()  # transform the images to tensors\n",
        "    )\n",
        "\n",
        "# Print the number of samples in the loaded dataset\n",
        "print(f\"Number of samples: {len(cifar10_data)}\")\n",
        "print(f\"Class names: {cifar10_data.classes}\")"
      ]
    },
    {
      "cell_type": "markdown",
      "metadata": {
        "execution": {},
        "id": "t9pCvDI_bK-q"
      },
      "source": [
        "We have 50,000 samples loaded. Now, let's take a look at one of them in detail. Each sample consists of an image and its corresponding label."
      ]
    },
    {
      "cell_type": "code",
      "execution_count": 19,
      "metadata": {
        "execution": {},
        "id": "KDToh5nkbK-q",
        "outputId": "0368b7eb-4f26-4760-829f-93bf588cfab7",
        "colab": {
          "base_uri": "https://localhost:8080/"
        }
      },
      "outputs": [
        {
          "output_type": "stream",
          "name": "stdout",
          "text": [
            "Label: horse\n",
            "Image size: torch.Size([3, 32, 32])\n"
          ]
        }
      ],
      "source": [
        "# Choose a random sample\n",
        "random.seed(2021)\n",
        "image, label = cifar10_data[random.randint(0, len(cifar10_data))]\n",
        "print(f\"Label: {cifar10_data.classes[label]}\")\n",
        "print(f\"Image size: {image.shape}\")"
      ]
    },
    {
      "cell_type": "markdown",
      "metadata": {
        "execution": {},
        "id": "bK4MgmhubK-q"
      },
      "source": [
        "Color images are modeled as 3 dimensional tensors. The first dimension corresponds to the channels ($\\text{C}$) of the image (in this case we have RGB images). The second dimensions is the height ($\\text{H}$) of the image and the third is the width ($\\text{W}$). We can denote this image format as $\\text{C} \\times \\text{H} \\times \\text{W}$."
      ]
    },
    {
      "cell_type": "markdown",
      "metadata": {
        "execution": {},
        "id": "OxWkDXAQbK-r"
      },
      "source": [
        "### Coding Exercise 2.5: Display an image from the dataset\n",
        "\n",
        "Let's try to display the image using `matplotlib`. The code below will not work, because `imshow` expects to have the image in a different format, i.e., $\\text{C} \\times \\text{H} \\times \\text{W}$.\n",
        "\n",
        "You need to reorder the dimensions of the tensor using the `permute` method of the tensor. PyTorch `torch.permute(*dims)` rearranges the original tensor according to the desired ordering and returns a new multidimensional rotated tensor. The size of the returned tensor remains the same as that of the original.\n",
        "\n",
        "**Code hint:**\n",
        "\n",
        "```python\n",
        "# create a tensor of size 2 x 4\n",
        "input_var = torch.randn(2, 4)\n",
        "# print its size and the tensor\n",
        "print(input_var.size())\n",
        "print(input_var)\n",
        "\n",
        "# dimensions permuted\n",
        "input_var = input_var.permute(1, 0)\n",
        "# print its size and the permuted tensor\n",
        "print(input_var.size())\n",
        "print(input_var)\n",
        "```"
      ]
    },
    {
      "cell_type": "code",
      "execution_count": 26,
      "metadata": {
        "execution": {},
        "id": "8F_o9O7ZbK-r",
        "outputId": "6351605b-2e0c-4386-ff6f-e039207e511c",
        "colab": {
          "base_uri": "https://localhost:8080/",
          "height": 448
        }
      },
      "outputs": [
        {
          "output_type": "stream",
          "name": "stdout",
          "text": [
            "torch.Size([3, 32, 32])\n"
          ]
        },
        {
          "output_type": "display_data",
          "data": {
            "text/plain": [
              "<Figure size 576x432 with 1 Axes>"
            ],
            "image/png": "[encoded data removed]"
          },
          "metadata": {
            "image/png": {
              "width": 417,
              "height": 413
            },
            "needs_background": "light"
          }
        }
      ],
      "source": [
        "# TODO: Uncomment the following line to see the error that arises from the current image format\n",
        "# plt.imshow(image)\n",
        "\n",
        "# TODO: Comment the above line and fix this code by reordering the tensor dimensions\n",
        "print(image.shape)\n",
        "plt.imshow(image.permute(1,2,0))\n",
        "plt.show()"
      ]
    },
    {
      "cell_type": "markdown",
      "metadata": {
        "execution": {},
        "id": "9Ks81eQNbK-r"
      },
      "source": [
        "[*Click for solution*](https://github.com/NeuromatchAcademy/course-content-dl/tree/main//tutorials/W1D1_BasicsAndPytorch/solutions/W1D1_Tutorial1_Solution_b04bd357.py)\n",
        "\n",
        "*Example output:*\n",
        "\n",
        "<img alt='Solution hint' align='left' width=835.0 height=827.0 src=https://raw.githubusercontent.com/NeuromatchAcademy/course-content-dl/main/tutorials/W1D1_BasicsAndPytorch/static/W1D1_Tutorial1_Solution_b04bd357_0.png>\n",
        "\n"
      ]
    },
    {
      "cell_type": "code",
      "execution_count": null,
      "metadata": {
        "cellView": "form",
        "execution": {},
        "id": "NP06PYdebK-r"
      },
      "outputs": [],
      "source": [
        "#@title Video 8: Train and Test\n",
        "from ipywidgets import widgets\n",
        "\n",
        "out2 = widgets.Output()\n",
        "with out2:\n",
        "  from IPython.display import IFrame\n",
        "  class BiliVideo(IFrame):\n",
        "    def __init__(self, id, page=1, width=400, height=300, **kwargs):\n",
        "      self.id=id\n",
        "      src = \"https://player.bilibili.com/player.html?bvid={0}&page={1}\".format(id, page)\n",
        "      super(BiliVideo, self).__init__(src, width, height, **kwargs)\n",
        "\n",
        "  video = BiliVideo(id=f\"BV1rV411H7s5\", width=854, height=480, fs=1)\n",
        "  print(\"Video available at https://www.bilibili.com/video/{0}\".format(video.id))\n",
        "  display(video)\n",
        "\n",
        "out1 = widgets.Output()\n",
        "with out1:\n",
        "  from IPython.display import YouTubeVideo\n",
        "  video = YouTubeVideo(id=f\"JokSIuPs-ys\", width=854, height=480, fs=1, rel=0)\n",
        "  print(\"Video available at https://youtube.com/watch?v=\" + video.id)\n",
        "  display(video)\n",
        "\n",
        "out = widgets.Tab([out1, out2])\n",
        "out.set_title(0, 'Youtube')\n",
        "out.set_title(1, 'Bilibili')\n",
        "\n",
        "# add timing to airtable\n",
        "atform.add_event('Video 8: Train and Test')\n",
        "\n",
        "display(out)"
      ]
    },
    {
      "cell_type": "markdown",
      "metadata": {
        "execution": {},
        "id": "-0vSwYPJbK-r"
      },
      "source": [
        "**Training and Test Datasets**\n",
        "\n",
        "When loading a dataset, you can specify if you want to load the training or the test samples using the `train` argument. We can load the training and test datasets separately. For simplicity, today we will not use both datasets separately, but this topic will be adressed in the next days."
      ]
    },
    {
      "cell_type": "code",
      "execution_count": 27,
      "metadata": {
        "execution": {},
        "id": "MSesYE22bK-r",
        "outputId": "126d101d-6b06-46e8-eb48-413c8065ade8",
        "colab": {
          "base_uri": "https://localhost:8080/"
        }
      },
      "outputs": [
        {
          "output_type": "stream",
          "name": "stdout",
          "text": [
            "Files already downloaded and verified\n",
            "Files already downloaded and verified\n"
          ]
        }
      ],
      "source": [
        "# Load the training samples\n",
        "training_data = datasets.CIFAR10(\n",
        "    root=\"data\",\n",
        "    train=True,\n",
        "    download=True,\n",
        "    transform=ToTensor()\n",
        "    )\n",
        "\n",
        "# Load the test samples\n",
        "test_data = datasets.CIFAR10(\n",
        "    root=\"data\",\n",
        "    train=False,\n",
        "    download=True,\n",
        "    transform=ToTensor()\n",
        "    )"
      ]
    },
    {
      "cell_type": "code",
      "execution_count": null,
      "metadata": {
        "cellView": "form",
        "execution": {},
        "id": "E2n59FWCbK-s"
      },
      "outputs": [],
      "source": [
        "# @title Video 9: Data Augmentation - Transformations\n",
        "from ipywidgets import widgets\n",
        "\n",
        "out2 = widgets.Output()\n",
        "with out2:\n",
        "  from IPython.display import IFrame\n",
        "  class BiliVideo(IFrame):\n",
        "    def __init__(self, id, page=1, width=400, height=300, **kwargs):\n",
        "      self.id=id\n",
        "      src = \"https://player.bilibili.com/player.html?bvid={0}&page={1}\".format(id, page)\n",
        "      super(BiliVideo, self).__init__(src, width, height, **kwargs)\n",
        "\n",
        "  video = BiliVideo(id=f\"BV19B4y1N77t\", width=854, height=480, fs=1)\n",
        "  print(\"Video available at https://www.bilibili.com/video/{0}\".format(video.id))\n",
        "  display(video)\n",
        "\n",
        "out1 = widgets.Output()\n",
        "with out1:\n",
        "  from IPython.display import YouTubeVideo\n",
        "  video = YouTubeVideo(id=f\"sjegA9OBUPw\", width=854, height=480, fs=1, rel=0)\n",
        "  print(\"Video available at https://youtube.com/watch?v=\" + video.id)\n",
        "  display(video)\n",
        "\n",
        "out = widgets.Tab([out1, out2])\n",
        "out.set_title(0, 'Youtube')\n",
        "out.set_title(1, 'Bilibili')\n",
        "\n",
        "# add timing to airtable\n",
        "atform.add_event('Video 9: Data Augmentation - Transformations')\n",
        "\n",
        "display(out)"
      ]
    },
    {
      "cell_type": "markdown",
      "metadata": {
        "execution": {},
        "id": "z4npmlaBbK-s"
      },
      "source": [
        "**Dataloader**\n",
        "\n",
        "Another important concept is the `Dataloader`. It is a wrapper around the `Dataset` that splits it into minibatches (important for training the neural network) and makes the data iterable. The `shuffle` argument is used to shuffle the order of the samples across the minibatches."
      ]
    },
    {
      "cell_type": "code",
      "execution_count": 28,
      "metadata": {
        "execution": {},
        "id": "_er4whiFbK-s"
      },
      "outputs": [],
      "source": [
        "# Create dataloaders with\n",
        "train_dataloader = DataLoader(training_data, batch_size=64, shuffle=True)\n",
        "test_dataloader = DataLoader(test_data, batch_size=64, shuffle=True)"
      ]
    },
    {
      "cell_type": "markdown",
      "metadata": {
        "execution": {},
        "id": "hcuevIR8bK-s"
      },
      "source": [
        "*Reproducibility:* DataLoader will reseed workers following Randomness in multi-process data loading algorithm. Use `worker_init_fn()` and a `generator` to preserve reproducibility:\n",
        "\n",
        "\n",
        "```python\n",
        "def seed_worker(worker_id):\n",
        "  worker_seed = torch.initial_seed() % 2**32\n",
        "  numpy.random.seed(worker_seed)\n",
        "  random.seed(worker_seed)\n",
        "\n",
        "\n",
        "g_seed = torch.Generator()\n",
        "g_seed.manual_seed(my_seed)\n",
        "\n",
        "DataLoader(\n",
        "    train_dataset,\n",
        "    batch_size=batch_size,\n",
        "    num_workers=num_workers,\n",
        "    worker_init_fn=seed_worker,\n",
        "    generator=g_seed\n",
        "    )\n",
        "```"
      ]
    },
    {
      "cell_type": "markdown",
      "metadata": {
        "execution": {},
        "id": "x-mfbzGmbK-s"
      },
      "source": [
        "**Important:** For the `seed_worker` to have an effect, `num_workers` should be 2 or more."
      ]
    },
    {
      "cell_type": "markdown",
      "metadata": {
        "execution": {},
        "id": "pYa-0H3ibK-s"
      },
      "source": [
        "We can now query the next batch from the data loader and inspect it. For this we need to convert the dataloader object to a Python iterator using the function `iter` and then we can query the next batch using the function `next`.\n",
        "\n",
        "We can now see that we have a 4D tensor. This is because we have a 64 images in the batch ($B$) and each image has 3 dimensions: channels ($C$), height ($H$) and width ($W$). So, the size of the 4D tensor is $B \\times C \\times H \\times W$."
      ]
    },
    {
      "cell_type": "code",
      "execution_count": null,
      "metadata": {
        "execution": {},
        "id": "Z4GZMbWSbK-t"
      },
      "outputs": [],
      "source": [
        "# Load the next batch\n",
        "batch_images, batch_labels = next(iter(train_dataloader))\n",
        "print('Batch size:', batch_images.shape)\n",
        "\n",
        "# Display the first image from the batch\n",
        "plt.imshow(batch_images[0].permute(1, 2, 0))\n",
        "plt.show()"
      ]
    },
    {
      "cell_type": "markdown",
      "metadata": {
        "execution": {},
        "id": "1tWKkJpWbK-t"
      },
      "source": [
        "**Transformations**\n",
        "\n",
        "Another useful feature when loading a dataset is applying transformations on the data - color conversions, normalization, cropping, rotation etc. There are many predefined transformations in the `torchvision.transforms` package and you can also combine them using the `Compose` transform. Checkout the [pytorch documentation](https://pytorch.org/vision/stable/transforms.html) for details."
      ]
    },
    {
      "cell_type": "markdown",
      "metadata": {
        "execution": {},
        "id": "Oyi_TPzIbK-t"
      },
      "source": [
        "### Coding Exercise 2.6: Load the CIFAR10 dataset as grayscale images\n",
        "\n",
        "The goal of this excercise is to load the images from the CIFAR10 dataset as grayscale images. Note that we rerun the `set_seed` function to ensure reproducibility."
      ]
    },
    {
      "cell_type": "code",
      "execution_count": null,
      "metadata": {
        "execution": {},
        "id": "kAmAooI5bK-t"
      },
      "outputs": [],
      "source": [
        "def my_data_load():\n",
        "  \"\"\"\n",
        "  Function to load CIFAR10 data as grayscale images\n",
        "\n",
        "  Args:\n",
        "    None\n",
        "\n",
        "  Returns:\n",
        "    data: DataFrame\n",
        "      CIFAR10 loaded Dataframe of shape (3309, 14)\n",
        "  \"\"\"\n",
        "  ###############################################\n",
        "  ## TODO for students: load the CIFAR10 data,\n",
        "  ## but as grayscale images and not as RGB colored.\n",
        "  raise NotImplementedError(\"Student exercise: fill in the missing code to load the data\")\n",
        "  ###############################################\n",
        "  ## TODO Load the CIFAR10 data using a transform that converts the images to grayscale tensors\n",
        "  data = datasets.CIFAR10(...,\n",
        "                          transform=...)\n",
        "  # Display a random grayscale image\n",
        "  image, label = data[random.randint(0, len(data))]\n",
        "  plt.imshow(image.squeeze(), cmap=\"gray\")\n",
        "  plt.show()\n",
        "\n",
        "  return data\n",
        "\n",
        "\n",
        "set_seed(seed=2021)\n",
        "## After implementing the above code, uncomment the following lines to test your code\n",
        "# data = my_data_load()"
      ]
    },
    {
      "cell_type": "markdown",
      "metadata": {
        "execution": {},
        "id": "OlRrg-sRbK-t"
      },
      "source": [
        "[*Click for solution*](https://github.com/NeuromatchAcademy/course-content-dl/tree/main//tutorials/W1D1_BasicsAndPytorch/solutions/W1D1_Tutorial1_Solution_1c5a709e.py)\n",
        "\n",
        "*Example output:*\n",
        "\n",
        "<img alt='Solution hint' align='left' width=835.0 height=827.0 src=https://raw.githubusercontent.com/NeuromatchAcademy/course-content-dl/main/tutorials/W1D1_BasicsAndPytorch/static/W1D1_Tutorial1_Solution_1c5a709e_1.png>\n",
        "\n"
      ]
    },
    {
      "cell_type": "markdown",
      "metadata": {
        "execution": {},
        "id": "sG_TNyOSbK-t"
      },
      "source": [
        "---\n",
        "# Section 3: Neural Networks\n",
        "\n",
        "*Time estimate: ~1 hour 30 mins (excluding video)*"
      ]
    },
    {
      "cell_type": "markdown",
      "metadata": {
        "execution": {},
        "id": "FJ87Hx4HbK-u"
      },
      "source": [
        "Now it's time for you to create your first neural network using PyTorch. This section will walk you through the process of:\n",
        "\n",
        "- Creating a simple neural network model\n",
        "- Training the network\n",
        "- Visualizing the results of the network\n",
        "- Tweaking the network"
      ]
    },
    {
      "cell_type": "code",
      "execution_count": null,
      "metadata": {
        "cellView": "form",
        "execution": {},
        "id": "CHhtVB67bK-u"
      },
      "outputs": [],
      "source": [
        "# @title Video 10: CSV Files\n",
        "from ipywidgets import widgets\n",
        "\n",
        "out2 = widgets.Output()\n",
        "with out2:\n",
        "  from IPython.display import IFrame\n",
        "  class BiliVideo(IFrame):\n",
        "    def __init__(self, id, page=1, width=400, height=300, **kwargs):\n",
        "      self.id=id\n",
        "      src = \"https://player.bilibili.com/player.html?bvid={0}&page={1}\".format(id, page)\n",
        "      super(BiliVideo, self).__init__(src, width, height, **kwargs)\n",
        "\n",
        "  video = BiliVideo(id=f\"BV1xy4y1T7kv\", width=854, height=480, fs=1)\n",
        "  print(\"Video available at https://www.bilibili.com/video/{0}\".format(video.id))\n",
        "  display(video)\n",
        "\n",
        "out1 = widgets.Output()\n",
        "with out1:\n",
        "  from IPython.display import YouTubeVideo\n",
        "  video = YouTubeVideo(id=f\"JrC_UAJWYKU\", width=854, height=480, fs=1, rel=0)\n",
        "  print(\"Video available at https://youtube.com/watch?v=\" + video.id)\n",
        "  display(video)\n",
        "\n",
        "out = widgets.Tab([out1, out2])\n",
        "out.set_title(0, 'Youtube')\n",
        "out.set_title(1, 'Bilibili')\n",
        "\n",
        "# add timing to airtable\n",
        "atform.add_event('Video 10: CSV Files')\n",
        "\n",
        "display(out)"
      ]
    },
    {
      "cell_type": "markdown",
      "metadata": {
        "execution": {},
        "id": "pkaT2fJxbK-u"
      },
      "source": [
        "## Section 3.1: Data Loading\n",
        "\n",
        "First we need some sample data to train our network on. You can use the function below to generate an example dataset consisting of 2D points along two interleaving half circles. The data will be stored in a file called `sample_data.csv`. You can inspect the file directly in Colab by going to Files on the left side and opening the CSV file."
      ]
    },
    {
      "cell_type": "code",
      "execution_count": null,
      "metadata": {
        "cellView": "form",
        "execution": {},
        "id": "C0vUT1WSbK-u"
      },
      "outputs": [],
      "source": [
        "# @title Generate sample data\n",
        "# @markdown we used `scikit-learn` module\n",
        "from sklearn.datasets import make_moons\n",
        "\n",
        "# Create a dataset of 256 points with a little noise\n",
        "X, y = make_moons(256, noise=0.1)\n",
        "\n",
        "# Store the data as a Pandas data frame and save it to a CSV file\n",
        "df = pd.DataFrame(dict(x0=X[:,0], x1=X[:,1], y=y))\n",
        "df.to_csv('sample_data.csv')"
      ]
    },
    {
      "cell_type": "markdown",
      "metadata": {
        "execution": {},
        "id": "xQ-vsXnLbK-u"
      },
      "source": [
        "Now we can load the data from the CSV file using the Pandas library. Pandas provides many functions for reading files in various formats. When loading data from a CSV file, we can reference the columns directly by their names."
      ]
    },
    {
      "cell_type": "code",
      "execution_count": null,
      "metadata": {
        "execution": {},
        "id": "AJs9Vq8UbK-u"
      },
      "outputs": [],
      "source": [
        "# Load the data from the CSV file in a Pandas DataFrame\n",
        "data = pd.read_csv(\"sample_data.csv\")\n",
        "\n",
        "# Create a 2D numpy array from the x0 and x1 columns\n",
        "X_orig = data[[\"x0\", \"x1\"]].to_numpy()\n",
        "\n",
        "# Create a 1D numpy array from the y column\n",
        "y_orig = data[\"y\"].to_numpy()\n",
        "\n",
        "# Print the sizes of the generated 2D points X and the corresponding labels Y\n",
        "print(f\"Size X:{X_orig.shape}\")\n",
        "print(f\"Size y:{y_orig.shape}\")\n",
        "\n",
        "# Visualize the dataset. The color of the points is determined by the labels `y_orig`.\n",
        "plt.scatter(X_orig[:, 0], X_orig[:, 1], s=40, c=y_orig)\n",
        "plt.show()"
      ]
    },
    {
      "cell_type": "markdown",
      "metadata": {
        "execution": {},
        "id": "GuRUQXhpbK-v"
      },
      "source": [
        "**Prepare Data for PyTorch**\n",
        "\n",
        "Now let's prepare the data in a format suitable for PyTorch - convert everything into tensors."
      ]
    },
    {
      "cell_type": "code",
      "execution_count": null,
      "metadata": {
        "execution": {},
        "id": "9Fjsn5jGbK-v"
      },
      "outputs": [],
      "source": [
        "# Initialize the device variable\n",
        "DEVICE = set_device()\n",
        "\n",
        "# Convert the 2D points to a float32 tensor\n",
        "X = torch.tensor(X_orig, dtype=torch.float32)\n",
        "\n",
        "# Upload the tensor to the device\n",
        "X = X.to(DEVICE)\n",
        "\n",
        "print(f\"Size X:{X.shape}\")\n",
        "\n",
        "# Convert the labels to a long interger tensor\n",
        "y = torch.from_numpy(y_orig).type(torch.LongTensor)\n",
        "\n",
        "# Upload the tensor to the device\n",
        "y = y.to(DEVICE)\n",
        "\n",
        "print(f\"Size y:{y.shape}\")"
      ]
    },
    {
      "cell_type": "markdown",
      "metadata": {
        "execution": {},
        "id": "r9CMamv6bK-v"
      },
      "source": [
        "## Section 3.2: Create a Simple Neural Network"
      ]
    },
    {
      "cell_type": "code",
      "execution_count": null,
      "metadata": {
        "cellView": "form",
        "execution": {},
        "id": "VtAHYKvqbK-w"
      },
      "outputs": [],
      "source": [
        "# @title Video 11: Generating the Neural Network\n",
        "from ipywidgets import widgets\n",
        "\n",
        "out2 = widgets.Output()\n",
        "with out2:\n",
        "  from IPython.display import IFrame\n",
        "  class BiliVideo(IFrame):\n",
        "    def __init__(self, id, page=1, width=400, height=300, **kwargs):\n",
        "      self.id=id\n",
        "      src = \"https://player.bilibili.com/player.html?bvid={0}&page={1}\".format(id, page)\n",
        "      super(BiliVideo, self).__init__(src, width, height, **kwargs)\n",
        "\n",
        "  video = BiliVideo(id=f\"BV1fK4y1M74a\", width=854, height=480, fs=1)\n",
        "  print(\"Video available at https://www.bilibili.com/video/{0}\".format(video.id))\n",
        "  display(video)\n",
        "\n",
        "out1 = widgets.Output()\n",
        "with out1:\n",
        "  from IPython.display import YouTubeVideo\n",
        "  video = YouTubeVideo(id=f\"PwSzRohUvck\", width=854, height=480, fs=1, rel=0)\n",
        "  print(\"Video available at https://youtube.com/watch?v=\" + video.id)\n",
        "  display(video)\n",
        "\n",
        "out = widgets.Tab([out1, out2])\n",
        "out.set_title(0, 'Youtube')\n",
        "out.set_title(1, 'Bilibili')\n",
        "\n",
        "# add timing to airtable\n",
        "atform.add_event('Video 11: Generating the Neural Network')\n",
        "\n",
        "display(out)"
      ]
    },
    {
      "cell_type": "markdown",
      "metadata": {
        "execution": {},
        "id": "YjLmB8uUbK-w"
      },
      "source": [
        "For this example we want to have a simple neural network consisting of 3 layers:\n",
        "\n",
        "- 1 input layer of size 2 (our points have 2 coordinates)\n",
        "- 1 hidden layer of size 16 (you can play with different numbers here)\n",
        "- 1 output layer of size 2 (we want the have the scores for the two classes)\n",
        "\n",
        "During the course you will deal with differend kinds of neural networks. On Day 2, we will focus on linear networks, but you will work with some more complicated architectures in the next days. The example here is meant to demonstrate the process of creating and training a neural network end-to-end.\n",
        "\n",
        "**Programing the Network**\n",
        "\n",
        "PyTorch provides a base class for all neural network modules called [`nn.Module`](https://pytorch.org/docs/stable/generated/torch.nn.Module.html). You need to inherit from `nn.Module` and implement some important methods:\n",
        "\n",
        "* `__init__`\n",
        "\n",
        "  In the `__init__` method you need to define the structure of your network. Here you will specify what layers will the network consist of, what activation functions will be used etc.\n",
        "\n",
        "* `forward`\n",
        "\n",
        "  All neural network modules need to implement the `forward` method. It specifies the computations the network needs to do when data is passed through it.\n",
        "\n",
        "* `predict`\n",
        "\n",
        "  This is not an obligatory method of a neural network module, but it is a good practice if you want to quickly get the most likely label from the network. It calls the `forward` method and chooses the label with the highest score.\n",
        "\n",
        "* `train`\n",
        "\n",
        "  This is also not an obligatory method, but it is a good practice to have. The method will be used to train the network parameters and will be implemented later in the notebook.\n",
        "\n",
        "<br>\n",
        "\n",
        "**Note:** You can use the `__call__` method of a module directly and it will invoke the `forward` method: `net()` does the same as `net.forward()`."
      ]
    },
    {
      "cell_type": "code",
      "execution_count": null,
      "metadata": {
        "execution": {},
        "id": "VCvhmJMhbK-z"
      },
      "outputs": [],
      "source": [
        "# Inherit from nn.Module - the base class for neural network modules provided by Pytorch\n",
        "class NaiveNet(nn.Module):\n",
        "  \"\"\"\n",
        "  NaiveNet architecture\n",
        "  Structure is as follows:\n",
        "  Linear Layer (2, 16) -> ReLU activation -> Linear Layer (16, 2)\n",
        "  \"\"\"\n",
        "  # Define the structure of your network\n",
        "  def __init__(self):\n",
        "    \"\"\"\n",
        "    Defines the NaiveNet structure by initialising following attributes\n",
        "    nn.Linear (2, 16):  Transformation from the input to the hidden layer\n",
        "    nn.ReLU: Activation function (ReLU) is a non-linearity which is widely used because it reduces computation.\n",
        "             The function returns 0 if it receives any negative input, but for any positive value x, it returns that value back.\n",
        "    nn.Linear (16, 2): Transformation from the hidden to the output layer\n",
        "\n",
        "    Args:\n",
        "      None\n",
        "\n",
        "    Returns:\n",
        "      Nothing\n",
        "    \"\"\"\n",
        "    super(NaiveNet, self).__init__()\n",
        "\n",
        "    # The network is defined as a sequence of operations\n",
        "    self.layers = nn.Sequential(\n",
        "        nn.Linear(2, 16),\n",
        "        nn.ReLU(),\n",
        "        nn.Linear(16, 2),\n",
        "    )\n",
        "\n",
        "  # Specify the computations performed on the data\n",
        "  def forward(self, x):\n",
        "    \"\"\"\n",
        "    Defines the forward pass through the above defined structure\n",
        "\n",
        "    Args:\n",
        "      x: torch.Tensor\n",
        "        Input tensor of size ([3])\n",
        "\n",
        "    Returns:\n",
        "      layers: nn.module\n",
        "        Initialised Layers in order to re-use the same layer for each forward pass of data you make.\n",
        "    \"\"\"\n",
        "    # Pass the data through the layers\n",
        "    return self.layers(x)\n",
        "\n",
        "  # Choose the most likely label predicted by the network\n",
        "  def predict(self, x):\n",
        "    \"\"\"\n",
        "    Performs the prediction task of the network\n",
        "\n",
        "    Args:\n",
        "      x: torch.Tensor\n",
        "        Input tensor of size ([3])\n",
        "\n",
        "    Returns:\n",
        "      Most likely class i.e., Label with the highest score\n",
        "    \"\"\"\n",
        "    # Pass the data through the networks\n",
        "    output = self.forward(x)\n",
        "\n",
        "    # Choose the label with the highest score\n",
        "    return torch.argmax(output, 1)\n",
        "\n",
        "  # Train the neural network (will be implemented later)\n",
        "  def train(self, X, y):\n",
        "    \"\"\"\n",
        "    Training the Neural Network\n",
        "\n",
        "    Args:\n",
        "      X: torch.Tensor\n",
        "        Input data\n",
        "      y: torch.Tensor\n",
        "        Class Labels/Targets\n",
        "\n",
        "    Returns:\n",
        "      Nothing\n",
        "    \"\"\"\n",
        "    pass"
      ]
    },
    {
      "cell_type": "markdown",
      "metadata": {
        "execution": {},
        "id": "dEzP4cL1bK-0"
      },
      "source": [
        "**Check that your network works**\n",
        "\n",
        "Create an instance of your model and visualize it."
      ]
    },
    {
      "cell_type": "code",
      "execution_count": null,
      "metadata": {
        "execution": {},
        "id": "pzJL1lLBbK-0"
      },
      "outputs": [],
      "source": [
        "# Create new NaiveNet and transfer it to the device\n",
        "model = NaiveNet().to(DEVICE)\n",
        "\n",
        "# Print the structure of the network\n",
        "print(model)"
      ]
    },
    {
      "cell_type": "markdown",
      "metadata": {
        "execution": {},
        "id": "OPYjD99rbK-0"
      },
      "source": [
        "### Coding Exercise 3.2: Classify some samples\n",
        "\n",
        "Now, let's pass some of the points of our dataset through the network and see if it works. You should not expect the network to actually classify the points correctly, because it has not been trained yet. \n",
        "\n",
        "The goal here is just to get some experience with the data structures that are passed to the forward and predict methods and their results."
      ]
    },
    {
      "cell_type": "code",
      "execution_count": null,
      "metadata": {
        "execution": {},
        "id": "0CKhVTMGbK-1"
      },
      "outputs": [],
      "source": [
        "## Get the samples\n",
        "# X_samples = ...\n",
        "# print(\"Sample input:\\n\", X_samples)\n",
        "\n",
        "## Do a forward pass of the network\n",
        "# output = ...\n",
        "# print(\"\\nNetwork output:\\n\", output)\n",
        "\n",
        "## Predict the label of each point\n",
        "# y_predicted = ...\n",
        "# print(\"\\nPredicted labels:\\n\", y_predicted)"
      ]
    },
    {
      "cell_type": "markdown",
      "metadata": {
        "execution": {},
        "id": "Ximvgb8MbK-1"
      },
      "source": [
        "[*Click for solution*](https://github.com/NeuromatchAcademy/course-content-dl/tree/main//tutorials/W1D1_BasicsAndPytorch/solutions/W1D1_Tutorial1_Solution_63f6a21a.py)\n",
        "\n"
      ]
    },
    {
      "cell_type": "markdown",
      "metadata": {
        "execution": {},
        "id": "IjqxT3dhbK-1"
      },
      "source": [
        "```\n",
        "Sample input:\n",
        " tensor([[ 0.9066,  0.5052],\n",
        "        [-0.2024,  1.1226],\n",
        "        [ 1.0685,  0.2809],\n",
        "        [ 0.6720,  0.5097],\n",
        "        [ 0.8548,  0.5122]], device='cuda:0')\n",
        "\n",
        "Network output:\n",
        " tensor([[ 0.1543, -0.8018],\n",
        "        [ 2.2077, -2.9859],\n",
        "        [-0.5745, -0.0195],\n",
        "        [ 0.1924, -0.8367],\n",
        "        [ 0.1818, -0.8301]], device='cuda:0', grad_fn=<AddmmBackward>)\n",
        "\n",
        "Predicted labels:\n",
        " tensor([0, 0, 1, 0, 0], device='cuda:0')\n",
        "```"
      ]
    },
    {
      "cell_type": "markdown",
      "metadata": {
        "execution": {},
        "id": "zaoVf7BIbK-1"
      },
      "source": [
        "## Section 3.3: Train Your Neural Network"
      ]
    },
    {
      "cell_type": "code",
      "execution_count": null,
      "metadata": {
        "cellView": "form",
        "execution": {},
        "id": "oZDsyWSebK-2"
      },
      "outputs": [],
      "source": [
        "# @title Video 12: Train the Network\n",
        "from ipywidgets import widgets\n",
        "\n",
        "out2 = widgets.Output()\n",
        "with out2:\n",
        "  from IPython.display import IFrame\n",
        "  class BiliVideo(IFrame):\n",
        "    def __init__(self, id, page=1, width=400, height=300, **kwargs):\n",
        "      self.id=id\n",
        "      src = \"https://player.bilibili.com/player.html?bvid={0}&page={1}\".format(id, page)\n",
        "      super(BiliVideo, self).__init__(src, width, height, **kwargs)\n",
        "\n",
        "  video = BiliVideo(id=f\"BV1v54y1n7CS\", width=854, height=480, fs=1)\n",
        "  print(\"Video available at https://www.bilibili.com/video/{0}\".format(video.id))\n",
        "  display(video)\n",
        "\n",
        "out1 = widgets.Output()\n",
        "with out1:\n",
        "  from IPython.display import YouTubeVideo\n",
        "  video = YouTubeVideo(id=f\"4MIqnE4XPaA\", width=854, height=480, fs=1, rel=0)\n",
        "  print(\"Video available at https://youtube.com/watch?v=\" + video.id)\n",
        "  display(video)\n",
        "\n",
        "out = widgets.Tab([out1, out2])\n",
        "out.set_title(0, 'Youtube')\n",
        "out.set_title(1, 'Bilibili')\n",
        "\n",
        "# add timing to airtable\n",
        "atform.add_event('Video 12: Train the Network')\n",
        "\n",
        "display(out)"
      ]
    },
    {
      "cell_type": "markdown",
      "metadata": {
        "execution": {},
        "id": "YHovVE76bK-2"
      },
      "source": [
        "Now it is time to train your network on your dataset. Don't worry if you don't fully understand everything yet - we will cover training in much more details in the next days. For now, the goal is just to see your network in action!\n",
        "\n",
        "You will usually implement the `train` method directly when implementing your class `NaiveNet`. Here, we will implement it as a function outside of the class in order to have it in a separate cell."
      ]
    },
    {
      "cell_type": "code",
      "execution_count": null,
      "metadata": {
        "cellView": "form",
        "execution": {},
        "id": "IpTM6MnNbK-2"
      },
      "outputs": [],
      "source": [
        "# @title Helper function to plot the decision boundary\n",
        "\n",
        "# Code adapted from this notebook: https://jonchar.net/notebooks/Artificial-Neural-Network-with-Keras/\n",
        "\n",
        "from pathlib import Path\n",
        "\n",
        "def plot_decision_boundary(model, X, y, device):\n",
        "  \"\"\"\n",
        "  Helper function to plot decision boundary\n",
        "\n",
        "  Args:\n",
        "    model: nn.module\n",
        "      NaiveNet instance\n",
        "    X: torch.tensor\n",
        "      Input CIFAR10 data\n",
        "    y: torch.tensor\n",
        "      Class Labels/Targets\n",
        "    device: String\n",
        "      \"cpu\" or \"cuda\"\n",
        "\n",
        "  Returns:\n",
        "    Nothing\n",
        "  \"\"\"\n",
        "  # Transfer the data to the CPU\n",
        "  X = X.cpu().numpy()\n",
        "  y = y.cpu().numpy()\n",
        "\n",
        "  # Check if the frames folder exists and create it if needed\n",
        "  frames_path = Path(\"frames\")\n",
        "  if not frames_path.exists():\n",
        "    frames_path.mkdir()\n",
        "\n",
        "  # Set min and max values and give it some padding\n",
        "  x_min, x_max = X[:, 0].min() - .5, X[:, 0].max() + .5\n",
        "  y_min, y_max = X[:, 1].min() - .5, X[:, 1].max() + .5\n",
        "  h = 0.01\n",
        "\n",
        "  # Generate a grid of points with distance h between them\n",
        "  xx, yy = np.meshgrid(np.arange(x_min, x_max, h), np.arange(y_min, y_max, h))\n",
        "\n",
        "  # Predict the function value for the whole gid\n",
        "  grid_points = np.c_[xx.ravel(), yy.ravel()]\n",
        "  grid_points = torch.from_numpy(grid_points).type(torch.FloatTensor)\n",
        "  Z = model.predict(grid_points.to(device)).cpu().numpy()\n",
        "  Z = Z.reshape(xx.shape)\n",
        "\n",
        "  # Plot the contour and training examples\n",
        "  plt.contourf(xx, yy, Z, cmap=plt.cm.Spectral)\n",
        "  plt.scatter(X[:, 0], X[:, 1], c=y, cmap=plt.cm.binary)"
      ]
    },
    {
      "cell_type": "code",
      "execution_count": null,
      "metadata": {
        "execution": {},
        "id": "uiXvfsfmbK-2"
      },
      "outputs": [],
      "source": [
        "# Implement the train function given a training dataset X and correcsponding labels y\n",
        "def train(model, X, y):\n",
        "  \"\"\"\n",
        "    Training the Neural Network\n",
        "\n",
        "    Args:\n",
        "      X: torch.Tensor\n",
        "        Input data\n",
        "      y: torch.Tensor\n",
        "        Class Labels/Targets\n",
        "\n",
        "    Returns:\n",
        "      losses: Float\n",
        "        Cross Entropy Loss; Cross-entropy builds upon the idea of entropy\n",
        "        from information theory and calculates the number of bits required\n",
        "        to represent or transmit an average event from one distribution\n",
        "        compared to another distribution.\n",
        "    \"\"\"\n",
        "  # The Cross Entropy Loss is suitable for classification problems\n",
        "  loss_function = nn.CrossEntropyLoss()\n",
        "\n",
        "  # Create an optimizer (Stochastic Gradient Descent) that will be used to train the network\n",
        "  learning_rate = 1e-2\n",
        "  optimizer = torch.optim.SGD(model.parameters(), lr=learning_rate)\n",
        "\n",
        "  # Number of epochs\n",
        "  epochs = 15000\n",
        "\n",
        "  # List of losses for visualization\n",
        "  losses = []\n",
        "\n",
        "  for i in range(epochs):\n",
        "    # Pass the data through the network and compute the loss\n",
        "    # We'll use the whole dataset during the training instead of using batches\n",
        "    # in to order to keep the code simple for now.\n",
        "    y_logits = model.forward(X)\n",
        "    loss = loss_function(y_logits, y)\n",
        "\n",
        "    # Clear the previous gradients and compute the new ones\n",
        "    optimizer.zero_grad()\n",
        "    loss.backward()\n",
        "\n",
        "    # Adapt the weights of the network\n",
        "    optimizer.step()\n",
        "\n",
        "    # Store the loss\n",
        "    losses.append(loss.item())\n",
        "\n",
        "    # Print the results at every 1000th epoch\n",
        "    if i % 1000 == 0:\n",
        "      print(f\"Epoch {i} loss is {loss.item()}\")\n",
        "\n",
        "      plot_decision_boundary(model, X, y, DEVICE)\n",
        "      plt.savefig('frames/{:05d}.png'.format(i))\n",
        "\n",
        "  return losses\n",
        "\n",
        "\n",
        "# Create a new network instance a train it\n",
        "model = NaiveNet().to(DEVICE)\n",
        "losses = train(model, X, y)"
      ]
    },
    {
      "cell_type": "markdown",
      "metadata": {
        "execution": {},
        "id": "iaJbeAkDbK-3"
      },
      "source": [
        "**Plot the loss during training**\n",
        "\n",
        "Plot the loss during the training to see how it reduces and converges."
      ]
    },
    {
      "cell_type": "code",
      "execution_count": null,
      "metadata": {
        "execution": {},
        "id": "aIgdTTusbK-3"
      },
      "outputs": [],
      "source": [
        "plt.plot(np.linspace(1, len(losses), len(losses)), losses)\n",
        "plt.xlabel(\"Epoch\")\n",
        "plt.ylabel(\"Loss\")"
      ]
    },
    {
      "cell_type": "code",
      "execution_count": null,
      "metadata": {
        "cellView": "form",
        "execution": {},
        "id": "GBMo_-BsbK-3"
      },
      "outputs": [],
      "source": [
        "# @title Visualize the training process\n",
        "# @markdown Execute this cell!\n",
        "!pip install imageio --quiet\n",
        "!pip install pathlib --quiet\n",
        "\n",
        "import imageio\n",
        "from IPython.core.interactiveshell import InteractiveShell\n",
        "from IPython.display import Image, display\n",
        "from pathlib import Path\n",
        "\n",
        "InteractiveShell.ast_node_interactivity = \"all\"\n",
        "\n",
        "# Make a list with all images\n",
        "images = []\n",
        "for i in range(10):\n",
        "  filename = Path(\"frames/0\"+str(i)+\"000.png\")\n",
        "  images.append(imageio.imread(filename))\n",
        "# Save the gif\n",
        "imageio.mimsave('frames/movie.gif', images)\n",
        "gifPath = Path(\"frames/movie.gif\")\n",
        "with open(gifPath,'rb') as f:\n",
        "  display(Image(data=f.read(), format='png'))"
      ]
    },
    {
      "cell_type": "code",
      "execution_count": null,
      "metadata": {
        "cellView": "form",
        "execution": {},
        "id": "C4dBFBY1bK-3"
      },
      "outputs": [],
      "source": [
        "# @title Video 13: Play with it\n",
        "from ipywidgets import widgets\n",
        "\n",
        "out2 = widgets.Output()\n",
        "with out2:\n",
        "  from IPython.display import IFrame\n",
        "  class BiliVideo(IFrame):\n",
        "    def __init__(self, id, page=1, width=400, height=300, **kwargs):\n",
        "      self.id=id\n",
        "      src = \"https://player.bilibili.com/player.html?bvid={0}&page={1}\".format(id, page)\n",
        "      super(BiliVideo, self).__init__(src, width, height, **kwargs)\n",
        "\n",
        "  video = BiliVideo(id=f\"BV1Cq4y1W7BH\", width=854, height=480, fs=1)\n",
        "  print(\"Video available at https://www.bilibili.com/video/{0}\".format(video.id))\n",
        "  display(video)\n",
        "\n",
        "out1 = widgets.Output()\n",
        "with out1:\n",
        "  from IPython.display import YouTubeVideo\n",
        "  video = YouTubeVideo(id=f\"_GGkapdOdSY\", width=854, height=480, fs=1, rel=0)\n",
        "  print(\"Video available at https://youtube.com/watch?v=\" + video.id)\n",
        "  display(video)\n",
        "\n",
        "out = widgets.Tab([out1, out2])\n",
        "out.set_title(0, 'Youtube')\n",
        "out.set_title(1, 'Bilibili')\n",
        "\n",
        "# add timing to airtable\n",
        "atform.add_event('Video 13: Play with it')\n",
        "\n",
        "display(out)"
      ]
    },
    {
      "cell_type": "markdown",
      "metadata": {
        "execution": {},
        "id": "74y_gb8cbK-4"
      },
      "source": [
        "### Exercise 3.3: Tweak your Network\n",
        "\n",
        "You can now play around with the network a little bit to get a feeling of what different parameters are doing. Here are some ideas what you could try:\n",
        "\n",
        "- Increase or decrease the number of epochs for training\n",
        "- Increase or decrease the size of the hidden layer\n",
        "- Add one additional hidden layer\n",
        "\n",
        "Can you get the network to better fit the data?"
      ]
    },
    {
      "cell_type": "markdown",
      "metadata": {
        "execution": {},
        "id": "CVGP5Mf4bK-4"
      },
      "source": [
        "[*Click for solution*](https://github.com/NeuromatchAcademy/course-content-dl/tree/main//tutorials/W1D1_BasicsAndPytorch/solutions/W1D1_Tutorial1_Solution_fd3bd4a1.py)\n",
        "\n"
      ]
    },
    {
      "cell_type": "code",
      "execution_count": null,
      "metadata": {
        "cellView": "form",
        "execution": {},
        "id": "hjQhLPCJbK-4"
      },
      "outputs": [],
      "source": [
        "# @title Video 14: XOR Widget\n",
        "from ipywidgets import widgets\n",
        "\n",
        "out2 = widgets.Output()\n",
        "with out2:\n",
        "  from IPython.display import IFrame\n",
        "  class BiliVideo(IFrame):\n",
        "    def __init__(self, id, page=1, width=400, height=300, **kwargs):\n",
        "      self.id=id\n",
        "      src = \"https://player.bilibili.com/player.html?bvid={0}&page={1}\".format(id, page)\n",
        "      super(BiliVideo, self).__init__(src, width, height, **kwargs)\n",
        "\n",
        "  video = BiliVideo(id=f\"BV1mB4y1N7QS\", width=854, height=480, fs=1)\n",
        "  print(\"Video available at https://www.bilibili.com/video/{0}\".format(video.id))\n",
        "  display(video)\n",
        "\n",
        "out1 = widgets.Output()\n",
        "with out1:\n",
        "  from IPython.display import YouTubeVideo\n",
        "  video = YouTubeVideo(id=f\"oTr1nE2rCWg\", width=854, height=480, fs=1, rel=0)\n",
        "  print(\"Video available at https://youtube.com/watch?v=\" + video.id)\n",
        "  display(video)\n",
        "\n",
        "out = widgets.Tab([out1, out2])\n",
        "out.set_title(0, 'Youtube')\n",
        "out.set_title(1, 'Bilibili')\n",
        "\n",
        "# add timing to airtable\n",
        "atform.add_event('Video 14: XOR Widget')\n",
        "\n",
        "display(out)"
      ]
    },
    {
      "cell_type": "markdown",
      "metadata": {
        "execution": {},
        "id": "K3IHrsiBbK-4"
      },
      "source": [
        "Exclusive OR (XOR) logical operation gives a true (`1`) output when the number of true inputs is odd. That is, a true output result if one, and only one, of the inputs to the gate is true. If both inputs are false (`0`) or both are true or false output results. Mathematically speaking, XOR represents the inequality function, i.e., the output is true if the inputs are not alike; otherwise, the output is false.\n",
        "\n",
        "In case of two inputs ($X$ and $Y$) the following truth table is applied:\n",
        "\n",
        "\\begin{matrix}\n",
        "  X & Y & \\text{XOR}\\\\\n",
        "  \\hline\n",
        "  0 & 0 & 0\\\\\n",
        "  0 & 1 & 1\\\\\n",
        "  1 & 0 & 1\\\\\n",
        "  1 & 1 & 0\n",
        "\\end{matrix}\n",
        "\n",
        "Here, with `0`, we denote `False`, and with `1` we denote `True` in boolean terms."
      ]
    },
    {
      "cell_type": "markdown",
      "metadata": {
        "execution": {},
        "id": "rbAmqSTxbK-5"
      },
      "source": [
        "### Interactive Demo 3.3: Solving XOR\n",
        "\n",
        "Here we use an open source and famous visualization widget developed by Tensorflow team available [here](https://github.com/tensorflow/playground).\n",
        "* Play with the widget and observe if you can solve the continuous XOR dataset.\n",
        "* Now add one hidden layer with three units, play with the widget, and set weights by hand to solve this dataset perfectly.\n",
        "\n",
        "For the second part, you should set the weights by clicking on the connections and either type the value or use the up and down keys to change it by one increment. You could also do the same for the biases by clicking on the tiny square to each neuron's bottom left.\n",
        "Even though there are infinitely many solutions, a neat solution when $f(x)$ is ReLU is: \n",
        "\n",
        "\\begin{equation}\n",
        "  y = f(x_1)+f(x_2)-f(x_1+x_2)\n",
        "\\end{equation}\n",
        "\n",
        "Try to set the weights and biases to implement this function after you played enough :)"
      ]
    },
    {
      "cell_type": "code",
      "execution_count": null,
      "metadata": {
        "cellView": "form",
        "execution": {},
        "id": "47kcADjPbK-5"
      },
      "outputs": [],
      "source": [
        "# @markdown Play with the parameters to solve XOR\n",
        "from IPython.display import IFrame\n",
        "IFrame(\"https://playground.arashash.com/#activation=relu&batchSize=10&dataset=xor&regDataset=reg-plane&learningRate=0.03&regularizationRate=0&noise=0&networkShape=&seed=0.91390&showTestData=false&discretize=false&percTrainData=90&x=true&y=true&xTimesY=false&xSquared=false&ySquared=false&cosX=false&sinX=false&cosY=false&sinY=false&collectStats=false&problem=classification&initZero=false&hideText=false\", width=1020, height=660)"
      ]
    },
    {
      "cell_type": "code",
      "execution_count": null,
      "metadata": {
        "cellView": "form",
        "execution": {},
        "id": "ORntgwz5bK-5"
      },
      "outputs": [],
      "source": [
        "# @markdown Do you think we can solve the discrete XOR (only 4 possibilities) with only 2 hidden units?\n",
        "w1_min_xor = 'Select' #@param ['Select', 'Yes', 'No']\n",
        "if w1_min_xor == 'Yes':\n",
        "  print(\"Awesome. Indeed, yes. We take the two points for which the output should be 1 and dedicate one of the hidden units to each of them. Each of theses  ReLU functions are diagonal and tuned so that only for one of those two points the output is 1. In the end, we add these two together. And voila - discrete xor.\")\n",
        "else:\n",
        "  print(\"How about giving it another try?\")"
      ]
    },
    {
      "cell_type": "markdown",
      "metadata": {
        "execution": {},
        "id": "WvmszgfJbK-5"
      },
      "source": [
        "---\n",
        "# Section 4: Ethics And Course Info"
      ]
    },
    {
      "cell_type": "code",
      "execution_count": null,
      "metadata": {
        "cellView": "form",
        "execution": {},
        "id": "ndUyhoDZbK-_"
      },
      "outputs": [],
      "source": [
        "# @title Video 15: Ethics\n",
        "from ipywidgets import widgets\n",
        "\n",
        "out2 = widgets.Output()\n",
        "with out2:\n",
        "  from IPython.display import IFrame\n",
        "  class BiliVideo(IFrame):\n",
        "    def __init__(self, id, page=1, width=400, height=300, **kwargs):\n",
        "      self.id=id\n",
        "      src = \"https://player.bilibili.com/player.html?bvid={0}&page={1}\".format(id, page)\n",
        "      super(BiliVideo, self).__init__(src, width, height, **kwargs)\n",
        "\n",
        "  video = BiliVideo(id=f\"BV1Hw41197oB\", width=854, height=480, fs=1)\n",
        "  print(\"Video available at https://www.bilibili.com/video/{0}\".format(video.id))\n",
        "  display(video)\n",
        "\n",
        "out1 = widgets.Output()\n",
        "with out1:\n",
        "  from IPython.display import YouTubeVideo\n",
        "  video = YouTubeVideo(id=f\"Kt6JLi3rUFU\", width=854, height=480, fs=1, rel=0)\n",
        "  print(\"Video available at https://youtube.com/watch?v=\" + video.id)\n",
        "  display(video)\n",
        "\n",
        "out = widgets.Tab([out1, out2])\n",
        "out.set_title(0, 'Youtube')\n",
        "out.set_title(1, 'Bilibili')\n",
        "\n",
        "display(out)"
      ]
    },
    {
      "cell_type": "code",
      "execution_count": null,
      "metadata": {
        "cellView": "form",
        "execution": {},
        "id": "AiDN-KFQbK_A"
      },
      "outputs": [],
      "source": [
        "# @title Video 16: Be a group\n",
        "from ipywidgets import widgets\n",
        "\n",
        "out2 = widgets.Output()\n",
        "with out2:\n",
        "  from IPython.display import IFrame\n",
        "  class BiliVideo(IFrame):\n",
        "    def __init__(self, id, page=1, width=400, height=300, **kwargs):\n",
        "      self.id=id\n",
        "      src = \"https://player.bilibili.com/player.html?bvid={0}&page={1}\".format(id, page)\n",
        "      super(BiliVideo, self).__init__(src, width, height, **kwargs)\n",
        "\n",
        "  video = BiliVideo(id=f\"BV1j44y1272h\", width=854, height=480, fs=1)\n",
        "  print(\"Video available at https://www.bilibili.com/video/{0}\".format(video.id))\n",
        "  display(video)\n",
        "\n",
        "out1 = widgets.Output()\n",
        "with out1:\n",
        "  from IPython.display import YouTubeVideo\n",
        "  video = YouTubeVideo(id=f\"Sfp6--d_H1A\", width=854, height=480, fs=1, rel=0)\n",
        "  print(\"Video available at https://youtube.com/watch?v=\" + video.id)\n",
        "  display(video)\n",
        "\n",
        "out = widgets.Tab([out1, out2])\n",
        "out.set_title(0, 'Youtube')\n",
        "out.set_title(1, 'Bilibili')\n",
        "\n",
        "display(out)"
      ]
    },
    {
      "cell_type": "code",
      "execution_count": null,
      "metadata": {
        "cellView": "form",
        "execution": {},
        "id": "cquSo6fVbK_A"
      },
      "outputs": [],
      "source": [
        "# @title Video 17: Syllabus\n",
        "from ipywidgets import widgets\n",
        "\n",
        "out2 = widgets.Output()\n",
        "with out2:\n",
        "  from IPython.display import IFrame\n",
        "  class BiliVideo(IFrame):\n",
        "    def __init__(self, id, page=1, width=400, height=300, **kwargs):\n",
        "      self.id=id\n",
        "      src = \"https://player.bilibili.com/player.html?bvid={0}&page={1}\".format(id, page)\n",
        "      super(BiliVideo, self).__init__(src, width, height, **kwargs)\n",
        "\n",
        "  video = BiliVideo(id=f\"BV1iB4y1N7uQ\", width=854, height=480, fs=1)\n",
        "  print(\"Video available at https://www.bilibili.com/video/{0}\".format(video.id))\n",
        "  display(video)\n",
        "\n",
        "out1 = widgets.Output()\n",
        "with out1:\n",
        "  from IPython.display import YouTubeVideo\n",
        "  video = YouTubeVideo(id=f\"cDvAqG_hAvQ\", width=854, height=480, fs=1, rel=0)\n",
        "  print(\"Video available at https://youtube.com/watch?v=\" + video.id)\n",
        "  display(video)\n",
        "\n",
        "out = widgets.Tab([out1, out2])\n",
        "out.set_title(0, 'Youtube')\n",
        "out.set_title(1, 'Bilibili')\n",
        "\n",
        "display(out)"
      ]
    },
    {
      "cell_type": "markdown",
      "metadata": {
        "execution": {},
        "id": "Ck2IqY59bK_B"
      },
      "source": [
        "## Meet our lecturers\n",
        "\n",
        "### Week 1: the building blocks\n",
        "* [Konrad Kording](https://kordinglab.com)\n",
        "* [Andrew Saxe](https://www.saxelab.org/)\n",
        "* [Surya Ganguli](https://ganguli-gang.stanford.edu/)\n",
        "* [Ioannis Mitliagkas](http://mitliagkas.github.io/)\n",
        "* [Lyle Ungar](https://www.cis.upenn.edu/~ungar/)\n",
        "\n",
        "### Week 2: making things work\n",
        "* [Alona Fyshe](https://webdocs.cs.ualberta.ca/~alona/)\n",
        "* [Alexander Ecker](https://eckerlab.org/)\n",
        "* [James Evans](https://sociology.uchicago.edu/directory/james-evans)\n",
        "* [He He](https://hhexiy.github.io/)\n",
        "* [Vikash Gilja](https://tnel.ucsd.edu/bio) and [Akash Srivastava](https://akashgit.github.io/)\n",
        "\n",
        "### Week 3: more magic\n",
        "* [Tim Lillicrap](https://contrastiveconvergence.net/~timothylillicrap/index.php) and [Blake Richards](https://www.mcgill.ca/neuro/blake-richards-phd)\n",
        "* [Jane Wang](http://www.janexwang.com/) and [Feryal Behbahani](https://feryal.github.io/)\n",
        "* [Tim Lillicrap](https://contrastiveconvergence.net/~timothylillicrap/index.php) and [Blake Richards](https://www.mcgill.ca/neuro/blake-richards-phd)\n",
        "* [Josh Vogelstein](https://jovo.me/) and [Vincenzo Lamonaco](https://www.vincenzolomonaco.com/)"
      ]
    },
    {
      "cell_type": "markdown",
      "metadata": {
        "execution": {},
        "id": "XGrjHtURbK_B"
      },
      "source": [
        "Now, go to the [visualization of ICLR papers](https://iclr.cc/virtual/2021/paper_vis.html). Read a few abstracts. Look at the various clusters. Where do you see yourself in this map?"
      ]
    },
    {
      "cell_type": "markdown",
      "metadata": {
        "execution": {},
        "id": "oB8DvbkTbK_B"
      },
      "source": [
        "---\n",
        "# Submit to Airtable"
      ]
    },
    {
      "cell_type": "code",
      "execution_count": null,
      "metadata": {
        "cellView": "form",
        "execution": {},
        "id": "u-icVD6lbK_C"
      },
      "outputs": [],
      "source": [
        "# @title Video 18: Submission info\n",
        "from ipywidgets import widgets\n",
        "\n",
        "out2 = widgets.Output()\n",
        "with out2:\n",
        "  from IPython.display import IFrame\n",
        "  class BiliVideo(IFrame):\n",
        "    def __init__(self, id, page=1, width=400, height=300, **kwargs):\n",
        "      self.id=id\n",
        "      src = \"https://player.bilibili.com/player.html?bvid={0}&page={1}\".format(id, page)\n",
        "      super(BiliVideo, self).__init__(src, width, height, **kwargs)\n",
        "\n",
        "  video = BiliVideo(id=f\"BV1e44y127ti\", width=854, height=480, fs=1)\n",
        "  print(\"Video available at https://www.bilibili.com/video/{0}\".format(video.id))\n",
        "  display(video)\n",
        "\n",
        "out1 = widgets.Output()\n",
        "with out1:\n",
        "  from IPython.display import YouTubeVideo\n",
        "  video = YouTubeVideo(id=f\"JwTn7ej2dq8\", width=854, height=480, fs=1, rel=0)\n",
        "  print(\"Video available at https://youtube.com/watch?v=\" + video.id)\n",
        "  display(video)\n",
        "\n",
        "out = widgets.Tab([out1, out2])\n",
        "out.set_title(0, 'Youtube')\n",
        "out.set_title(1, 'Bilibili')\n",
        "\n",
        "display(out)"
      ]
    },
    {
      "cell_type": "markdown",
      "metadata": {
        "execution": {},
        "id": "1wppcqb_bK_D"
      },
      "source": [
        "This is Darryl, the Deep Learning Dapper Lion, and he's here to teach you about content submission to airtable.\n",
        "<br>\n",
        "<img src=\"https://raw.githubusercontent.com/NeuromatchAcademy/course-content-dl/main/tutorials/static/DapperLion.png\" alt=\"Darryl\"> \n",
        "<br><br>\n",
        "At the end of each tutorial there will be an <b>Airtable Submission Cell</b>. Run the cell to generate the airtable submission button and click on it to submit your information to airtable.\n",
        "<br><br>\n",
        "if it is the last tutorial of the day your button will look like this and take you to the end of day survey: \n",
        "<br>\n",
        "<img src=\"https://raw.githubusercontent.com/NeuromatchAcademy/course-content-dl/main/tutorials/static/SurveyButton.png?raw=1\" alt=\"Survey Button\">\n",
        "\n",
        "Otherwise it look like this: \n",
        "<br>\n",
        "\n",
        "<img src=\"https://raw.githubusercontent.com/NeuromatchAcademy/course-content-dl/main/tutorials/static/AirtableSubmissionButton.png?raw=1\" alt=\"Submission Button\"> \n",
        "<br><br>\n",
        "\n",
        "It is critical that you push the submit button for every tutorial you run. **Even if you don't finish the tutorial, still submit!**\n",
        "Submitting is the only way we can verify that you attempted each tutorial, which is critical for us to be able to track your progress."
      ]
    },
    {
      "cell_type": "markdown",
      "metadata": {
        "execution": {},
        "id": "rgkTChbDbK_D"
      },
      "source": [
        "### TL;DR: Basic tutorial workflow\n",
        "\n",
        "1. Work through the tutorial, answering **Think!** questions and **Coding Exercises**.\n",
        "\n",
        "2. At the end of each tutorial, (even if the tutorial is incomplete) run the airtable submission code cell.\n",
        "\n",
        "3. Push the *Submission* button.\n",
        "\n",
        "4. If the last tutorial of the day, *Submission* button will also take you to the end of the day survey on a new page. Complete that and submit."
      ]
    },
    {
      "cell_type": "markdown",
      "metadata": {
        "execution": {},
        "id": "6pdg30pObK_D"
      },
      "source": [
        "### Submission FAQs: \n",
        "\n",
        "1. What if I want to change my answers to previous discussion questions? \n",
        "> You are free to change and resubmit any of the answers and Think! questions as many times as you like. However, **please only run the airtable submission code and click on the link once you are ready to submit**.\n",
        "\n",
        "2. Okay, but what if I submitted my airtable anyway and really want to resubmit?\n",
        "> After making changes, you can re-run the airtable submission cell code cell. This will result in a second submission from you for our database. But, this will make Darryl sad as it will be more work for him to clean up the data later. \n",
        "\n",
        "3. HELP! I accidentally ran the code to generate the airtable submission button before I was ready to submit! what do I do?\n",
        "> If you run the code to generate the link, anything that happens afterwards will not be captured. Complete the tutorial and make sure to re-run the airtable submission again when you are finished before pressing the submission button. \n",
        "\n",
        "4. What if I want to work on this on my own later, should I wait to submit until I'm finished?\n",
        ">  Please submit wherever you are at the end of the day. It's great that you want to keep working on this, but it's important to see the places where we tried things that didn't quite work out, so we can fix them for next year.  \n",
        "\n",
        "Finally, we try to keep the airtable code as hidden as possible, but if you ever see any calls to `atform`  such as `atform.add_event()` in the coding exercises, just know that is for saving airtable information only. **It will not affect the code that is being run around it in any way**, so please do not modify, comment out, or worry about any of those lines of code.\n",
        "<br><br><br>\n",
        "\n",
        "Now, lets try submitting today's course to Airtable by running the next cell and clicking the button when it appears. "
      ]
    },
    {
      "cell_type": "code",
      "execution_count": null,
      "metadata": {
        "cellView": "form",
        "execution": {},
        "id": "K5KNDY20bK_E"
      },
      "outputs": [],
      "source": [
        "# @title Airtable Submission Link\n",
        "from IPython import display as IPyDisplay\n",
        "IPyDisplay.HTML(\n",
        "    f\"\"\"\n",
        "  <div>\n",
        "    <a href= \"{atform.url()}\" target=\"_blank\">\n",
        "    <img src=\"https://github.com/NeuromatchAcademy/course-content-dl/blob/main/tutorials/static/SurveyButton.png?raw=1\"\n",
        "  alt=\"button link to survey\" style=\"width:410px\"></a>\n",
        "    </div>\"\"\" )"
      ]
    },
    {
      "cell_type": "markdown",
      "metadata": {
        "execution": {},
        "id": "QxpB9jZHbK_H"
      },
      "source": [
        "---\n",
        "# Bonus - 60 years of Machine Learning Research in one Plot\n",
        "\n",
        "By [Hendrik Strobelt](http://hendrik.strobelt.com) (MIT-IBM Watson AI Lab) with support from Benjamin Hoover.\n",
        "\n",
        "In this notebook we visualize a subset* of 3,300 articles retreived from the AllenAI [S2ORC dataset](https://github.com/allenai/s2orc). We represent each paper by a position that is output of a dimensionality reduction method applied to a vector representation of each paper. The vector representation is the output of a neural network.\n",
        "\n",
        "**Note:** The selection is very biased on the keywords and methodology we used to filter. Please see the details section to learn about what we did. "
      ]
    },
    {
      "cell_type": "code",
      "execution_count": null,
      "metadata": {
        "cellView": "form",
        "execution": {},
        "id": "s4wpRodZbK_H"
      },
      "outputs": [],
      "source": [
        "# @title Install and Import `altair` and `vega_datasets`.\n",
        "!pip install altair vega_datasets --quiet\n",
        "\n",
        "import altair as alt  # altair is defining data visualizations\n",
        "\n",
        "# Source data files\n",
        "# Position data file maps ID to x,y positions\n",
        "# original link: http://gltr.io/temp/ml_regexv1_cs_ma_citation+_99perc.pos_umap_cosine_100_d0.1.json\n",
        "POS_FILE = 'https://osf.io/qyrfn/download'\n",
        "# original link: http://gltr.io/temp/ml_regexv1_cs_ma_citation+_99perc_clean.csv\n",
        "# Metadata file maps ID to title, abstract, author,....\n",
        "META_FILE = 'https://osf.io/vfdu6/download'\n",
        "\n",
        "# data loading and wrangling\n",
        "def load_data():\n",
        "  \"\"\"\n",
        "  Loading the data\n",
        "\n",
        "  Args:\n",
        "    None\n",
        "\n",
        "  Returns:\n",
        "    Merged read dataFrame combining id and paper_id;\n",
        "  \"\"\"\n",
        "  positions = pd.read_json(POS_FILE)\n",
        "  positions[['x', 'y']] = positions['pos'].to_list()\n",
        "  meta = pd.read_csv(META_FILE)\n",
        "  return positions.merge(meta, left_on='id', right_on='paper_id')\n",
        "\n",
        "\n",
        "# load data\n",
        "data = load_data()"
      ]
    },
    {
      "cell_type": "code",
      "execution_count": null,
      "metadata": {
        "cellView": "form",
        "execution": {},
        "id": "7Srs6Ag9bK_L"
      },
      "outputs": [],
      "source": [
        "# @title Define Visualization using ALtair\n",
        "YEAR_PERIOD = \"quinquennial\"  # @param\n",
        "selection = alt.selection_multi(fields=[YEAR_PERIOD], bind='legend')\n",
        "data[YEAR_PERIOD] = (data[\"year\"] / 5.0).apply(np.floor) * 5\n",
        "chart = alt.Chart(data[[\"x\", \"y\", \"authors\", \"title\", YEAR_PERIOD, \"citation_count\"]], width=800,\n",
        "                  height=800).mark_circle(radius=2, opacity=0.2).encode(\n",
        "    alt.Color(YEAR_PERIOD+':O',\n",
        "              scale=alt.Scale(scheme='viridis', reverse=False, clamp=True, domain=list(range(1955,2020,5))),\n",
        "              # legend=alt.Legend(title='Total Records')\n",
        "              ),\n",
        "    alt.Size('citation_count',\n",
        "              scale=alt.Scale(type=\"pow\", exponent=1, range=[15, 300])\n",
        "              ),\n",
        "       alt.X('x:Q',\n",
        "        scale=alt.Scale(zero=False), axis=alt.Axis(labels=False)\n",
        "    ),\n",
        "       alt.Y('y:Q',\n",
        "        scale=alt.Scale(zero=False), axis=alt.Axis(labels=False)\n",
        "    ),\n",
        "    tooltip=['title', 'authors'],\n",
        "    # size='citation_count',\n",
        "    # color=\"decade:O\",\n",
        "    opacity=alt.condition(selection, alt.value(.8), alt.value(0.2)),\n",
        "\n",
        ").add_selection(\n",
        "    selection\n",
        ").interactive()"
      ]
    },
    {
      "cell_type": "markdown",
      "metadata": {
        "execution": {},
        "id": "j1zsSyEybK_L"
      },
      "source": [
        "Lets look at the Visualization. Each dot represents one paper. Close dots mean that the respective papers are closer related than distant ones. The color indicates the 5-year period of when the paper was published. The dot size indicates the citation count (within S2ORC corpus) as of July 2020. \n",
        "\n",
        "The view is **interactive** and allows for three main interactions. Try them and play around:\n",
        "1. Hover over a dot to see a tooltip (title, author)\n",
        "2. Select a year in the legend (right) to filter dots\n",
        "3. Zoom in/out with scroll -- double click resets view"
      ]
    },
    {
      "cell_type": "code",
      "execution_count": null,
      "metadata": {
        "execution": {},
        "id": "JY4WPMoEbK_L"
      },
      "outputs": [],
      "source": [
        "chart"
      ]
    },
    {
      "cell_type": "markdown",
      "metadata": {
        "execution": {},
        "id": "2r8TYZ3gbK_L"
      },
      "source": [
        "## Questions\n",
        "\n",
        "By playing around, can you find some answers to the following questions?\n",
        "\n",
        "1. Can you find topical clusters? What cluster might occur because of a filtering error?\n",
        "2. Can you see a temporal trend in the data and clusters?\n",
        "3. Can you determine when deep learning methods started booming ?\n",
        "4. Can you find the key papers that where written before the DL \"winter\" that define milestones for a cluster? (tip: look for large dots of different color)"
      ]
    },
    {
      "cell_type": "markdown",
      "metadata": {
        "execution": {},
        "id": "m3uBGPtlbK_M"
      },
      "source": [
        "[*Click for solution*](https://github.com/NeuromatchAcademy/course-content-dl/tree/main//tutorials/W1D1_BasicsAndPytorch/solutions/W1D1_Tutorial1_Solution_21a88cd0.py)\n",
        "\n"
      ]
    },
    {
      "cell_type": "markdown",
      "metadata": {
        "execution": {},
        "id": "AsHK3OT5bK_M"
      },
      "source": [
        "## Methods\n",
        "\n",
        "Here is what we did:\n",
        "1. Filtering of all papers who fullfilled the criterria:\n",
        "  - are categorized as `Computer Science` or `Mathematics` \n",
        "  - one of the following keywords appearing in title or abstract: `\"machine learning|artificial intelligence|neural network|(machine|computer) vision|perceptron|network architecture| RNN | CNN | LSTM | BLEU | MNIST | CIFAR |reinforcement learning|gradient descent| Imagenet \"`\n",
        "2. Per year, remove all papers that are below the 99 percentile of citation count in that year\n",
        "3. Embed each paper by using abstract + title in SPECTER model\n",
        "4. Project based on embedding using UMAP\n",
        "5. Visualize using Altair"
      ]
    },
    {
      "cell_type": "markdown",
      "metadata": {
        "execution": {},
        "id": "USQw4itibK_M"
      },
      "source": [
        "### Find Authors"
      ]
    },
    {
      "cell_type": "code",
      "execution_count": null,
      "metadata": {
        "cellView": "form",
        "execution": {},
        "id": "C4AHeRQxbK_M"
      },
      "outputs": [],
      "source": [
        "# @title Edit the `AUTHOR_FILTER` variable to full text search for authors.\n",
        "\n",
        "AUTHOR_FILTER = \"Rush \"  # @param space at the end means \"word border\"\n",
        "\n",
        "### Don't ignore case when searching...\n",
        "FLAGS = 0\n",
        "### uncomment do ignore case\n",
        "# FLAGS = re.IGNORECASE\n",
        "\n",
        "## --- FILTER CODE.. make it your own ---\n",
        "data['issel'] = data['authors'].str.contains(AUTHOR_FILTER, na=False, flags=FLAGS, )\n",
        "if data['issel'].mean()<0.0000000001:\n",
        "  print('No match found')\n",
        "\n",
        "## --- FROM HERE ON VIS CODE ---\n",
        "alt.Chart(data[[\"x\", \"y\", \"authors\", \"title\", YEAR_PERIOD, \"citation_count\", \"issel\"]], width=800,\n",
        "                  height=800) \\\n",
        "    .mark_circle(stroke=\"black\", strokeOpacity=1).encode(\n",
        "    alt.Color(YEAR_PERIOD+':O',\n",
        "              scale=alt.Scale(scheme='viridis', reverse=False),\n",
        "              # legend=alt.Legend(title='Total Records')\n",
        "              ),\n",
        "    alt.Size('citation_count',\n",
        "              scale=alt.Scale(type=\"pow\", exponent=1, range=[15, 300])\n",
        "              ),\n",
        "    alt.StrokeWidth('issel:Q', scale=alt.Scale(type=\"linear\", domain=[0,1], range=[0, 2]), legend=None),\n",
        "\n",
        "    alt.Opacity('issel:Q', scale=alt.Scale(type=\"linear\", domain=[0,1], range=[.2, 1]), legend=None),\n",
        "    alt.X('x:Q',\n",
        "        scale=alt.Scale(zero=False), axis=alt.Axis(labels=False)\n",
        "    ),\n",
        "    alt.Y('y:Q',\n",
        "        scale=alt.Scale(zero=False), axis=alt.Axis(labels=False)\n",
        "    ),\n",
        "    tooltip=['title', 'authors'],\n",
        ").interactive()"
      ]
    },
    {
      "cell_type": "markdown",
      "metadata": {
        "execution": {},
        "id": "qtZc4Yt8bK_M"
      },
      "source": [
        "---\n",
        "# Appendix\n",
        "\n",
        "## Official PyTorch resources:\n",
        "\n",
        "### Tutorials\n",
        "- [https://pytorch.org/tutorials/](https://pytorch.org/tutorials/)\n",
        "\n",
        "### Documentation\n",
        "- [https://pytorch.org/docs/stable/tensors.html](https://pytorch.org/docs/stable/tensors.html) (tensor methods)\n",
        "\n",
        "- [https://pytorch.org/docs/stable/generated/torch.Tensor.view.html#torch.Tensor.view](https://pytorch.org/docs/stable/generated/torch.Tensor.view.html#torch.Tensor.view) (The view method in particular)\n",
        "\n",
        "- [https://pytorch.org/vision/stable/datasets.html](https://pytorch.org/vision/stable/datasets.html) (pre-loaded image datasets)\n",
        "\n",
        "## Google Colab Resources:\n",
        "- [https://research.google.com/colaboratory/faq.html](https://research.google.com/colaboratory/faq.html) (FAQ including guidance on GPU usage)\n",
        "\n",
        "## Books for reference:\n",
        "- [https://www.deeplearningbook.org/](https://www.deeplearningbook.org/) (Deep Learning by Ian Goodfellow, Yoshua Bengio and Aaron Courville)"
      ]
    }
  ],
  "metadata": {
    "accelerator": "GPU",
    "colab": {
      "collapsed_sections": [],
      "name": "W1D1_Tutorial1",
      "provenance": [],
      "include_colab_link": true
    },
    "kernel": {
      "display_name": "Python 3",
      "language": "python",
      "name": "python3"
    },
    "kernelspec": {
      "display_name": "Python 3",
      "name": "python3"
    },
    "language_info": {
      "codemirror_mode": {
        "name": "ipython",
        "version": 3
      },
      "file_extension": ".py",
      "mimetype": "text/x-python",
      "name": "python",
      "nbconvert_exporter": "python",
      "pygments_lexer": "ipython3",
      "version": "3.7.11"
    },
    "gpuClass": "standard",
    "widgets": {
      "application/vnd.jupyter.widget-state+json": {
        "64f4dfbe7c314fe1bd0e2a08f7f65b2c": {
          "model_module": "@jupyter-widgets/controls",
          "model_name": "TabModel",
          "model_module_version": "1.5.0",
          "state": {
            "_dom_classes": [],
            "_model_module": "@jupyter-widgets/controls",
            "_model_module_version": "1.5.0",
            "_model_name": "TabModel",
            "_titles": {
              "0": "Youtube",
              "1": "Bilibili"
            },
            "_view_count": null,
            "_view_module": "@jupyter-widgets/controls",
            "_view_module_version": "1.5.0",
            "_view_name": "TabView",
            "box_style": "",
            "children": [
              "IPY_MODEL_b8fc71db71464e2a865326d2754ca2c6",
              "IPY_MODEL_a4bd314c98a548fc947f1124ce68b23d"
            ],
            "layout": "IPY_MODEL_f6c48a8e9b664ea6959cfa01159e13dd",
            "selected_index": 0
          }
        },
        "b8fc71db71464e2a865326d2754ca2c6": {
          "model_module": "@jupyter-widgets/output",
          "model_name": "OutputModel",
          "model_module_version": "1.0.0",
          "state": {
            "_dom_classes": [],
            "_model_module": "@jupyter-widgets/output",
            "_model_module_version": "1.0.0",
            "_model_name": "OutputModel",
            "_view_count": null,
            "_view_module": "@jupyter-widgets/output",
            "_view_module_version": "1.0.0",
            "_view_name": "OutputView",
            "layout": "IPY_MODEL_51607f5c600f425ba54f570a069c2497",
            "msg_id": "",
            "outputs": [
              {
                "output_type": "stream",
                "name": "stdout",
                "text": [
                  "Video available at https://youtube.com/watch?v=9Mc9GFUtILY\n"
                ]
              },
              {
                "output_type": "display_data",
                "data": {
                  "text/plain": "<IPython.lib.display.YouTubeVideo at 0x7fe24d6a8290>",
                  "text/html": "\n        <iframe\n            width=\"854\"\n            height=\"480\"\n            src=\"https://www.youtube.com/embed/9Mc9GFUtILY?fs=1&rel=0\"\n            frameborder=\"0\"\n            allowfullscreen\n        ></iframe>\n        ",
                  "image/jpeg": "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\n"
                },
                "metadata": {}
              }
            ]
          }
        },
        "a4bd314c98a548fc947f1124ce68b23d": {
          "model_module": "@jupyter-widgets/output",
          "model_name": "OutputModel",
          "model_module_version": "1.0.0",
          "state": {
            "_dom_classes": [],
            "_model_module": "@jupyter-widgets/output",
            "_model_module_version": "1.0.0",
            "_model_name": "OutputModel",
            "_view_count": null,
            "_view_module": "@jupyter-widgets/output",
            "_view_module_version": "1.0.0",
            "_view_name": "OutputView",
            "layout": "IPY_MODEL_ecabe41e40264f03ae3bb17ebc646c63",
            "msg_id": "",
            "outputs": [
              {
                "output_type": "stream",
                "name": "stdout",
                "text": [
                  "Video available at https://www.bilibili.com/video/BV1nM4y1K7qx\n"
                ]
              },
              {
                "output_type": "display_data",
                "data": {
                  "text/plain": "<__main__.BiliVideo at 0x7fe24d79b650>",
                  "text/html": "\n        <iframe\n            width=\"854\"\n            height=\"480\"\n            src=\"https://player.bilibili.com/player.html?bvid=BV1nM4y1K7qx&page=1?fs=1\"\n            frameborder=\"0\"\n            allowfullscreen\n        ></iframe>\n        "
                },
                "metadata": {}
              }
            ]
          }
        },
        "f6c48a8e9b664ea6959cfa01159e13dd": {
          "model_module": "@jupyter-widgets/base",
          "model_name": "LayoutModel",
          "model_module_version": "1.2.0",
          "state": {
            "_model_module": "@jupyter-widgets/base",
            "_model_module_version": "1.2.0",
            "_model_name": "LayoutModel",
            "_view_count": null,
            "_view_module": "@jupyter-widgets/base",
            "_view_module_version": "1.2.0",
            "_view_name": "LayoutView",
            "align_content": null,
            "align_items": null,
            "align_self": null,
            "border": null,
            "bottom": null,
            "display": null,
            "flex": null,
            "flex_flow": null,
            "grid_area": null,
            "grid_auto_columns": null,
            "grid_auto_flow": null,
            "grid_auto_rows": null,
            "grid_column": null,
            "grid_gap": null,
            "grid_row": null,
            "grid_template_areas": null,
            "grid_template_columns": null,
            "grid_template_rows": null,
            "height": null,
            "justify_content": null,
            "justify_items": null,
            "left": null,
            "margin": null,
            "max_height": null,
            "max_width": null,
            "min_height": null,
            "min_width": null,
            "object_fit": null,
            "object_position": null,
            "order": null,
            "overflow": null,
            "overflow_x": null,
            "overflow_y": null,
            "padding": null,
            "right": null,
            "top": null,
            "visibility": null,
            "width": null
          }
        },
        "51607f5c600f425ba54f570a069c2497": {
          "model_module": "@jupyter-widgets/base",
          "model_name": "LayoutModel",
          "model_module_version": "1.2.0",
          "state": {
            "_model_module": "@jupyter-widgets/base",
            "_model_module_version": "1.2.0",
            "_model_name": "LayoutModel",
            "_view_count": null,
            "_view_module": "@jupyter-widgets/base",
            "_view_module_version": "1.2.0",
            "_view_name": "LayoutView",
            "align_content": null,
            "align_items": null,
            "align_self": null,
            "border": null,
            "bottom": null,
            "display": null,
            "flex": null,
            "flex_flow": null,
            "grid_area": null,
            "grid_auto_columns": null,
            "grid_auto_flow": null,
            "grid_auto_rows": null,
            "grid_column": null,
            "grid_gap": null,
            "grid_row": null,
            "grid_template_areas": null,
            "grid_template_columns": null,
            "grid_template_rows": null,
            "height": null,
            "justify_content": null,
            "justify_items": null,
            "left": null,
            "margin": null,
            "max_height": null,
            "max_width": null,
            "min_height": null,
            "min_width": null,
            "object_fit": null,
            "object_position": null,
            "order": null,
            "overflow": null,
            "overflow_x": null,
            "overflow_y": null,
            "padding": null,
            "right": null,
            "top": null,
            "visibility": null,
            "width": null
          }
        },
        "ecabe41e40264f03ae3bb17ebc646c63": {
          "model_module": "@jupyter-widgets/base",
          "model_name": "LayoutModel",
          "model_module_version": "1.2.0",
          "state": {
            "_model_module": "@jupyter-widgets/base",
            "_model_module_version": "1.2.0",
            "_model_name": "LayoutModel",
            "_view_count": null,
            "_view_module": "@jupyter-widgets/base",
            "_view_module_version": "1.2.0",
            "_view_name": "LayoutView",
            "align_content": null,
            "align_items": null,
            "align_self": null,
            "border": null,
            "bottom": null,
            "display": null,
            "flex": null,
            "flex_flow": null,
            "grid_area": null,
            "grid_auto_columns": null,
            "grid_auto_flow": null,
            "grid_auto_rows": null,
            "grid_column": null,
            "grid_gap": null,
            "grid_row": null,
            "grid_template_areas": null,
            "grid_template_columns": null,
            "grid_template_rows": null,
            "height": null,
            "justify_content": null,
            "justify_items": null,
            "left": null,
            "margin": null,
            "max_height": null,
            "max_width": null,
            "min_height": null,
            "min_width": null,
            "object_fit": null,
            "object_position": null,
            "order": null,
            "overflow": null,
            "overflow_x": null,
            "overflow_y": null,
            "padding": null,
            "right": null,
            "top": null,
            "visibility": null,
            "width": null
          }
        },
        "6ae70fc7d3ca4896beb507bf543cdff0": {
          "model_module": "@jupyter-widgets/controls",
          "model_name": "HBoxModel",
          "model_module_version": "1.5.0",
          "state": {
            "_dom_classes": [],
            "_model_module": "@jupyter-widgets/controls",
            "_model_module_version": "1.5.0",
            "_model_name": "HBoxModel",
            "_view_count": null,
            "_view_module": "@jupyter-widgets/controls",
            "_view_module_version": "1.5.0",
            "_view_name": "HBoxView",
            "box_style": "",
            "children": [
              "IPY_MODEL_78715cb119b64e7ea782049a9b7bd935",
              "IPY_MODEL_315e72649db54414a7183a9747c63372",
              "IPY_MODEL_3e13a72c9b6d472faf2864fbca9972f7"
            ],
            "layout": "IPY_MODEL_873d296a11894a0fa1a65e5619527f59"
          }
        },
        "78715cb119b64e7ea782049a9b7bd935": {
          "model_module": "@jupyter-widgets/controls",
          "model_name": "HTMLModel",
          "model_module_version": "1.5.0",
          "state": {
            "_dom_classes": [],
            "_model_module": "@jupyter-widgets/controls",
            "_model_module_version": "1.5.0",
            "_model_name": "HTMLModel",
            "_view_count": null,
            "_view_module": "@jupyter-widgets/controls",
            "_view_module_version": "1.5.0",
            "_view_name": "HTMLView",
            "description": "",
            "description_tooltip": null,
            "layout": "IPY_MODEL_2ef1ce89d9aa4064aede2b6805fdc99a",
            "placeholder": "​",
            "style": "IPY_MODEL_98d2440f61a54a02ae5d9f7e71fcae0c",
            "value": ""
          }
        },
        "315e72649db54414a7183a9747c63372": {
          "model_module": "@jupyter-widgets/controls",
          "model_name": "FloatProgressModel",
          "model_module_version": "1.5.0",
          "state": {
            "_dom_classes": [],
            "_model_module": "@jupyter-widgets/controls",
            "_model_module_version": "1.5.0",
            "_model_name": "FloatProgressModel",
            "_view_count": null,
            "_view_module": "@jupyter-widgets/controls",
            "_view_module_version": "1.5.0",
            "_view_name": "ProgressView",
            "bar_style": "success",
            "description": "",
            "description_tooltip": null,
            "layout": "IPY_MODEL_0c3c571211324214ae0b350825d474e4",
            "max": 170498071,
            "min": 0,
            "orientation": "horizontal",
            "style": "IPY_MODEL_6f13153c008f4e19910515597a2ddc54",
            "value": 170498071
          }
        },
        "3e13a72c9b6d472faf2864fbca9972f7": {
          "model_module": "@jupyter-widgets/controls",
          "model_name": "HTMLModel",
          "model_module_version": "1.5.0",
          "state": {
            "_dom_classes": [],
            "_model_module": "@jupyter-widgets/controls",
            "_model_module_version": "1.5.0",
            "_model_name": "HTMLModel",
            "_view_count": null,
            "_view_module": "@jupyter-widgets/controls",
            "_view_module_version": "1.5.0",
            "_view_name": "HTMLView",
            "description": "",
            "description_tooltip": null,
            "layout": "IPY_MODEL_9970faafcb6c4449bd44a44722d4ca71",
            "placeholder": "​",
            "style": "IPY_MODEL_ea01baf618654e74b2bc875e381bca5b",
            "value": " 170499072/? [00:02&lt;00:00, 68754951.37it/s]"
          }
        },
        "873d296a11894a0fa1a65e5619527f59": {
          "model_module": "@jupyter-widgets/base",
          "model_name": "LayoutModel",
          "model_module_version": "1.2.0",
          "state": {
            "_model_module": "@jupyter-widgets/base",
            "_model_module_version": "1.2.0",
            "_model_name": "LayoutModel",
            "_view_count": null,
            "_view_module": "@jupyter-widgets/base",
            "_view_module_version": "1.2.0",
            "_view_name": "LayoutView",
            "align_content": null,
            "align_items": null,
            "align_self": null,
            "border": null,
            "bottom": null,
            "display": null,
            "flex": null,
            "flex_flow": null,
            "grid_area": null,
            "grid_auto_columns": null,
            "grid_auto_flow": null,
            "grid_auto_rows": null,
            "grid_column": null,
            "grid_gap": null,
            "grid_row": null,
            "grid_template_areas": null,
            "grid_template_columns": null,
            "grid_template_rows": null,
            "height": null,
            "justify_content": null,
            "justify_items": null,
            "left": null,
            "margin": null,
            "max_height": null,
            "max_width": null,
            "min_height": null,
            "min_width": null,
            "object_fit": null,
            "object_position": null,
            "order": null,
            "overflow": null,
            "overflow_x": null,
            "overflow_y": null,
            "padding": null,
            "right": null,
            "top": null,
            "visibility": null,
            "width": null
          }
        },
        "2ef1ce89d9aa4064aede2b6805fdc99a": {
          "model_module": "@jupyter-widgets/base",
          "model_name": "LayoutModel",
          "model_module_version": "1.2.0",
          "state": {
            "_model_module": "@jupyter-widgets/base",
            "_model_module_version": "1.2.0",
            "_model_name": "LayoutModel",
            "_view_count": null,
            "_view_module": "@jupyter-widgets/base",
            "_view_module_version": "1.2.0",
            "_view_name": "LayoutView",
            "align_content": null,
            "align_items": null,
            "align_self": null,
            "border": null,
            "bottom": null,
            "display": null,
            "flex": null,
            "flex_flow": null,
            "grid_area": null,
            "grid_auto_columns": null,
            "grid_auto_flow": null,
            "grid_auto_rows": null,
            "grid_column": null,
            "grid_gap": null,
            "grid_row": null,
            "grid_template_areas": null,
            "grid_template_columns": null,
            "grid_template_rows": null,
            "height": null,
            "justify_content": null,
            "justify_items": null,
            "left": null,
            "margin": null,
            "max_height": null,
            "max_width": null,
            "min_height": null,
            "min_width": null,
            "object_fit": null,
            "object_position": null,
            "order": null,
            "overflow": null,
            "overflow_x": null,
            "overflow_y": null,
            "padding": null,
            "right": null,
            "top": null,
            "visibility": null,
            "width": null
          }
        },
        "98d2440f61a54a02ae5d9f7e71fcae0c": {
          "model_module": "@jupyter-widgets/controls",
          "model_name": "DescriptionStyleModel",
          "model_module_version": "1.5.0",
          "state": {
            "_model_module": "@jupyter-widgets/controls",
            "_model_module_version": "1.5.0",
            "_model_name": "DescriptionStyleModel",
            "_view_count": null,
            "_view_module": "@jupyter-widgets/base",
            "_view_module_version": "1.2.0",
            "_view_name": "StyleView",
            "description_width": ""
          }
        },
        "0c3c571211324214ae0b350825d474e4": {
          "model_module": "@jupyter-widgets/base",
          "model_name": "LayoutModel",
          "model_module_version": "1.2.0",
          "state": {
            "_model_module": "@jupyter-widgets/base",
            "_model_module_version": "1.2.0",
            "_model_name": "LayoutModel",
            "_view_count": null,
            "_view_module": "@jupyter-widgets/base",
            "_view_module_version": "1.2.0",
            "_view_name": "LayoutView",
            "align_content": null,
            "align_items": null,
            "align_self": null,
            "border": null,
            "bottom": null,
            "display": null,
            "flex": null,
            "flex_flow": null,
            "grid_area": null,
            "grid_auto_columns": null,
            "grid_auto_flow": null,
            "grid_auto_rows": null,
            "grid_column": null,
            "grid_gap": null,
            "grid_row": null,
            "grid_template_areas": null,
            "grid_template_columns": null,
            "grid_template_rows": null,
            "height": null,
            "justify_content": null,
            "justify_items": null,
            "left": null,
            "margin": null,
            "max_height": null,
            "max_width": null,
            "min_height": null,
            "min_width": null,
            "object_fit": null,
            "object_position": null,
            "order": null,
            "overflow": null,
            "overflow_x": null,
            "overflow_y": null,
            "padding": null,
            "right": null,
            "top": null,
            "visibility": null,
            "width": null
          }
        },
        "6f13153c008f4e19910515597a2ddc54": {
          "model_module": "@jupyter-widgets/controls",
          "model_name": "ProgressStyleModel",
          "model_module_version": "1.5.0",
          "state": {
            "_model_module": "@jupyter-widgets/controls",
            "_model_module_version": "1.5.0",
            "_model_name": "ProgressStyleModel",
            "_view_count": null,
            "_view_module": "@jupyter-widgets/base",
            "_view_module_version": "1.2.0",
            "_view_name": "StyleView",
            "bar_color": null,
            "description_width": ""
          }
        },
        "9970faafcb6c4449bd44a44722d4ca71": {
          "model_module": "@jupyter-widgets/base",
          "model_name": "LayoutModel",
          "model_module_version": "1.2.0",
          "state": {
            "_model_module": "@jupyter-widgets/base",
            "_model_module_version": "1.2.0",
            "_model_name": "LayoutModel",
            "_view_count": null,
            "_view_module": "@jupyter-widgets/base",
            "_view_module_version": "1.2.0",
            "_view_name": "LayoutView",
            "align_content": null,
            "align_items": null,
            "align_self": null,
            "border": null,
            "bottom": null,
            "display": null,
            "flex": null,
            "flex_flow": null,
            "grid_area": null,
            "grid_auto_columns": null,
            "grid_auto_flow": null,
            "grid_auto_rows": null,
            "grid_column": null,
            "grid_gap": null,
            "grid_row": null,
            "grid_template_areas": null,
            "grid_template_columns": null,
            "grid_template_rows": null,
            "height": null,
            "justify_content": null,
            "justify_items": null,
            "left": null,
            "margin": null,
            "max_height": null,
            "max_width": null,
            "min_height": null,
            "min_width": null,
            "object_fit": null,
            "object_position": null,
            "order": null,
            "overflow": null,
            "overflow_x": null,
            "overflow_y": null,
            "padding": null,
            "right": null,
            "top": null,
            "visibility": null,
            "width": null
          }
        },
        "ea01baf618654e74b2bc875e381bca5b": {
          "model_module": "@jupyter-widgets/controls",
          "model_name": "DescriptionStyleModel",
          "model_module_version": "1.5.0",
          "state": {
            "_model_module": "@jupyter-widgets/controls",
            "_model_module_version": "1.5.0",
            "_model_name": "DescriptionStyleModel",
            "_view_count": null,
            "_view_module": "@jupyter-widgets/base",
            "_view_module_version": "1.2.0",
            "_view_name": "StyleView",
            "description_width": ""
          }
        }
      }
    }
  },
  "nbformat": 4,
  "nbformat_minor": 0
}