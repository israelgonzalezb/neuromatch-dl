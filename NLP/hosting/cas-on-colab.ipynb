{
  "nbformat": 4,
  "nbformat_minor": 0,
  "metadata": {
    "colab": {
      "name": "cas-on-colab.ipynb",
      "provenance": [],
      "collapsed_sections": []
    },
    "kernelspec": {
      "name": "python3",
      "display_name": "Python 3"
    },
    "language_info": {
      "name": "python"
    },
    "accelerator": "GPU",
    "gpuClass": "standard"
  },
  "cells": [
    {
      "cell_type": "markdown",
      "source": [
        "# Hosting CLIP-as-service on Google Colab with TPU/GPU support\n",
        "\n",
        "This tutorial guides you on how to implement the following architecture:\n",
        "\n",
        "[![](https://mermaid.ink/img/pako:eNp1kEFrwzAMhf-K0bkh99xGVwpjh9Ctp7oMxVYTM8cOttwy2v732fMGgzFd9Hjvk0C6gvKaoIMx4DKJ5510IldMQzW23o-WxNpbHMRBlXasSCmF8S1SOFNommbb79vXfl9TcrqKh0OBlDXk-Cgydht3_bqdmJf2QkP06p349mtTHXvCM0YVzMJfMwX_C6kU7L8xrGCmMKPR-bprcSTwRDNJ6LLUdMJkWYJ094ymRSPTRhv2AboT2kgrwMT-5cMp6Dgk-oEeDebfzN_U_RP7v2yd)](https://mermaid.live/edit#pako:eNp1kEFrwzAMhf-K0bkh99xGVwpjh9Ctp7oMxVYTM8cOttwy2v732fMGgzFd9Hjvk0C6gvKaoIMx4DKJ5510IldMQzW23o-WxNpbHMRBlXasSCmF8S1SOFNommbb79vXfl9TcrqKh0OBlDXk-Cgydht3_bqdmJf2QkP06p349mtTHXvCM0YVzMJfMwX_C6kU7L8xrGCmMKPR-bprcSTwRDNJ6LLUdMJkWYJ094ymRSPTRhv2AboT2kgrwMT-5cMp6Dgk-oEeDebfzN_U_RP7v2yd)\n",
        "\n",
        "CLIP-as-service is powered by Jina, [there is another tutorial showing you how to host Jina service on Colab in general](https://colab.research.google.com/github/jina-ai/jina/blob/master/docs/Using_Jina_on_Colab.ipynb). Highly recommended!\n",
        "\n",
        "\n",
        "## 1. Change runtime type\n",
        "\n",
        "Go to menu `Runtime -> Change run time type -> GPU/TPU`\n",
        "\n",
        "\n",
        "## 2. Install Packages\n",
        "\n",
        "As we will run the client locally, we only need to install `clip_server` package on Colab.\n",
        "\n",
        "\n",
        "**⚠️ You will be asked to \"Restart Runtime\" after this step, please click the button and restart the runtime.**"
      ],
      "metadata": {
        "id": "lbUpcvs1p1CF",
        "pycharm": {
          "name": "#%% md\n"
        }
      }
    },
    {
      "cell_type": "code",
      "execution_count": 1,
      "metadata": {
        "id": "MRrB2If6kDfX",
        "pycharm": {
          "name": "#%%\n"
        },
        "outputId": "6922828c-3852-4392-c0d4-8f87c0bd9811",
        "colab": {
          "base_uri": "https://localhost:8080/",
          "height": 1000
        }
      },
      "outputs": [
        {
          "output_type": "stream",
          "name": "stdout",
          "text": [
            "Looking in indexes: https://pypi.org/simple, https://us-python.pkg.dev/colab-wheels/public/simple/\n",
            "Collecting clip_server\n",
            "  Downloading clip-server-0.4.20.tar.gz (1.4 MB)\n",
            "\u001b[K     |████████████████████████████████| 1.4 MB 4.3 MB/s \n",
            "\u001b[?25hCollecting pyngrok\n",
            "  Downloading pyngrok-5.1.0.tar.gz (745 kB)\n",
            "\u001b[K     |████████████████████████████████| 745 kB 45.8 MB/s \n",
            "\u001b[?25hRequirement already satisfied: protobuf<=3.20.1,>=3.13.0 in /usr/local/lib/python3.7/dist-packages (from clip_server) (3.17.3)\n",
            "Collecting ftfy\n",
            "  Downloading ftfy-6.1.1-py3-none-any.whl (53 kB)\n",
            "\u001b[K     |████████████████████████████████| 53 kB 1.3 MB/s \n",
            "\u001b[?25hRequirement already satisfied: torch in /usr/local/lib/python3.7/dist-packages (from clip_server) (1.12.0+cu113)\n",
            "Requirement already satisfied: regex in /usr/local/lib/python3.7/dist-packages (from clip_server) (2022.6.2)\n",
            "Requirement already satisfied: torchvision in /usr/local/lib/python3.7/dist-packages (from clip_server) (0.13.0+cu113)\n",
            "Collecting jina>=3.6.0\n",
            "  Downloading jina-3.7.0.tar.gz (221 kB)\n",
            "\u001b[K     |████████████████████████████████| 221 kB 58.0 MB/s \n",
            "\u001b[?25hRequirement already satisfied: prometheus-client in /usr/local/lib/python3.7/dist-packages (from clip_server) (0.14.1)\n",
            "Collecting aiofiles\n",
            "  Downloading aiofiles-0.8.0-py3-none-any.whl (13 kB)\n",
            "Requirement already satisfied: packaging>=20.0 in /usr/local/lib/python3.7/dist-packages (from jina>=3.6.0->clip_server) (21.3)\n",
            "Requirement already satisfied: filelock in /usr/local/lib/python3.7/dist-packages (from jina>=3.6.0->clip_server) (3.7.1)\n",
            "Collecting aiostream\n",
            "  Downloading aiostream-0.4.4.tar.gz (32 kB)\n",
            "Collecting uvloop\n",
            "  Downloading uvloop-0.16.0-cp37-cp37m-manylinux_2_12_x86_64.manylinux2010_x86_64.whl (3.8 MB)\n",
            "\u001b[K     |████████████████████████████████| 3.8 MB 43.0 MB/s \n",
            "\u001b[?25hCollecting grpcio-health-checking>=1.46.0\n",
            "  Downloading grpcio_health_checking-1.47.0-py3-none-any.whl (13 kB)\n",
            "Collecting grpcio-reflection>=1.46.0\n",
            "  Downloading grpcio_reflection-1.47.0-py3-none-any.whl (16 kB)\n",
            "Collecting docarray>=0.13.14\n",
            "  Downloading docarray-0.13.33.tar.gz (634 kB)\n",
            "\u001b[K     |████████████████████████████████| 634 kB 65.0 MB/s \n",
            "\u001b[?25hCollecting aiohttp\n",
            "  Downloading aiohttp-3.8.1-cp37-cp37m-manylinux_2_5_x86_64.manylinux1_x86_64.manylinux_2_12_x86_64.manylinux2010_x86_64.whl (1.1 MB)\n",
            "\u001b[K     |████████████████████████████████| 1.1 MB 48.8 MB/s \n",
            "\u001b[?25hRequirement already satisfied: numpy in /usr/local/lib/python3.7/dist-packages (from jina>=3.6.0->clip_server) (1.21.6)\n",
            "Collecting docker\n",
            "  Downloading docker-5.0.3-py2.py3-none-any.whl (146 kB)\n",
            "\u001b[K     |████████████████████████████████| 146 kB 71.6 MB/s \n",
            "\u001b[?25hCollecting uvicorn[standard]\n",
            "  Downloading uvicorn-0.18.2-py3-none-any.whl (57 kB)\n",
            "\u001b[K     |████████████████████████████████| 57 kB 4.6 MB/s \n",
            "\u001b[?25hCollecting pathspec\n",
            "  Downloading pathspec-0.9.0-py2.py3-none-any.whl (31 kB)\n",
            "Collecting python-multipart\n",
            "  Downloading python-multipart-0.0.5.tar.gz (32 kB)\n",
            "Collecting websockets\n",
            "  Downloading websockets-10.3-cp37-cp37m-manylinux_2_5_x86_64.manylinux1_x86_64.manylinux_2_12_x86_64.manylinux2010_x86_64.whl (112 kB)\n",
            "\u001b[K     |████████████████████████████████| 112 kB 50.7 MB/s \n",
            "\u001b[?25hRequirement already satisfied: requests in /usr/local/lib/python3.7/dist-packages (from jina>=3.6.0->clip_server) (2.23.0)\n",
            "Requirement already satisfied: grpcio>=1.46.0 in /usr/local/lib/python3.7/dist-packages (from jina>=3.6.0->clip_server) (1.47.0)\n",
            "Requirement already satisfied: pydantic in /usr/local/lib/python3.7/dist-packages (from jina>=3.6.0->clip_server) (1.8.2)\n",
            "Collecting pyyaml>=5.3.1\n",
            "  Downloading PyYAML-6.0-cp37-cp37m-manylinux_2_5_x86_64.manylinux1_x86_64.manylinux_2_12_x86_64.manylinux2010_x86_64.whl (596 kB)\n",
            "\u001b[K     |████████████████████████████████| 596 kB 73.4 MB/s \n",
            "\u001b[?25hCollecting cryptography\n",
            "  Downloading cryptography-37.0.4-cp36-abi3-manylinux_2_24_x86_64.whl (4.1 MB)\n",
            "\u001b[K     |████████████████████████████████| 4.1 MB 45.3 MB/s \n",
            "\u001b[?25hCollecting fastapi>=0.76.0\n",
            "  Downloading fastapi-0.79.0-py3-none-any.whl (54 kB)\n",
            "\u001b[K     |████████████████████████████████| 54 kB 2.9 MB/s \n",
            "\u001b[?25hCollecting protobuf<=3.20.1,>=3.13.0\n",
            "  Downloading protobuf-3.20.1-cp37-cp37m-manylinux_2_5_x86_64.manylinux1_x86_64.whl (1.0 MB)\n",
            "\u001b[K     |████████████████████████████████| 1.0 MB 52.9 MB/s \n",
            "\u001b[?25hCollecting rich>=12.0.0\n",
            "  Downloading rich-12.5.1-py3-none-any.whl (235 kB)\n",
            "\u001b[K     |████████████████████████████████| 235 kB 60.5 MB/s \n",
            "\u001b[?25hCollecting lz4\n",
            "  Downloading lz4-4.0.1-cp37-cp37m-manylinux_2_17_x86_64.manylinux2014_x86_64.whl (1.2 MB)\n",
            "\u001b[K     |████████████████████████████████| 1.2 MB 50.9 MB/s \n",
            "\u001b[?25hRequirement already satisfied: matplotlib in /usr/local/lib/python3.7/dist-packages (from docarray>=0.13.14->jina>=3.6.0->clip_server) (3.2.2)\n",
            "Requirement already satisfied: Pillow in /usr/local/lib/python3.7/dist-packages (from docarray>=0.13.14->jina>=3.6.0->clip_server) (7.1.2)\n",
            "Collecting starlette==0.19.1\n",
            "  Downloading starlette-0.19.1-py3-none-any.whl (63 kB)\n",
            "\u001b[K     |████████████████████████████████| 63 kB 2.1 MB/s \n",
            "\u001b[?25hRequirement already satisfied: typing-extensions>=3.10.0 in /usr/local/lib/python3.7/dist-packages (from starlette==0.19.1->fastapi>=0.76.0->jina>=3.6.0->clip_server) (4.1.1)\n",
            "Collecting anyio<5,>=3.4.0\n",
            "  Downloading anyio-3.6.1-py3-none-any.whl (80 kB)\n",
            "\u001b[K     |████████████████████████████████| 80 kB 9.6 MB/s \n",
            "\u001b[?25hCollecting sniffio>=1.1\n",
            "  Downloading sniffio-1.2.0-py3-none-any.whl (10 kB)\n",
            "Requirement already satisfied: idna>=2.8 in /usr/local/lib/python3.7/dist-packages (from anyio<5,>=3.4.0->starlette==0.19.1->fastapi>=0.76.0->jina>=3.6.0->clip_server) (2.10)\n",
            "Requirement already satisfied: six>=1.5.2 in /usr/local/lib/python3.7/dist-packages (from grpcio>=1.46.0->jina>=3.6.0->clip_server) (1.15.0)\n",
            "Requirement already satisfied: pyparsing!=3.0.5,>=2.0.2 in /usr/local/lib/python3.7/dist-packages (from packaging>=20.0->jina>=3.6.0->clip_server) (3.0.9)\n",
            "Collecting commonmark<0.10.0,>=0.9.0\n",
            "  Downloading commonmark-0.9.1-py2.py3-none-any.whl (51 kB)\n",
            "\u001b[K     |████████████████████████████████| 51 kB 8.0 MB/s \n",
            "\u001b[?25hRequirement already satisfied: pygments<3.0.0,>=2.6.0 in /usr/local/lib/python3.7/dist-packages (from rich>=12.0.0->docarray>=0.13.14->jina>=3.6.0->clip_server) (2.6.1)\n",
            "Requirement already satisfied: attrs>=17.3.0 in /usr/local/lib/python3.7/dist-packages (from aiohttp->jina>=3.6.0->clip_server) (21.4.0)\n",
            "Collecting async-timeout<5.0,>=4.0.0a3\n",
            "  Downloading async_timeout-4.0.2-py3-none-any.whl (5.8 kB)\n",
            "Collecting frozenlist>=1.1.1\n",
            "  Downloading frozenlist-1.3.0-cp37-cp37m-manylinux_2_5_x86_64.manylinux1_x86_64.manylinux_2_17_x86_64.manylinux2014_x86_64.whl (144 kB)\n",
            "\u001b[K     |████████████████████████████████| 144 kB 73.5 MB/s \n",
            "\u001b[?25hCollecting multidict<7.0,>=4.5\n",
            "  Downloading multidict-6.0.2-cp37-cp37m-manylinux_2_17_x86_64.manylinux2014_x86_64.whl (94 kB)\n",
            "\u001b[K     |████████████████████████████████| 94 kB 2.8 MB/s \n",
            "\u001b[?25hCollecting aiosignal>=1.1.2\n",
            "  Downloading aiosignal-1.2.0-py3-none-any.whl (8.2 kB)\n",
            "Requirement already satisfied: charset-normalizer<3.0,>=2.0 in /usr/local/lib/python3.7/dist-packages (from aiohttp->jina>=3.6.0->clip_server) (2.1.0)\n",
            "Collecting yarl<2.0,>=1.0\n",
            "  Downloading yarl-1.7.2-cp37-cp37m-manylinux_2_5_x86_64.manylinux1_x86_64.manylinux_2_12_x86_64.manylinux2010_x86_64.whl (271 kB)\n",
            "\u001b[K     |████████████████████████████████| 271 kB 65.0 MB/s \n",
            "\u001b[?25hCollecting asynctest==0.13.0\n",
            "  Downloading asynctest-0.13.0-py3-none-any.whl (26 kB)\n",
            "Requirement already satisfied: cffi>=1.12 in /usr/local/lib/python3.7/dist-packages (from cryptography->jina>=3.6.0->clip_server) (1.15.1)\n",
            "Requirement already satisfied: pycparser in /usr/local/lib/python3.7/dist-packages (from cffi>=1.12->cryptography->jina>=3.6.0->clip_server) (2.21)\n",
            "Collecting websocket-client>=0.32.0\n",
            "  Downloading websocket_client-1.3.3-py3-none-any.whl (54 kB)\n",
            "\u001b[K     |████████████████████████████████| 54 kB 1.7 MB/s \n",
            "\u001b[?25hRequirement already satisfied: urllib3!=1.25.0,!=1.25.1,<1.26,>=1.21.1 in /usr/local/lib/python3.7/dist-packages (from requests->jina>=3.6.0->clip_server) (1.24.3)\n",
            "Requirement already satisfied: chardet<4,>=3.0.2 in /usr/local/lib/python3.7/dist-packages (from requests->jina>=3.6.0->clip_server) (3.0.4)\n",
            "Requirement already satisfied: certifi>=2017.4.17 in /usr/local/lib/python3.7/dist-packages (from requests->jina>=3.6.0->clip_server) (2022.6.15)\n",
            "Requirement already satisfied: wcwidth>=0.2.5 in /usr/local/lib/python3.7/dist-packages (from ftfy->clip_server) (0.2.5)\n",
            "Requirement already satisfied: kiwisolver>=1.0.1 in /usr/local/lib/python3.7/dist-packages (from matplotlib->docarray>=0.13.14->jina>=3.6.0->clip_server) (1.4.4)\n",
            "Requirement already satisfied: cycler>=0.10 in /usr/local/lib/python3.7/dist-packages (from matplotlib->docarray>=0.13.14->jina>=3.6.0->clip_server) (0.11.0)\n",
            "Requirement already satisfied: python-dateutil>=2.1 in /usr/local/lib/python3.7/dist-packages (from matplotlib->docarray>=0.13.14->jina>=3.6.0->clip_server) (2.8.2)\n",
            "Requirement already satisfied: click>=7.0 in /usr/local/lib/python3.7/dist-packages (from uvicorn[standard]->jina>=3.6.0->clip_server) (7.1.2)\n",
            "Collecting h11>=0.8\n",
            "  Downloading h11-0.13.0-py3-none-any.whl (58 kB)\n",
            "\u001b[K     |████████████████████████████████| 58 kB 4.3 MB/s \n",
            "\u001b[?25hCollecting httptools>=0.4.0\n",
            "  Downloading httptools-0.4.0-cp37-cp37m-manylinux_2_5_x86_64.manylinux1_x86_64.manylinux_2_12_x86_64.manylinux2010_x86_64.whl (406 kB)\n",
            "\u001b[K     |████████████████████████████████| 406 kB 70.2 MB/s \n",
            "\u001b[?25hCollecting watchfiles>=0.13\n",
            "  Downloading watchfiles-0.16.0-cp37-abi3-manylinux_2_12_x86_64.manylinux2010_x86_64.whl (1.2 MB)\n",
            "\u001b[K     |████████████████████████████████| 1.2 MB 48.3 MB/s \n",
            "\u001b[?25hCollecting python-dotenv>=0.13\n",
            "  Downloading python_dotenv-0.20.0-py3-none-any.whl (17 kB)\n",
            "Building wheels for collected packages: clip-server, jina, docarray, pyngrok, aiostream, python-multipart\n",
            "  Building wheel for clip-server (setup.py) ... \u001b[?25l\u001b[?25hdone\n",
            "  Created wheel for clip-server: filename=clip_server-0.4.20-py3-none-any.whl size=1387947 sha256=6ebc3c4688520c704f13fb8d3c86f8aadb359e237a421d260708f0315238a8c9\n",
            "  Stored in directory: /root/.cache/pip/wheels/76/65/cb/9df1a0bfc5c17f769fe0a9525fe17a2a42bc627ee0e1d819c1\n",
            "  Building wheel for jina (setup.py) ... \u001b[?25l\u001b[?25hdone\n",
            "  Created wheel for jina: filename=jina-3.7.0-py3-none-any.whl size=281006 sha256=1e654dc950b97ac6bb71ef76c337f29eefca4a194d8647d010d4ee8bbd9ae155\n",
            "  Stored in directory: /root/.cache/pip/wheels/09/0a/a7/196ecaec8f0a0b51583feb0912a5967b84116826e5e9ad9738\n",
            "  Building wheel for docarray (setup.py) ... \u001b[?25l\u001b[?25hdone\n",
            "  Created wheel for docarray: filename=docarray-0.13.33-py3-none-any.whl size=680320 sha256=10e04ec6f15b547328ee15544860d3c5b20d856fb7bf2d1a22bcee72a396ff77\n",
            "  Stored in directory: /root/.cache/pip/wheels/3f/f7/6f/dc4b72cff12a26075d8e7d850dce88ad5bf8b469dc9a12e39d\n",
            "  Building wheel for pyngrok (setup.py) ... \u001b[?25l\u001b[?25hdone\n",
            "  Created wheel for pyngrok: filename=pyngrok-5.1.0-py3-none-any.whl size=19007 sha256=f0b23a4e3c7419e18a342ea5fb4b5d1e5c92d604b583393c6953175fa9956852\n",
            "  Stored in directory: /root/.cache/pip/wheels/bf/e6/af/ccf6598ecefecd44104069371795cb9b3afbcd16987f6ccfb3\n",
            "  Building wheel for aiostream (setup.py) ... \u001b[?25l\u001b[?25hdone\n",
            "  Created wheel for aiostream: filename=aiostream-0.4.4-py3-none-any.whl size=35648 sha256=319a616f88d311a751c4e0c5e62e81c0301d7dd29e7953a7c1c02224a0f6a1db\n",
            "  Stored in directory: /root/.cache/pip/wheels/4f/21/19/0141f098b792ee743e77c609bc0d42e7742b1f66db58f56cd9\n",
            "  Building wheel for python-multipart (setup.py) ... \u001b[?25l\u001b[?25hdone\n",
            "  Created wheel for python-multipart: filename=python_multipart-0.0.5-py3-none-any.whl size=31678 sha256=776deb46969763e749193ede542eba9b91889ea1c5b2c8d4823f5dc6df926c13\n",
            "  Stored in directory: /root/.cache/pip/wheels/2c/41/7c/bfd1c180534ffdcc0972f78c5758f89881602175d48a8bcd2c\n",
            "Successfully built clip-server jina docarray pyngrok aiostream python-multipart\n",
            "Installing collected packages: sniffio, commonmark, anyio, starlette, rich, multidict, h11, frozenlist, yarl, websockets, websocket-client, watchfiles, uvloop, uvicorn, pyyaml, python-dotenv, protobuf, lz4, httptools, fastapi, docarray, asynctest, async-timeout, aiosignal, python-multipart, pathspec, grpcio-reflection, grpcio-health-checking, docker, cryptography, aiostream, aiohttp, aiofiles, jina, ftfy, pyngrok, clip-server\n",
            "  Attempting uninstall: pyyaml\n",
            "    Found existing installation: PyYAML 3.13\n",
            "    Uninstalling PyYAML-3.13:\n",
            "      Successfully uninstalled PyYAML-3.13\n",
            "  Attempting uninstall: protobuf\n",
            "    Found existing installation: protobuf 3.17.3\n",
            "    Uninstalling protobuf-3.17.3:\n",
            "      Successfully uninstalled protobuf-3.17.3\n",
            "\u001b[31mERROR: pip's dependency resolver does not currently take into account all the packages that are installed. This behaviour is the source of the following dependency conflicts.\n",
            "tensorflow 2.8.2+zzzcolab20220719082949 requires protobuf<3.20,>=3.9.2, but you have protobuf 3.20.1 which is incompatible.\u001b[0m\n",
            "Successfully installed aiofiles-0.8.0 aiohttp-3.8.1 aiosignal-1.2.0 aiostream-0.4.4 anyio-3.6.1 async-timeout-4.0.2 asynctest-0.13.0 clip-server-0.4.20 commonmark-0.9.1 cryptography-37.0.4 docarray-0.13.33 docker-5.0.3 fastapi-0.79.0 frozenlist-1.3.0 ftfy-6.1.1 grpcio-health-checking-1.47.0 grpcio-reflection-1.47.0 h11-0.13.0 httptools-0.4.0 jina-3.7.0 lz4-4.0.1 multidict-6.0.2 pathspec-0.9.0 protobuf-3.20.1 pyngrok-5.1.0 python-dotenv-0.20.0 python-multipart-0.0.5 pyyaml-6.0 rich-12.5.1 sniffio-1.2.0 starlette-0.19.1 uvicorn-0.18.2 uvloop-0.16.0 watchfiles-0.16.0 websocket-client-1.3.3 websockets-10.3 yarl-1.7.2\n"
          ]
        },
        {
          "output_type": "display_data",
          "data": {
            "application/vnd.colab-display-data+json": {
              "pip_warning": {
                "packages": [
                  "google"
                ]
              }
            }
          },
          "metadata": {}
        }
      ],
      "source": [
        "!pip install clip_server pyngrok"
      ]
    },
    {
      "cell_type": "markdown",
      "source": [
        "## 3. Config Flow YAML\n",
        "\n",
        "\n",
        "Unlike classic entrypoint from CLI, here we need to start the Flow in Python. Let's load use Pytorch backend and write a Flow YAML. Note that we need to load the torch Python file from `clip_server` installation, hence you see `cas_path` below. More available options [can be found here](https://github.com/jina-ai/clip-as-service/tree/main/server/clip_server/executors)."
      ],
      "metadata": {
        "id": "q3bmGKIvx5S-",
        "pycharm": {
          "name": "#%% md\n"
        }
      }
    },
    {
      "cell_type": "code",
      "source": [
        "import clip_server\n",
        "cas_path = clip_server.__path__[0]"
      ],
      "metadata": {
        "id": "nypR4g9EmgOj",
        "pycharm": {
          "name": "#%%\n"
        }
      },
      "execution_count": null,
      "outputs": []
    },
    {
      "cell_type": "markdown",
      "source": [
        "This YAML is directly [taken from this file](https://github.com/jina-ai/clip-as-service/blob/main/server/clip_server/torch-flow.yml). You can also customize it as you wish, [please check CLIP-as-service docs](https://clip-as-service.jina.ai/user-guides/server/#yaml-config)."
      ],
      "metadata": {
        "id": "5RVA1OD8ywOo",
        "pycharm": {
          "name": "#%% md\n"
        }
      }
    },
    {
      "cell_type": "code",
      "source": [
        "flow_yaml = f'''\n",
        "jtype: Flow\n",
        "with:\n",
        "  port: 51000\n",
        "executors:\n",
        "  - name: clip_t\n",
        "    uses:\n",
        "      jtype: CLIPEncoder\n",
        "      metas:\n",
        "        py_modules:\n",
        "          - {cas_path}/executors/clip_torch.py\n",
        "'''"
      ],
      "metadata": {
        "id": "q1BXWnXVkIZ8",
        "pycharm": {
          "name": "#%%\n"
        }
      },
      "execution_count": null,
      "outputs": []
    },
    {
      "cell_type": "code",
      "source": [
        "flow_yaml"
      ],
      "metadata": {
        "colab": {
          "base_uri": "https://localhost:8080/",
          "height": 53
        },
        "id": "Fb1PKf992rLj",
        "outputId": "a06b634a-5021-4b24-f3dc-a2c6b1d87524",
        "pycharm": {
          "name": "#%%\n"
        }
      },
      "execution_count": null,
      "outputs": [
        {
          "output_type": "execute_result",
          "data": {
            "text/plain": [
              "'\\njtype: Flow\\nwith:\\n  port: 51000\\nexecutors:\\n  - name: clip_t\\n    uses:\\n      jtype: CLIPEncoder\\n      metas:\\n        py_modules:\\n          - /usr/local/lib/python3.7/dist-packages/clip_server/executors/clip_torch.py\\n'"
            ],
            "application/vnd.google.colaboratory.intrinsic+json": {
              "type": "string"
            }
          },
          "metadata": {},
          "execution_count": 3
        }
      ]
    },
    {
      "cell_type": "markdown",
      "source": [
        "## 4. Start the Flow\n",
        "\n",
        "It may take a minute or so on the first start, as it will download the pretrained models. To select different pretrained models, [please check CLIP-as-service docs](https://clip-as-service.jina.ai/user-guides/server/#yaml-config)."
      ],
      "metadata": {
        "id": "GvAeaUf4y88e",
        "pycharm": {
          "name": "#%% md\n"
        }
      }
    },
    {
      "cell_type": "code",
      "source": [
        "from jina import Flow\n",
        "\n",
        "f = Flow.load_config(flow_yaml)\n",
        "f.start()"
      ],
      "metadata": {
        "id": "4UubypFpl8-K",
        "pycharm": {
          "name": "#%%\n"
        }
      },
      "execution_count": null,
      "outputs": []
    },
    {
      "cell_type": "markdown",
      "source": [
        "Remember to close it via `f.close()` when you don't use it. But let's keep it open for now."
      ],
      "metadata": {
        "id": "2BOYxmpd8YSE",
        "pycharm": {
          "name": "#%% md\n"
        }
      }
    },
    {
      "cell_type": "markdown",
      "source": [
        "## 5. Set up forwarding\n",
        "\n",
        "By default Flow uses gRPC protocol, it is highly-efficient and feature-rich. So in this tutorial, we will use gRPC protocol and use `ngrok` for forwarding. It is possible and in fact slighly easier to set up when using `Flow(protocol='http')`, [please read the turorial here](https://colab.research.google.com/github/jina-ai/jina/blob/master/docs/Using_Jina_on_Colab.ipynb#scrollTo=0ASjGLBhXono) here I won't repeat again.\n",
        "\n",
        "\n",
        "You will need to first sign up at https://dashboard.ngrok.com/signup (http do not need register, that's why I said it is easier)\n",
        "\n",
        "After signing up, you can get a token. Then simply add your token via (replacing `YOUR_TOKEN_HERE`)"
      ],
      "metadata": {
        "id": "1lTqYEwezDTP",
        "pycharm": {
          "name": "#%% md\n"
        }
      }
    },
    {
      "cell_type": "code",
      "source": [
        "!pip install pyngrok\n",
        "\n",
        "# remember to replace to your token! otherwise i can see your service, i mean i dont really have time to see it but nonetheless\n",
        "!ngrok authtoken 2ARsKtGKj47h7y4uXMQPrIeOinS_47Mkh6jkzNjFEJWuZYNEX"
      ],
      "metadata": {
        "id": "PYQPKek-oG1a",
        "pycharm": {
          "name": "#%%\n"
        }
      },
      "execution_count": null,
      "outputs": []
    },
    {
      "cell_type": "code",
      "source": [
        "!ngrok tcp 51000 --log \"stdout\""
      ],
      "metadata": {
        "id": "2Hacpj4qn9nx",
        "pycharm": {
          "name": "#%%\n"
        }
      },
      "execution_count": null,
      "outputs": []
    },
    {
      "cell_type": "markdown",
      "source": [
        "At the last line, you should see something like: \n",
        "\n",
        "```\n",
        "t=2022-06-11T20:29:11+0000 lvl=info msg=\"started tunnel\" obj=tunnels name=command_line addr=//localhost:54321 url=tcp://6.tcp.ngrok.io:18096\n",
        "```\n",
        "\n",
        "Grab the text after `url=tcp://` in my case it is `6.tcp.ngrok.io:18096`.\n",
        "\n",
        "Now build a client using this address from your local laptop/Python environment.\n",
        "\n",
        "Copy paste the code below to your local Python, remmeber to change your address.\n",
        "\n",
        "**Remember, if your last line is `url=tcp://6.tcp.ngrok.io:18096` then you should set `Client('grpc://6.tcp.ngrok.io:18096')`**\n",
        "\n",
        "### Try Embedding Task from Local\n",
        "\n",
        "```python\n",
        "# pip install clip-client\n",
        "from clip_client import Client\n",
        "\n",
        "c = Client('grpc://6.tcp.ngrok.io:18096')\n",
        "\n",
        "r = c.encode(\n",
        "    [\n",
        "        'First do it',\n",
        "        'then do it right',\n",
        "        'then do it better',\n",
        "        'https://picsum.photos/200',\n",
        "    ]\n",
        ")\n",
        "print(r)\n",
        "```\n",
        "\n",
        "And you will get \n",
        "\n",
        "```text\n",
        "[[ 0.03494263 -0.23510742  0.0104599  ... -0.5229492  -0.10021973\n",
        "  -0.08685303]\n",
        " [-0.06793213 -0.0032444   0.01506805 ... -0.50341797 -0.06143188\n",
        "  -0.08520508]\n",
        " [ 0.15063477 -0.07922363 -0.06530762 ... -0.46484375 -0.08526611\n",
        "   0.04324341]\n",
        " [-0.16088867  0.10552979 -0.20581055 ... -0.41381836  0.19543457\n",
        "   0.05718994]]\n",
        "```\n",
        "\n",
        "Showing the connection is success!\n",
        "\n",
        "\n",
        "### Try Ranking Task from Local\n",
        "\n",
        "```python\n",
        "from docarray import Document\n",
        "\n",
        "from clip_client import Client\n",
        "\n",
        "c = Client(server='grpc://6.tcp.ngrok.io:18096/rank')\n",
        "\n",
        "r = c.rank(\n",
        "    [\n",
        "        Document(\n",
        "            uri='https://picsum.photos/id/1/300/300',\n",
        "            matches=[\n",
        "                Document(text=f'a photo of a {p}')\n",
        "                for p in (\n",
        "                    'man',\n",
        "                    'woman',\n",
        "                )\n",
        "            ],\n",
        "        )\n",
        "    ]\n",
        ")\n",
        "\n",
        "print(r['@m', ['text', 'scores']])\n",
        "```\n",
        "\n",
        "```\n",
        "[['a photo of a man', 'a photo of a woman'], [defaultdict(<class 'docarray.score.NamedScore'>, {'clip_score': {'value': 0.5806832313537598, 'op_name': 'softmax'}, 'clip_score_cosine': {'value': 0.2178003191947937, 'op_name': 'cosine'}}), defaultdict(<class 'docarray.score.NamedScore'>, {'clip_score': {'value': 0.41931676864624023, 'op_name': 'softmax'}, 'clip_score_cosine': {'value': 0.21454453468322754, 'op_name': 'cosine'}})]]\n",
        "```\n",
        "\n",
        "\n",
        "Now enjoy the free GPU/TPU to build your awesome CAS applications!"
      ],
      "metadata": {
        "id": "Fzxt8j3Bz9Nu",
        "pycharm": {
          "name": "#%% md\n"
        }
      }
    },
    {
      "cell_type": "code",
      "source": [
        "f.close()"
      ],
      "metadata": {
        "id": "wzj0pb7qo56c",
        "pycharm": {
          "name": "#%%\n"
        }
      },
      "execution_count": null,
      "outputs": []
    },
    {
      "cell_type": "markdown",
      "source": [
        "# Push to the Limit\n",
        "\n",
        "Now let's use the biggest `ViT-L/14-336px` and fully leverage all VRAM with 4 replicas, lets see if it works.\t"
      ],
      "metadata": {
        "id": "c6yNVg69-vaw",
        "pycharm": {
          "name": "#%% md\n"
        }
      }
    },
    {
      "cell_type": "code",
      "source": [
        "flow_yaml = f'''\n",
        "jtype: Flow\n",
        "with:\n",
        "  port: 51000\n",
        "executors:\n",
        "  - name: clip_t\n",
        "    uses:\n",
        "      jtype: CLIPEncoder\n",
        "      metas:\n",
        "        py_modules:\n",
        "          - {cas_path}/executors/clip_torch.py\n",
        "    replicas: 4\n",
        "'''"
      ],
      "metadata": {
        "id": "uHHWk3WF_DaO",
        "pycharm": {
          "name": "#%%\n"
        }
      },
      "execution_count": null,
      "outputs": []
    },
    {
      "cell_type": "code",
      "source": [
        "from jina import Flow\n",
        "\n",
        "f = Flow.load_config(flow_yaml)\n",
        "f.start()"
      ],
      "metadata": {
        "id": "0AGcGasu_JIv",
        "pycharm": {
          "name": "#%%\n"
        }
      },
      "execution_count": null,
      "outputs": []
    },
    {
      "cell_type": "code",
      "source": [
        "!ngrok tcp 51000 --log \"stdout\""
      ],
      "metadata": {
        "id": "DQzvwOF3_K6U",
        "pycharm": {
          "name": "#%%\n"
        }
      },
      "execution_count": null,
      "outputs": []
    },
    {
      "cell_type": "markdown",
      "source": [
        "Yay it works!"
      ],
      "metadata": {
        "id": "8T2z6HXd_hKB",
        "pycharm": {
          "name": "#%% md\n"
        }
      }
    },
    {
      "cell_type": "code",
      "source": [
        ""
      ],
      "metadata": {
        "id": "4-y_vbHW_acV",
        "pycharm": {
          "name": "#%%\n"
        }
      },
      "execution_count": null,
      "outputs": []
    }
  ]
}